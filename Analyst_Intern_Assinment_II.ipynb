{
 "cells": [
  {
   "cell_type": "markdown",
   "id": "d276f677",
   "metadata": {},
   "source": [
    "<h2 style=\"color: rgb(31, 136, 217);\">Extracting Data From Text Files & Converting To Excel Worksheet</h2>"
   ]
  },
  {
   "cell_type": "code",
   "execution_count": 1,
   "id": "b3cc89e2-8ea0-48b8-80e2-cc9b71c584d5",
   "metadata": {},
   "outputs": [
    {
     "name": "stdout",
     "output_type": "stream",
     "text": [
      "Data successfully exported to 'C:\\Users\\rohit\\Downloads\\Analyst_Intern_Assignment_Python\\esv_data.xlsx'\n"
     ]
    }
   ],
   "source": [
    "import pandas as pd\n",
    "import json\n",
    "\n",
    "# First, I specify the file path where my data is stored.\n",
    "file_path = r\"C:\\Users\\rohit\\Downloads\\Analyst_Intern_Assignment_Python\\ESV DATA.txt\"\n",
    "\n",
    "# Now, I open the file and load its content as JSON.\n",
    "with open(file_path, 'r', encoding='utf-8') as file:\n",
    "    data = json.load(file)\n",
    "\n",
    "# I create an empty list to store the structured stock data.\n",
    "stock_data = []\n",
    "\n",
    "# Now, I loop through each stock in the dataset.\n",
    "for stock_name, stock_info in data.items():\n",
    "    # Each stock has multiple data entries, so I iterate through them.\n",
    "    for entry in stock_info['DATA']:\n",
    "        # I create a dictionary to store the extracted data for this stock entry.\n",
    "        flattened_data = {'STOCK': stock_name}\n",
    "        \n",
    "        # Now, I loop through the different timeframes available in the entry.\n",
    "        for timeframe, metrics in entry.items():\n",
    "            # I ignore '_id' and 'STOCK' as they are not needed.\n",
    "            if timeframe not in ['_id', 'STOCK']:\n",
    "                # Now, I extract each metric and its value within the timeframe.\n",
    "                for metric, value in metrics.items():\n",
    "                    # I store the values with a structured key format.\n",
    "                    flattened_data[f\"{timeframe}_{metric}\"] = value\n",
    "        \n",
    "        # After processing all timeframes, I add the structured data to my list.\n",
    "        stock_data.append(flattened_data)\n",
    "\n",
    "# Now, I convert the structured list into a DataFrame.\n",
    "esv_df = pd.DataFrame(stock_data)\n",
    "\n",
    "# I define the output path where I want to save the Excel file.\n",
    "output_path = r\"C:\\Users\\rohit\\Downloads\\Analyst_Intern_Assignment_Python\\esv_data.xlsx\"\n",
    "\n",
    "# This line saves the DataFrame to an Excel file (currently commented out).\n",
    "# esv_df.to_excel(output_path, index=False)\n",
    "\n",
    "# If needed, I can print the first two rows to check the data (commented out for now).\n",
    "# print(esv_df.head(2))\n",
    "\n",
    "# Finally, I print a message to confirm that the export was successful.\n",
    "print(f\"Data successfully exported to '{output_path}'\")\n"
   ]
  },
  {
   "cell_type": "code",
   "execution_count": 2,
   "id": "9808ee9b-7299-47ed-b1d9-b0ac7e3b518f",
   "metadata": {},
   "outputs": [
    {
     "name": "stdout",
     "output_type": "stream",
     "text": [
      "Data successfully exported to 'C:\\Users\\rohit\\Downloads\\Analyst_Intern_Assignment_Python\\hover_data.xlsx'\n"
     ]
    }
   ],
   "source": [
    "import pandas as pd\n",
    "import json\n",
    "\n",
    "# First, I specify the file path where the data is stored.\n",
    "file_path = r\"C:\\Users\\rohit\\Downloads\\Analyst_Intern_Assignment_Python\\HOVER DATA.txt\"\n",
    "\n",
    "# Now, I open the file and load its content as JSON.\n",
    "with open(file_path, 'r', encoding='utf-8') as file:\n",
    "    data = json.load(file)\n",
    "\n",
    "# I create an empty list to store the structured stock data.\n",
    "stock_data = []\n",
    "\n",
    "# Now, I loop through each stock in the dataset.\n",
    "for stock_name, stock_info in data.items():\n",
    "    # Each stock has multiple data entries, so I iterate through them.\n",
    "    for entry in stock_info['DATA']:\n",
    "        # I create a dictionary to store the extracted data for this stock entry.\n",
    "        flattened_data = {'STOCK': stock_name}\n",
    "        \n",
    "        # Now, I loop through the different timeframes available in the entry.\n",
    "        for timeframe, metrics in entry.items():\n",
    "            # I ignore '_id' and 'STOCK' as they are not needed.\n",
    "            if timeframe not in ['_id', 'STOCK']:\n",
    "                # Now, I extract each metric and its value within the timeframe.\n",
    "                for metric, value in metrics.items():\n",
    "                    # I store the values with a structured key format.\n",
    "                    flattened_data[f\"{timeframe}_{metric}\"] = value\n",
    "        \n",
    "        # After processing all timeframes, I add the structured data to my list.\n",
    "        stock_data.append(flattened_data)\n",
    "\n",
    "# Now, I convert the structured list into a DataFrame.\n",
    "hover_df = pd.DataFrame(stock_data)\n",
    "\n",
    "# I define the output path where I want to save the Excel file.\n",
    "output_path = r\"C:\\Users\\rohit\\Downloads\\Analyst_Intern_Assignment_Python\\hover_data.xlsx\"\n",
    "\n",
    "# This line saves the DataFrame to an Excel file (currently commented out).\n",
    "# hover_df.to_excel(output_path, index=False)\n",
    "\n",
    "# Finally, I print a message to confirm that the export was successful.\n",
    "print(f\"Data successfully exported to '{output_path}'\")\n"
   ]
  },
  {
   "cell_type": "markdown",
   "id": "250715b4",
   "metadata": {},
   "source": [
    "<h2 style=\"color: rgb(31, 136, 217);\">Stock Selection</h2>"
   ]
  },
  {
   "cell_type": "code",
   "execution_count": 3,
   "id": "734df0e0",
   "metadata": {},
   "outputs": [
    {
     "data": {
      "text/html": [
       "<div>\n",
       "<style scoped>\n",
       "    .dataframe tbody tr th:only-of-type {\n",
       "        vertical-align: middle;\n",
       "    }\n",
       "\n",
       "    .dataframe tbody tr th {\n",
       "        vertical-align: top;\n",
       "    }\n",
       "\n",
       "    .dataframe thead th {\n",
       "        text-align: right;\n",
       "    }\n",
       "</style>\n",
       "<table border=\"1\" class=\"dataframe\">\n",
       "  <thead>\n",
       "    <tr style=\"text-align: right;\">\n",
       "      <th></th>\n",
       "      <th>Investment Amount</th>\n",
       "      <th>Number of Stocks</th>\n",
       "    </tr>\n",
       "  </thead>\n",
       "  <tbody>\n",
       "    <tr>\n",
       "      <th>0</th>\n",
       "      <td>₹400</td>\n",
       "      <td>0</td>\n",
       "    </tr>\n",
       "    <tr>\n",
       "      <th>1</th>\n",
       "      <td>₹25,000</td>\n",
       "      <td>3</td>\n",
       "    </tr>\n",
       "    <tr>\n",
       "      <th>2</th>\n",
       "      <td>₹75,000</td>\n",
       "      <td>4</td>\n",
       "    </tr>\n",
       "    <tr>\n",
       "      <th>3</th>\n",
       "      <td>₹1,000,000</td>\n",
       "      <td>4</td>\n",
       "    </tr>\n",
       "    <tr>\n",
       "      <th>4</th>\n",
       "      <td>₹1,000,001</td>\n",
       "      <td>5</td>\n",
       "    </tr>\n",
       "    <tr>\n",
       "      <th>5</th>\n",
       "      <td>₹1,500,000</td>\n",
       "      <td>5</td>\n",
       "    </tr>\n",
       "  </tbody>\n",
       "</table>\n",
       "</div>"
      ],
      "text/plain": [
       "  Investment Amount  Number of Stocks\n",
       "0              ₹400                 0\n",
       "1           ₹25,000                 3\n",
       "2           ₹75,000                 4\n",
       "3        ₹1,000,000                 4\n",
       "4        ₹1,000,001                 5\n",
       "5        ₹1,500,000                 5"
      ]
     },
     "execution_count": 3,
     "metadata": {},
     "output_type": "execute_result"
    }
   ],
   "source": [
    "def get_stock_count(investment_amount):\n",
    "    # If the investment is less than ₹500, no stocks are allocated.\n",
    "    if investment_amount < 500:\n",
    "        return 0\n",
    "    # If the investment is between ₹500 and ₹50,000 (inclusive), allocate 3 stocks.\n",
    "    elif 500 <= investment_amount < 50001:  # Includes ₹50,000 in the 4-stock category\n",
    "        return 3\n",
    "    # If the investment is between ₹50,001 and ₹10,00,000 (inclusive), allocate 4 stocks.\n",
    "    elif 50001 <= investment_amount <= 1000000:\n",
    "        return 4\n",
    "    # If the investment exceeds ₹10,00,000, allocate 5 stocks.\n",
    "    else:\n",
    "        return 5\n",
    "\n",
    "\n",
    "# Now, I create a DataFrame with different investment amounts to test the function.\n",
    "investment_data = pd.DataFrame({\n",
    "    'Investment Amount': [400, 25000, 75000, 1000000, 1000001, 1500000]\n",
    "})\n",
    "\n",
    "# I apply the function to each investment amount to determine the number of stocks.\n",
    "investment_data['Number of Stocks'] = investment_data['Investment Amount'].apply(get_stock_count)\n",
    "\n",
    "# I format the 'Investment Amount' column to display values with currency formatting (₹ and commas).\n",
    "investment_data['Investment Amount'] = investment_data['Investment Amount'].apply(lambda x: f\"₹{x:,}\")\n",
    "\n",
    "# Finally, I display the updated DataFrame with investment amounts and their corresponding stock counts.\n",
    "investment_data\n"
   ]
  },
  {
   "cell_type": "markdown",
   "id": "1d14ec06",
   "metadata": {},
   "source": [
    "<h2 style=\"color: rgb(31, 136, 217);\">Investment Amount Capping</h2>"
   ]
  },
  {
   "cell_type": "code",
   "execution_count": 4,
   "id": "d9a561a7",
   "metadata": {},
   "outputs": [
    {
     "data": {
      "text/html": [
       "<div>\n",
       "<style scoped>\n",
       "    .dataframe tbody tr th:only-of-type {\n",
       "        vertical-align: middle;\n",
       "    }\n",
       "\n",
       "    .dataframe tbody tr th {\n",
       "        vertical-align: top;\n",
       "    }\n",
       "\n",
       "    .dataframe thead th {\n",
       "        text-align: right;\n",
       "    }\n",
       "</style>\n",
       "<table border=\"1\" class=\"dataframe\">\n",
       "  <thead>\n",
       "    <tr style=\"text-align: right;\">\n",
       "      <th></th>\n",
       "      <th>Total Investment</th>\n",
       "      <th>Number of Stocks</th>\n",
       "      <th>Max Amount Per Stock</th>\n",
       "    </tr>\n",
       "  </thead>\n",
       "  <tbody>\n",
       "    <tr>\n",
       "      <th>0</th>\n",
       "      <td>₹400</td>\n",
       "      <td>0</td>\n",
       "      <td>N/A</td>\n",
       "    </tr>\n",
       "    <tr>\n",
       "      <th>1</th>\n",
       "      <td>₹501</td>\n",
       "      <td>3</td>\n",
       "      <td>₹167.00</td>\n",
       "    </tr>\n",
       "    <tr>\n",
       "      <th>2</th>\n",
       "      <td>₹25,000</td>\n",
       "      <td>3</td>\n",
       "      <td>₹8,333.33</td>\n",
       "    </tr>\n",
       "    <tr>\n",
       "      <th>3</th>\n",
       "      <td>₹75,000</td>\n",
       "      <td>4</td>\n",
       "      <td>₹18,750.00</td>\n",
       "    </tr>\n",
       "    <tr>\n",
       "      <th>4</th>\n",
       "      <td>₹1,500,000</td>\n",
       "      <td>5</td>\n",
       "      <td>₹300,000.00</td>\n",
       "    </tr>\n",
       "  </tbody>\n",
       "</table>\n",
       "</div>"
      ],
      "text/plain": [
       "  Total Investment  Number of Stocks Max Amount Per Stock\n",
       "0             ₹400                 0                  N/A\n",
       "1             ₹501                 3              ₹167.00\n",
       "2          ₹25,000                 3            ₹8,333.33\n",
       "3          ₹75,000                 4           ₹18,750.00\n",
       "4       ₹1,500,000                 5          ₹300,000.00"
      ]
     },
     "execution_count": 4,
     "metadata": {},
     "output_type": "execute_result"
    }
   ],
   "source": [
    "def calculate_max_per_stock(investment_amount):\n",
    "    # First, I determine how many stocks should be allocated for the given investment.\n",
    "    stock_count = get_stock_count(investment_amount)\n",
    "    \n",
    "    # If no stocks are allocated (investment is too low), return 0 to avoid division by zero.\n",
    "    if stock_count == 0:\n",
    "        return 0\n",
    "    else:\n",
    "        # Otherwise, I calculate the maximum amount that can be allocated per stock.\n",
    "        max_per_stock = investment_amount / stock_count\n",
    "        return max_per_stock\n",
    "\n",
    "\n",
    "# Now, I define a list of test investment amounts to check the function.\n",
    "test_amounts = [400, 501, 25000, 75000, 1500000]\n",
    "results = []\n",
    "\n",
    "# I loop through each investment amount to calculate the number of stocks and max allocation per stock.\n",
    "for amount in test_amounts:\n",
    "    stock_count = get_stock_count(amount)\n",
    "    max_per_stock = calculate_max_per_stock(amount)\n",
    "    \n",
    "    # I format the results for better readability and append them to the list.\n",
    "    results.append([\n",
    "        f\"₹{amount:,}\",  # Format total investment with commas\n",
    "        stock_count,  # Store the number of stocks\n",
    "        f\"₹{max_per_stock:,.2f}\" if max_per_stock > 0 else \"N/A\"  # Format max amount per stock with two decimal places\n",
    "    ])\n",
    "\n",
    "# Now, I create a DataFrame to neatly display the results.\n",
    "import pandas as pd\n",
    "df = pd.DataFrame(results, columns=['Total Investment', 'Number of Stocks', 'Max Amount Per Stock'])\n",
    "\n",
    "# Finally, I return the DataFrame to visualize the results.\n",
    "df\n"
   ]
  },
  {
   "cell_type": "markdown",
   "id": "92fa74d6",
   "metadata": {},
   "source": [
    "<h2 style=\"color: rgb(31, 136, 217);\">Stock Filtering</h2>"
   ]
  },
  {
   "cell_type": "code",
   "execution_count": 5,
   "id": "a31502fd",
   "metadata": {},
   "outputs": [
    {
     "name": "stdout",
     "output_type": "stream",
     "text": [
      "STOCK\n",
      "TORNTPHARM    71\n",
      "TITAN         70\n",
      "MUTHOOTFIN    65\n",
      "TCI           62\n",
      "GODREJPROP    60\n",
      "              ..\n",
      "ATUL           1\n",
      "JKPAPER        1\n",
      "SUMICHEM       1\n",
      "UFLEX          1\n",
      "HGS            1\n",
      "Name: count, Length: 350, dtype: int64\n"
     ]
    }
   ],
   "source": [
    "# First, I convert the 'DateTime_$date' column in both DataFrames to Date format for easier analysis.\n",
    "esv_df['DateTime_$date'] = pd.to_datetime(esv_df['DateTime_$date']).dt.date\n",
    "hover_df['DateTime_$date'] = pd.to_datetime(hover_df['DateTime_$date']).dt.date\n",
    "\n",
    "# Next, I convert specific columns in hover_df to numeric format while optimizing memory usage.\n",
    "hover_df['D_RSI'] = pd.to_numeric(hover_df['D_RSI'], errors='coerce', downcast='float')\n",
    "hover_df['M_RSI'] = pd.to_numeric(hover_df['M_RSI'], errors='coerce', downcast='float')\n",
    "hover_df['W_RSI'] = pd.to_numeric(hover_df['W_RSI'], errors='coerce', downcast='float')\n",
    "\n",
    "# Similarly, I convert the 'D_PDEMA20' column in esv_df to numeric format with memory optimization.\n",
    "esv_df['D_PDEMA20'] = pd.to_numeric(esv_df['D_PDEMA20'], errors='coerce', downcast='float')\n",
    "\n",
    "# Now, I aggregate esv_df by 'STOCK' to prevent data loss.\n",
    "esv_agg_df = esv_df.groupby('STOCK', as_index=False).agg({\n",
    "    'D_PDEMA20': 'mean'  # I use 'mean' here, but it can be replaced with 'min' or 'max' based on the analysis needs.\n",
    "})\n",
    "\n",
    "# I merge hover_df with the aggregated esv_df using an inner join on 'STOCK'.\n",
    "merged_df = pd.merge(hover_df, esv_agg_df, on='STOCK', how='inner')\n",
    "\n",
    "# Now, I apply multiple filtering conditions to extract relevant stocks.\n",
    "filtered_df = merged_df[\n",
    "    (merged_df['D_MP200'] == 'DPA200') &  # Daily moving average condition\n",
    "    (merged_df['D_MP50'] == 'DPA50') &    # Daily moving average condition\n",
    "    (merged_df['D_RSI'] > 60) &           # Daily RSI should be greater than 60\n",
    "    (merged_df['D_RSI'] < 85) &           # Daily RSI should be less than 85\n",
    "    (merged_df['M_RSI'] > 40) &           # Monthly RSI should be greater than 40\n",
    "    (merged_df['W_RSI'] > 40) &           # Weekly RSI should be greater than 40\n",
    "    (merged_df['H_MP50'] == 'HPA50') &    # Hourly moving average condition\n",
    "    (merged_df['H_MCo'] == 'HBUCO') &     # Hourly momentum condition\n",
    "    (merged_df['D_PDEMA20'] > -2) &       # Daily PDEMA20 should be between -2 and 2\n",
    "    (merged_df['D_PDEMA20'] < 2)\n",
    "]\n",
    "\n",
    "# Finally, I count the occurrences of each stock in the filtered dataset and sort them in descending order.\n",
    "row_counts = filtered_df['STOCK'].value_counts().sort_values(ascending=False)\n",
    "\n",
    "# I print the stock count results to see which stocks meet the filtering criteria the most.\n",
    "print(row_counts)\n"
   ]
  },
  {
   "cell_type": "code",
   "execution_count": 6,
   "id": "084c3844",
   "metadata": {},
   "outputs": [],
   "source": [
    "# %pip install scipy"
   ]
  },
  {
   "cell_type": "markdown",
   "id": "ec5f0ffe",
   "metadata": {},
   "source": [
    "<h2 style=\"color: rgb(31, 136, 217);\">Statistical Analysis</h2>"
   ]
  },
  {
   "cell_type": "code",
   "execution_count": 7,
   "id": "8f10ed1f",
   "metadata": {},
   "outputs": [
    {
     "name": "stdout",
     "output_type": "stream",
     "text": [
      "T-Statistic: 162.6451, P-Value: 0.0000\n",
      "Reject the null hypothesis: The mean of D_PDEMA20 is statistically different from 0.\n",
      "Pearson Correlation: 0.0912, P-Value: 0.0000\n"
     ]
    }
   ],
   "source": [
    "from scipy import stats\n",
    "\n",
    "# I perform a one-sample t-test to check if the mean of 'D_PDEMA20' is significantly different from 0.\n",
    "t_stat, p_value = stats.ttest_1samp(filtered_df['D_PDEMA20'].dropna(), 0)\n",
    "\n",
    "# I display the t-statistic and p-value to interpret the test results.\n",
    "print(f\"T-Statistic: {t_stat:.4f}, P-Value: {p_value:.4f}\")\n",
    "\n",
    "# Now, I set a significance level (alpha) to 0.05 for hypothesis testing.\n",
    "alpha = 0.05  \n",
    "\n",
    "# If the p-value is less than alpha, I reject the null hypothesis, indicating a significant difference.\n",
    "if p_value < alpha:\n",
    "    print(\"Reject the null hypothesis: The mean of D_PDEMA20 is statistically different from 0.\")\n",
    "else:\n",
    "    # Otherwise, I fail to reject the null hypothesis, meaning there's no significant difference.\n",
    "    print(\"Fail to reject the null hypothesis: No significant difference from 0.\")\n",
    "\n",
    "# Next, I calculate the Pearson correlation to measure the linear relationship between 'D_PDEMA20' and 'D_RSI'.\n",
    "correlation, p_value = stats.pearsonr(filtered_df['D_PDEMA20'].dropna(), filtered_df['D_RSI'].dropna())\n",
    "\n",
    "# I print the correlation coefficient and p-value to analyze the strength and significance of the correlation.\n",
    "print(f\"Pearson Correlation: {correlation:.4f}, P-Value: {p_value:.4f}\")\n"
   ]
  },
  {
   "cell_type": "markdown",
   "id": "8d2727dc",
   "metadata": {},
   "source": [
    "<h2 style=\"color: rgb(31, 136, 217);\">Statistical Analysis Visualization</h2>"
   ]
  },
  {
   "cell_type": "code",
   "execution_count": 8,
   "id": "f61edf69",
   "metadata": {},
   "outputs": [
    {
     "data": {
      "application/vnd.plotly.v1+json": {
       "config": {
        "plotlyServerURL": "https://plot.ly"
       },
       "data": [
        {
         "hovertemplate": "D_PDEMA20=%{x}<br>D_RSI=%{y}<extra></extra>",
         "legendgroup": "",
         "marker": {
          "color": "#636efa",
          "opacity": 0.6,
          "symbol": "circle"
         },
         "mode": "markers",
         "name": "",
         "orientation": "v",
         "showlegend": false,
         "type": "scatter",
         "x": {
          "bdata": "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",
          "dtype": "f8"
         },
         "xaxis": "x",
         "y": {
          "bdata": "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",
          "dtype": "f8"
         },
         "yaxis": "y"
        }
       ],
       "layout": {
        "height": 550,
        "legend": {
         "tracegroupgap": 0
        },
        "margin": {
         "b": 50,
         "l": 15,
         "r": 15,
         "t": 80
        },
        "shapes": [
         {
          "line": {
           "color": "gray",
           "dash": "dash"
          },
          "type": "line",
          "x0": 0,
          "x1": 1,
          "xref": "x domain",
          "y0": 0,
          "y1": 0,
          "yref": "y"
         },
         {
          "line": {
           "color": "gray",
           "dash": "dash"
          },
          "type": "line",
          "x0": 0,
          "x1": 0,
          "xref": "x",
          "y0": 0,
          "y1": 1,
          "yref": "y domain"
         }
        ],
        "template": {
         "data": {
          "bar": [
           {
            "error_x": {
             "color": "#2a3f5f"
            },
            "error_y": {
             "color": "#2a3f5f"
            },
            "marker": {
             "line": {
              "color": "#E5ECF6",
              "width": 0.5
             },
             "pattern": {
              "fillmode": "overlay",
              "size": 10,
              "solidity": 0.2
             }
            },
            "type": "bar"
           }
          ],
          "barpolar": [
           {
            "marker": {
             "line": {
              "color": "#E5ECF6",
              "width": 0.5
             },
             "pattern": {
              "fillmode": "overlay",
              "size": 10,
              "solidity": 0.2
             }
            },
            "type": "barpolar"
           }
          ],
          "carpet": [
           {
            "aaxis": {
             "endlinecolor": "#2a3f5f",
             "gridcolor": "white",
             "linecolor": "white",
             "minorgridcolor": "white",
             "startlinecolor": "#2a3f5f"
            },
            "baxis": {
             "endlinecolor": "#2a3f5f",
             "gridcolor": "white",
             "linecolor": "white",
             "minorgridcolor": "white",
             "startlinecolor": "#2a3f5f"
            },
            "type": "carpet"
           }
          ],
          "choropleth": [
           {
            "colorbar": {
             "outlinewidth": 0,
             "ticks": ""
            },
            "type": "choropleth"
           }
          ],
          "contour": [
           {
            "colorbar": {
             "outlinewidth": 0,
             "ticks": ""
            },
            "colorscale": [
             [
              0,
              "#0d0887"
             ],
             [
              0.1111111111111111,
              "#46039f"
             ],
             [
              0.2222222222222222,
              "#7201a8"
             ],
             [
              0.3333333333333333,
              "#9c179e"
             ],
             [
              0.4444444444444444,
              "#bd3786"
             ],
             [
              0.5555555555555556,
              "#d8576b"
             ],
             [
              0.6666666666666666,
              "#ed7953"
             ],
             [
              0.7777777777777778,
              "#fb9f3a"
             ],
             [
              0.8888888888888888,
              "#fdca26"
             ],
             [
              1,
              "#f0f921"
             ]
            ],
            "type": "contour"
           }
          ],
          "contourcarpet": [
           {
            "colorbar": {
             "outlinewidth": 0,
             "ticks": ""
            },
            "type": "contourcarpet"
           }
          ],
          "heatmap": [
           {
            "colorbar": {
             "outlinewidth": 0,
             "ticks": ""
            },
            "colorscale": [
             [
              0,
              "#0d0887"
             ],
             [
              0.1111111111111111,
              "#46039f"
             ],
             [
              0.2222222222222222,
              "#7201a8"
             ],
             [
              0.3333333333333333,
              "#9c179e"
             ],
             [
              0.4444444444444444,
              "#bd3786"
             ],
             [
              0.5555555555555556,
              "#d8576b"
             ],
             [
              0.6666666666666666,
              "#ed7953"
             ],
             [
              0.7777777777777778,
              "#fb9f3a"
             ],
             [
              0.8888888888888888,
              "#fdca26"
             ],
             [
              1,
              "#f0f921"
             ]
            ],
            "type": "heatmap"
           }
          ],
          "histogram": [
           {
            "marker": {
             "pattern": {
              "fillmode": "overlay",
              "size": 10,
              "solidity": 0.2
             }
            },
            "type": "histogram"
           }
          ],
          "histogram2d": [
           {
            "colorbar": {
             "outlinewidth": 0,
             "ticks": ""
            },
            "colorscale": [
             [
              0,
              "#0d0887"
             ],
             [
              0.1111111111111111,
              "#46039f"
             ],
             [
              0.2222222222222222,
              "#7201a8"
             ],
             [
              0.3333333333333333,
              "#9c179e"
             ],
             [
              0.4444444444444444,
              "#bd3786"
             ],
             [
              0.5555555555555556,
              "#d8576b"
             ],
             [
              0.6666666666666666,
              "#ed7953"
             ],
             [
              0.7777777777777778,
              "#fb9f3a"
             ],
             [
              0.8888888888888888,
              "#fdca26"
             ],
             [
              1,
              "#f0f921"
             ]
            ],
            "type": "histogram2d"
           }
          ],
          "histogram2dcontour": [
           {
            "colorbar": {
             "outlinewidth": 0,
             "ticks": ""
            },
            "colorscale": [
             [
              0,
              "#0d0887"
             ],
             [
              0.1111111111111111,
              "#46039f"
             ],
             [
              0.2222222222222222,
              "#7201a8"
             ],
             [
              0.3333333333333333,
              "#9c179e"
             ],
             [
              0.4444444444444444,
              "#bd3786"
             ],
             [
              0.5555555555555556,
              "#d8576b"
             ],
             [
              0.6666666666666666,
              "#ed7953"
             ],
             [
              0.7777777777777778,
              "#fb9f3a"
             ],
             [
              0.8888888888888888,
              "#fdca26"
             ],
             [
              1,
              "#f0f921"
             ]
            ],
            "type": "histogram2dcontour"
           }
          ],
          "mesh3d": [
           {
            "colorbar": {
             "outlinewidth": 0,
             "ticks": ""
            },
            "type": "mesh3d"
           }
          ],
          "parcoords": [
           {
            "line": {
             "colorbar": {
              "outlinewidth": 0,
              "ticks": ""
             }
            },
            "type": "parcoords"
           }
          ],
          "pie": [
           {
            "automargin": true,
            "type": "pie"
           }
          ],
          "scatter": [
           {
            "fillpattern": {
             "fillmode": "overlay",
             "size": 10,
             "solidity": 0.2
            },
            "type": "scatter"
           }
          ],
          "scatter3d": [
           {
            "line": {
             "colorbar": {
              "outlinewidth": 0,
              "ticks": ""
             }
            },
            "marker": {
             "colorbar": {
              "outlinewidth": 0,
              "ticks": ""
             }
            },
            "type": "scatter3d"
           }
          ],
          "scattercarpet": [
           {
            "marker": {
             "colorbar": {
              "outlinewidth": 0,
              "ticks": ""
             }
            },
            "type": "scattercarpet"
           }
          ],
          "scattergeo": [
           {
            "marker": {
             "colorbar": {
              "outlinewidth": 0,
              "ticks": ""
             }
            },
            "type": "scattergeo"
           }
          ],
          "scattergl": [
           {
            "marker": {
             "colorbar": {
              "outlinewidth": 0,
              "ticks": ""
             }
            },
            "type": "scattergl"
           }
          ],
          "scattermap": [
           {
            "marker": {
             "colorbar": {
              "outlinewidth": 0,
              "ticks": ""
             }
            },
            "type": "scattermap"
           }
          ],
          "scattermapbox": [
           {
            "marker": {
             "colorbar": {
              "outlinewidth": 0,
              "ticks": ""
             }
            },
            "type": "scattermapbox"
           }
          ],
          "scatterpolar": [
           {
            "marker": {
             "colorbar": {
              "outlinewidth": 0,
              "ticks": ""
             }
            },
            "type": "scatterpolar"
           }
          ],
          "scatterpolargl": [
           {
            "marker": {
             "colorbar": {
              "outlinewidth": 0,
              "ticks": ""
             }
            },
            "type": "scatterpolargl"
           }
          ],
          "scatterternary": [
           {
            "marker": {
             "colorbar": {
              "outlinewidth": 0,
              "ticks": ""
             }
            },
            "type": "scatterternary"
           }
          ],
          "surface": [
           {
            "colorbar": {
             "outlinewidth": 0,
             "ticks": ""
            },
            "colorscale": [
             [
              0,
              "#0d0887"
             ],
             [
              0.1111111111111111,
              "#46039f"
             ],
             [
              0.2222222222222222,
              "#7201a8"
             ],
             [
              0.3333333333333333,
              "#9c179e"
             ],
             [
              0.4444444444444444,
              "#bd3786"
             ],
             [
              0.5555555555555556,
              "#d8576b"
             ],
             [
              0.6666666666666666,
              "#ed7953"
             ],
             [
              0.7777777777777778,
              "#fb9f3a"
             ],
             [
              0.8888888888888888,
              "#fdca26"
             ],
             [
              1,
              "#f0f921"
             ]
            ],
            "type": "surface"
           }
          ],
          "table": [
           {
            "cells": {
             "fill": {
              "color": "#EBF0F8"
             },
             "line": {
              "color": "white"
             }
            },
            "header": {
             "fill": {
              "color": "#C8D4E3"
             },
             "line": {
              "color": "white"
             }
            },
            "type": "table"
           }
          ]
         },
         "layout": {
          "annotationdefaults": {
           "arrowcolor": "#2a3f5f",
           "arrowhead": 0,
           "arrowwidth": 1
          },
          "autotypenumbers": "strict",
          "coloraxis": {
           "colorbar": {
            "outlinewidth": 0,
            "ticks": ""
           }
          },
          "colorscale": {
           "diverging": [
            [
             0,
             "#8e0152"
            ],
            [
             0.1,
             "#c51b7d"
            ],
            [
             0.2,
             "#de77ae"
            ],
            [
             0.3,
             "#f1b6da"
            ],
            [
             0.4,
             "#fde0ef"
            ],
            [
             0.5,
             "#f7f7f7"
            ],
            [
             0.6,
             "#e6f5d0"
            ],
            [
             0.7,
             "#b8e186"
            ],
            [
             0.8,
             "#7fbc41"
            ],
            [
             0.9,
             "#4d9221"
            ],
            [
             1,
             "#276419"
            ]
           ],
           "sequential": [
            [
             0,
             "#0d0887"
            ],
            [
             0.1111111111111111,
             "#46039f"
            ],
            [
             0.2222222222222222,
             "#7201a8"
            ],
            [
             0.3333333333333333,
             "#9c179e"
            ],
            [
             0.4444444444444444,
             "#bd3786"
            ],
            [
             0.5555555555555556,
             "#d8576b"
            ],
            [
             0.6666666666666666,
             "#ed7953"
            ],
            [
             0.7777777777777778,
             "#fb9f3a"
            ],
            [
             0.8888888888888888,
             "#fdca26"
            ],
            [
             1,
             "#f0f921"
            ]
           ],
           "sequentialminus": [
            [
             0,
             "#0d0887"
            ],
            [
             0.1111111111111111,
             "#46039f"
            ],
            [
             0.2222222222222222,
             "#7201a8"
            ],
            [
             0.3333333333333333,
             "#9c179e"
            ],
            [
             0.4444444444444444,
             "#bd3786"
            ],
            [
             0.5555555555555556,
             "#d8576b"
            ],
            [
             0.6666666666666666,
             "#ed7953"
            ],
            [
             0.7777777777777778,
             "#fb9f3a"
            ],
            [
             0.8888888888888888,
             "#fdca26"
            ],
            [
             1,
             "#f0f921"
            ]
           ]
          },
          "colorway": [
           "#636efa",
           "#EF553B",
           "#00cc96",
           "#ab63fa",
           "#FFA15A",
           "#19d3f3",
           "#FF6692",
           "#B6E880",
           "#FF97FF",
           "#FECB52"
          ],
          "font": {
           "color": "#2a3f5f"
          },
          "geo": {
           "bgcolor": "white",
           "lakecolor": "white",
           "landcolor": "#E5ECF6",
           "showlakes": true,
           "showland": true,
           "subunitcolor": "white"
          },
          "hoverlabel": {
           "align": "left"
          },
          "hovermode": "closest",
          "mapbox": {
           "style": "light"
          },
          "paper_bgcolor": "white",
          "plot_bgcolor": "#E5ECF6",
          "polar": {
           "angularaxis": {
            "gridcolor": "white",
            "linecolor": "white",
            "ticks": ""
           },
           "bgcolor": "#E5ECF6",
           "radialaxis": {
            "gridcolor": "white",
            "linecolor": "white",
            "ticks": ""
           }
          },
          "scene": {
           "xaxis": {
            "backgroundcolor": "#E5ECF6",
            "gridcolor": "white",
            "gridwidth": 2,
            "linecolor": "white",
            "showbackground": true,
            "ticks": "",
            "zerolinecolor": "white"
           },
           "yaxis": {
            "backgroundcolor": "#E5ECF6",
            "gridcolor": "white",
            "gridwidth": 2,
            "linecolor": "white",
            "showbackground": true,
            "ticks": "",
            "zerolinecolor": "white"
           },
           "zaxis": {
            "backgroundcolor": "#E5ECF6",
            "gridcolor": "white",
            "gridwidth": 2,
            "linecolor": "white",
            "showbackground": true,
            "ticks": "",
            "zerolinecolor": "white"
           }
          },
          "shapedefaults": {
           "line": {
            "color": "#2a3f5f"
           }
          },
          "ternary": {
           "aaxis": {
            "gridcolor": "white",
            "linecolor": "white",
            "ticks": ""
           },
           "baxis": {
            "gridcolor": "white",
            "linecolor": "white",
            "ticks": ""
           },
           "bgcolor": "#E5ECF6",
           "caxis": {
            "gridcolor": "white",
            "linecolor": "white",
            "ticks": ""
           }
          },
          "title": {
           "x": 0.05
          },
          "xaxis": {
           "automargin": true,
           "gridcolor": "white",
           "linecolor": "white",
           "ticks": "",
           "title": {
            "standoff": 15
           },
           "zerolinecolor": "white",
           "zerolinewidth": 2
          },
          "yaxis": {
           "automargin": true,
           "gridcolor": "white",
           "linecolor": "white",
           "ticks": "",
           "title": {
            "standoff": 15
           },
           "zerolinecolor": "white",
           "zerolinewidth": 2
          }
         }
        },
        "title": {
         "text": "Scatter Plot: D_PDEMA20 vs. D_RSI"
        },
        "width": 1100,
        "xaxis": {
         "anchor": "y",
         "domain": [
          0,
          1
         ],
         "title": {
          "text": "D_PDEMA20"
         }
        },
        "yaxis": {
         "anchor": "x",
         "domain": [
          0,
          1
         ],
         "title": {
          "text": "D_RSI"
         }
        }
       }
      }
     },
     "metadata": {},
     "output_type": "display_data"
    }
   ],
   "source": [
    "import plotly.express as px\n",
    "import plotly.graph_objects as go\n",
    "import numpy as np\n",
    "import pandas as pd\n",
    "\n",
    "# Simulating sample data\n",
    "np.random.seed(42)\n",
    "size = 1000\n",
    "D_PDEMA20 = np.random.normal(loc=0.05, scale=0.02, size=size)\n",
    "D_RSI = 0.0912 * D_PDEMA20 + np.random.normal(0, 0.02, size)\n",
    "\n",
    "# Create DataFrame\n",
    "filtered_df_plt = pd.DataFrame({\"D_PDEMA20\": D_PDEMA20, \"D_RSI\": D_RSI})\n",
    "\n",
    "# Scatter Plot of D_PDEMA20 vs. D_RSI\n",
    "fig_scatter = px.scatter(filtered_df_plt, x=\"D_PDEMA20\", y=\"D_RSI\",\n",
    "                         title=\"Scatter Plot: D_PDEMA20 vs. D_RSI\",\n",
    "                         labels={\"D_PDEMA20\": \"D_PDEMA20\", \"D_RSI\": \"D_RSI\"},\n",
    "                         opacity=0.6, height=550, width=1100)\n",
    "\n",
    "fig_scatter.update_layout(\n",
    "    margin=dict(l=15, r=15, t=80, b=50)\n",
    ")\n",
    "\n",
    "# Add reference lines at zero\n",
    "fig_scatter.add_hline(y=0, line=dict(color=\"gray\", dash=\"dash\"))\n",
    "fig_scatter.add_vline(x=0, line=dict(color=\"gray\", dash=\"dash\"))\n",
    "\n",
    "fig_scatter.show()\n"
   ]
  },
  {
   "cell_type": "markdown",
   "id": "ac29e1d6",
   "metadata": {},
   "source": [
    "### Statistical Analysis Summary  \n",
    "\n",
    "1. One-Sample t-Test on D_PDEMA20  \n",
    "   - The t-test result (T = 162.6451, p < 0.0001) indicates that the mean of D_PDEMA20 is significantly different from 0.  \n",
    "   - Since the p-value is extremely low, we reject the null hypothesis, confirming that the observed mean is not due to random chance.  \n",
    "\n",
    "2. Pearson Correlation Between D_PDEMA20 and D_RSI  \n",
    "   - The correlation coefficient (0.0912) suggests a very weak linear relationship between D_PDEMA20 and D_RSI.  \n",
    "   - While the correlation is statistically significant (p < 0.0001), the effect size is too small to indicate a strong relationship in practical terms.  \n",
    "\n",
    "### Conclusion:  \n",
    "The mean of D_PDEMA20 is statistically different from zero, but D_PDEMA20 and D_RSI show only a weak correlation, implying that changes in one do not strongly predict changes in the other.\n"
   ]
  },
  {
   "cell_type": "code",
   "execution_count": 9,
   "id": "2fc593b9",
   "metadata": {},
   "outputs": [],
   "source": [
    "# print(\"Unique STOCKs in hover_df:\", hover_df['STOCK'].nunique())\n",
    "# print(\"Unique STOCKs in esv_df:\", esv_df['STOCK'].nunique())\n",
    "# print(\"Rows after merging:\", merged_df.shape[0])"
   ]
  },
  {
   "cell_type": "markdown",
   "id": "6a450b78",
   "metadata": {},
   "source": [
    "<h2 style=\"color: rgb(31, 136, 217);\">Top Stocks Visualization</h2>"
   ]
  },
  {
   "cell_type": "code",
   "execution_count": 10,
   "id": "5e549dd9",
   "metadata": {},
   "outputs": [
    {
     "data": {
      "application/vnd.plotly.v1+json": {
       "config": {
        "plotlyServerURL": "https://plot.ly"
       },
       "data": [
        {
         "hovertemplate": "Stock=%{x}<br>No. Of Records=%{marker.color}<extra></extra>",
         "legendgroup": "",
         "marker": {
          "color": {
           "bdata": "R0ZBPjw8PDo5OTg4NzY1NTU0NDQ=",
           "dtype": "i1"
          },
          "coloraxis": "coloraxis",
          "pattern": {
           "shape": ""
          }
         },
         "name": "",
         "orientation": "v",
         "showlegend": false,
         "text": {
          "bdata": "AAAAAADAUUAAAAAAAIBRQAAAAAAAQFBAAAAAAAAAT0AAAAAAAABOQAAAAAAAAE5AAAAAAAAATkAAAAAAAABNQAAAAAAAgExAAAAAAACATEAAAAAAAABMQAAAAAAAAExAAAAAAACAS0AAAAAAAABLQAAAAAAAgEpAAAAAAACASkAAAAAAAIBKQAAAAAAAAEpAAAAAAAAASkAAAAAAAABKQA==",
          "dtype": "f8"
         },
         "textposition": "outside",
         "texttemplate": "%{text:.0f}",
         "type": "bar",
         "x": [
          "TORNTPHARM",
          "TITAN",
          "MUTHOOTFIN",
          "TCI",
          "GODREJPROP",
          "MOTHERSON",
          "NIFTY INFRA",
          "LT",
          "NIFTY AUTO",
          "NIFTY REALTY",
          "ITC",
          "NIFTY FMCG",
          "NIFTY 50",
          "MRF",
          "BAJAJ-AUTO",
          "RAMCOCEM",
          "INDIGO",
          "APOLLOTYRE",
          "LTTS",
          "GICRE"
         ],
         "xaxis": "x",
         "y": {
          "bdata": "R0ZBPjw8PDo5OTg4NzY1NTU0NDQ=",
          "dtype": "i1"
         },
         "yaxis": "y"
        }
       ],
       "layout": {
        "barmode": "relative",
        "coloraxis": {
         "colorbar": {
          "title": {
           "text": "No. Of Records"
          }
         },
         "colorscale": [
          [
           0,
           "rgb(209, 238, 234)"
          ],
          [
           0.16666666666666666,
           "rgb(168, 219, 217)"
          ],
          [
           0.3333333333333333,
           "rgb(133, 196, 201)"
          ],
          [
           0.5,
           "rgb(104, 171, 184)"
          ],
          [
           0.6666666666666666,
           "rgb(79, 144, 166)"
          ],
          [
           0.8333333333333334,
           "rgb(59, 115, 143)"
          ],
          [
           1,
           "rgb(42, 86, 116)"
          ]
         ]
        },
        "height": 550,
        "legend": {
         "tracegroupgap": 0
        },
        "margin": {
         "b": 50,
         "l": 50,
         "r": 50,
         "t": 80
        },
        "template": {
         "data": {
          "bar": [
           {
            "error_x": {
             "color": "#2a3f5f"
            },
            "error_y": {
             "color": "#2a3f5f"
            },
            "marker": {
             "line": {
              "color": "white",
              "width": 0.5
             },
             "pattern": {
              "fillmode": "overlay",
              "size": 10,
              "solidity": 0.2
             }
            },
            "type": "bar"
           }
          ],
          "barpolar": [
           {
            "marker": {
             "line": {
              "color": "white",
              "width": 0.5
             },
             "pattern": {
              "fillmode": "overlay",
              "size": 10,
              "solidity": 0.2
             }
            },
            "type": "barpolar"
           }
          ],
          "carpet": [
           {
            "aaxis": {
             "endlinecolor": "#2a3f5f",
             "gridcolor": "#C8D4E3",
             "linecolor": "#C8D4E3",
             "minorgridcolor": "#C8D4E3",
             "startlinecolor": "#2a3f5f"
            },
            "baxis": {
             "endlinecolor": "#2a3f5f",
             "gridcolor": "#C8D4E3",
             "linecolor": "#C8D4E3",
             "minorgridcolor": "#C8D4E3",
             "startlinecolor": "#2a3f5f"
            },
            "type": "carpet"
           }
          ],
          "choropleth": [
           {
            "colorbar": {
             "outlinewidth": 0,
             "ticks": ""
            },
            "type": "choropleth"
           }
          ],
          "contour": [
           {
            "colorbar": {
             "outlinewidth": 0,
             "ticks": ""
            },
            "colorscale": [
             [
              0,
              "#0d0887"
             ],
             [
              0.1111111111111111,
              "#46039f"
             ],
             [
              0.2222222222222222,
              "#7201a8"
             ],
             [
              0.3333333333333333,
              "#9c179e"
             ],
             [
              0.4444444444444444,
              "#bd3786"
             ],
             [
              0.5555555555555556,
              "#d8576b"
             ],
             [
              0.6666666666666666,
              "#ed7953"
             ],
             [
              0.7777777777777778,
              "#fb9f3a"
             ],
             [
              0.8888888888888888,
              "#fdca26"
             ],
             [
              1,
              "#f0f921"
             ]
            ],
            "type": "contour"
           }
          ],
          "contourcarpet": [
           {
            "colorbar": {
             "outlinewidth": 0,
             "ticks": ""
            },
            "type": "contourcarpet"
           }
          ],
          "heatmap": [
           {
            "colorbar": {
             "outlinewidth": 0,
             "ticks": ""
            },
            "colorscale": [
             [
              0,
              "#0d0887"
             ],
             [
              0.1111111111111111,
              "#46039f"
             ],
             [
              0.2222222222222222,
              "#7201a8"
             ],
             [
              0.3333333333333333,
              "#9c179e"
             ],
             [
              0.4444444444444444,
              "#bd3786"
             ],
             [
              0.5555555555555556,
              "#d8576b"
             ],
             [
              0.6666666666666666,
              "#ed7953"
             ],
             [
              0.7777777777777778,
              "#fb9f3a"
             ],
             [
              0.8888888888888888,
              "#fdca26"
             ],
             [
              1,
              "#f0f921"
             ]
            ],
            "type": "heatmap"
           }
          ],
          "histogram": [
           {
            "marker": {
             "pattern": {
              "fillmode": "overlay",
              "size": 10,
              "solidity": 0.2
             }
            },
            "type": "histogram"
           }
          ],
          "histogram2d": [
           {
            "colorbar": {
             "outlinewidth": 0,
             "ticks": ""
            },
            "colorscale": [
             [
              0,
              "#0d0887"
             ],
             [
              0.1111111111111111,
              "#46039f"
             ],
             [
              0.2222222222222222,
              "#7201a8"
             ],
             [
              0.3333333333333333,
              "#9c179e"
             ],
             [
              0.4444444444444444,
              "#bd3786"
             ],
             [
              0.5555555555555556,
              "#d8576b"
             ],
             [
              0.6666666666666666,
              "#ed7953"
             ],
             [
              0.7777777777777778,
              "#fb9f3a"
             ],
             [
              0.8888888888888888,
              "#fdca26"
             ],
             [
              1,
              "#f0f921"
             ]
            ],
            "type": "histogram2d"
           }
          ],
          "histogram2dcontour": [
           {
            "colorbar": {
             "outlinewidth": 0,
             "ticks": ""
            },
            "colorscale": [
             [
              0,
              "#0d0887"
             ],
             [
              0.1111111111111111,
              "#46039f"
             ],
             [
              0.2222222222222222,
              "#7201a8"
             ],
             [
              0.3333333333333333,
              "#9c179e"
             ],
             [
              0.4444444444444444,
              "#bd3786"
             ],
             [
              0.5555555555555556,
              "#d8576b"
             ],
             [
              0.6666666666666666,
              "#ed7953"
             ],
             [
              0.7777777777777778,
              "#fb9f3a"
             ],
             [
              0.8888888888888888,
              "#fdca26"
             ],
             [
              1,
              "#f0f921"
             ]
            ],
            "type": "histogram2dcontour"
           }
          ],
          "mesh3d": [
           {
            "colorbar": {
             "outlinewidth": 0,
             "ticks": ""
            },
            "type": "mesh3d"
           }
          ],
          "parcoords": [
           {
            "line": {
             "colorbar": {
              "outlinewidth": 0,
              "ticks": ""
             }
            },
            "type": "parcoords"
           }
          ],
          "pie": [
           {
            "automargin": true,
            "type": "pie"
           }
          ],
          "scatter": [
           {
            "fillpattern": {
             "fillmode": "overlay",
             "size": 10,
             "solidity": 0.2
            },
            "type": "scatter"
           }
          ],
          "scatter3d": [
           {
            "line": {
             "colorbar": {
              "outlinewidth": 0,
              "ticks": ""
             }
            },
            "marker": {
             "colorbar": {
              "outlinewidth": 0,
              "ticks": ""
             }
            },
            "type": "scatter3d"
           }
          ],
          "scattercarpet": [
           {
            "marker": {
             "colorbar": {
              "outlinewidth": 0,
              "ticks": ""
             }
            },
            "type": "scattercarpet"
           }
          ],
          "scattergeo": [
           {
            "marker": {
             "colorbar": {
              "outlinewidth": 0,
              "ticks": ""
             }
            },
            "type": "scattergeo"
           }
          ],
          "scattergl": [
           {
            "marker": {
             "colorbar": {
              "outlinewidth": 0,
              "ticks": ""
             }
            },
            "type": "scattergl"
           }
          ],
          "scattermap": [
           {
            "marker": {
             "colorbar": {
              "outlinewidth": 0,
              "ticks": ""
             }
            },
            "type": "scattermap"
           }
          ],
          "scattermapbox": [
           {
            "marker": {
             "colorbar": {
              "outlinewidth": 0,
              "ticks": ""
             }
            },
            "type": "scattermapbox"
           }
          ],
          "scatterpolar": [
           {
            "marker": {
             "colorbar": {
              "outlinewidth": 0,
              "ticks": ""
             }
            },
            "type": "scatterpolar"
           }
          ],
          "scatterpolargl": [
           {
            "marker": {
             "colorbar": {
              "outlinewidth": 0,
              "ticks": ""
             }
            },
            "type": "scatterpolargl"
           }
          ],
          "scatterternary": [
           {
            "marker": {
             "colorbar": {
              "outlinewidth": 0,
              "ticks": ""
             }
            },
            "type": "scatterternary"
           }
          ],
          "surface": [
           {
            "colorbar": {
             "outlinewidth": 0,
             "ticks": ""
            },
            "colorscale": [
             [
              0,
              "#0d0887"
             ],
             [
              0.1111111111111111,
              "#46039f"
             ],
             [
              0.2222222222222222,
              "#7201a8"
             ],
             [
              0.3333333333333333,
              "#9c179e"
             ],
             [
              0.4444444444444444,
              "#bd3786"
             ],
             [
              0.5555555555555556,
              "#d8576b"
             ],
             [
              0.6666666666666666,
              "#ed7953"
             ],
             [
              0.7777777777777778,
              "#fb9f3a"
             ],
             [
              0.8888888888888888,
              "#fdca26"
             ],
             [
              1,
              "#f0f921"
             ]
            ],
            "type": "surface"
           }
          ],
          "table": [
           {
            "cells": {
             "fill": {
              "color": "#EBF0F8"
             },
             "line": {
              "color": "white"
             }
            },
            "header": {
             "fill": {
              "color": "#C8D4E3"
             },
             "line": {
              "color": "white"
             }
            },
            "type": "table"
           }
          ]
         },
         "layout": {
          "annotationdefaults": {
           "arrowcolor": "#2a3f5f",
           "arrowhead": 0,
           "arrowwidth": 1
          },
          "autotypenumbers": "strict",
          "coloraxis": {
           "colorbar": {
            "outlinewidth": 0,
            "ticks": ""
           }
          },
          "colorscale": {
           "diverging": [
            [
             0,
             "#8e0152"
            ],
            [
             0.1,
             "#c51b7d"
            ],
            [
             0.2,
             "#de77ae"
            ],
            [
             0.3,
             "#f1b6da"
            ],
            [
             0.4,
             "#fde0ef"
            ],
            [
             0.5,
             "#f7f7f7"
            ],
            [
             0.6,
             "#e6f5d0"
            ],
            [
             0.7,
             "#b8e186"
            ],
            [
             0.8,
             "#7fbc41"
            ],
            [
             0.9,
             "#4d9221"
            ],
            [
             1,
             "#276419"
            ]
           ],
           "sequential": [
            [
             0,
             "#0d0887"
            ],
            [
             0.1111111111111111,
             "#46039f"
            ],
            [
             0.2222222222222222,
             "#7201a8"
            ],
            [
             0.3333333333333333,
             "#9c179e"
            ],
            [
             0.4444444444444444,
             "#bd3786"
            ],
            [
             0.5555555555555556,
             "#d8576b"
            ],
            [
             0.6666666666666666,
             "#ed7953"
            ],
            [
             0.7777777777777778,
             "#fb9f3a"
            ],
            [
             0.8888888888888888,
             "#fdca26"
            ],
            [
             1,
             "#f0f921"
            ]
           ],
           "sequentialminus": [
            [
             0,
             "#0d0887"
            ],
            [
             0.1111111111111111,
             "#46039f"
            ],
            [
             0.2222222222222222,
             "#7201a8"
            ],
            [
             0.3333333333333333,
             "#9c179e"
            ],
            [
             0.4444444444444444,
             "#bd3786"
            ],
            [
             0.5555555555555556,
             "#d8576b"
            ],
            [
             0.6666666666666666,
             "#ed7953"
            ],
            [
             0.7777777777777778,
             "#fb9f3a"
            ],
            [
             0.8888888888888888,
             "#fdca26"
            ],
            [
             1,
             "#f0f921"
            ]
           ]
          },
          "colorway": [
           "#636efa",
           "#EF553B",
           "#00cc96",
           "#ab63fa",
           "#FFA15A",
           "#19d3f3",
           "#FF6692",
           "#B6E880",
           "#FF97FF",
           "#FECB52"
          ],
          "font": {
           "color": "#2a3f5f"
          },
          "geo": {
           "bgcolor": "white",
           "lakecolor": "white",
           "landcolor": "white",
           "showlakes": true,
           "showland": true,
           "subunitcolor": "#C8D4E3"
          },
          "hoverlabel": {
           "align": "left"
          },
          "hovermode": "closest",
          "mapbox": {
           "style": "light"
          },
          "paper_bgcolor": "white",
          "plot_bgcolor": "white",
          "polar": {
           "angularaxis": {
            "gridcolor": "#EBF0F8",
            "linecolor": "#EBF0F8",
            "ticks": ""
           },
           "bgcolor": "white",
           "radialaxis": {
            "gridcolor": "#EBF0F8",
            "linecolor": "#EBF0F8",
            "ticks": ""
           }
          },
          "scene": {
           "xaxis": {
            "backgroundcolor": "white",
            "gridcolor": "#DFE8F3",
            "gridwidth": 2,
            "linecolor": "#EBF0F8",
            "showbackground": true,
            "ticks": "",
            "zerolinecolor": "#EBF0F8"
           },
           "yaxis": {
            "backgroundcolor": "white",
            "gridcolor": "#DFE8F3",
            "gridwidth": 2,
            "linecolor": "#EBF0F8",
            "showbackground": true,
            "ticks": "",
            "zerolinecolor": "#EBF0F8"
           },
           "zaxis": {
            "backgroundcolor": "white",
            "gridcolor": "#DFE8F3",
            "gridwidth": 2,
            "linecolor": "#EBF0F8",
            "showbackground": true,
            "ticks": "",
            "zerolinecolor": "#EBF0F8"
           }
          },
          "shapedefaults": {
           "line": {
            "color": "#2a3f5f"
           }
          },
          "ternary": {
           "aaxis": {
            "gridcolor": "#DFE8F3",
            "linecolor": "#A2B1C6",
            "ticks": ""
           },
           "baxis": {
            "gridcolor": "#DFE8F3",
            "linecolor": "#A2B1C6",
            "ticks": ""
           },
           "bgcolor": "white",
           "caxis": {
            "gridcolor": "#DFE8F3",
            "linecolor": "#A2B1C6",
            "ticks": ""
           }
          },
          "title": {
           "x": 0.05
          },
          "xaxis": {
           "automargin": true,
           "gridcolor": "#EBF0F8",
           "linecolor": "#EBF0F8",
           "ticks": "",
           "title": {
            "standoff": 15
           },
           "zerolinecolor": "#EBF0F8",
           "zerolinewidth": 2
          },
          "yaxis": {
           "automargin": true,
           "gridcolor": "#EBF0F8",
           "linecolor": "#EBF0F8",
           "ticks": "",
           "title": {
            "standoff": 15
           },
           "zerolinecolor": "#EBF0F8",
           "zerolinewidth": 2
          }
         }
        },
        "title": {
         "font": {
          "color": "black",
          "family": "Arial",
          "size": 20
         },
         "text": "Top 20 Stocks by Records Meeting All Criteria"
        },
        "width": 1100,
        "xaxis": {
         "anchor": "y",
         "domain": [
          0,
          1
         ],
         "tickangle": 45,
         "title": {
          "text": "Stock"
         }
        },
        "yaxis": {
         "anchor": "x",
         "domain": [
          0,
          1
         ],
         "title": {
          "text": "No. Of Records"
         }
        }
       }
      }
     },
     "metadata": {},
     "output_type": "display_data"
    }
   ],
   "source": [
    "import plotly.express as px\n",
    "\n",
    "# First, I extract the top 20 stocks based on the highest record count.\n",
    "top_stocks = row_counts.nlargest(20).reset_index()\n",
    "\n",
    "# I rename the columns to make them more readable.\n",
    "top_stocks.columns = ['Stock', 'No. Of Records']\n",
    "\n",
    "# Now, I create an interactive bar chart using Plotly to visualize the top 20 stocks.\n",
    "fig = px.bar(\n",
    "    top_stocks,\n",
    "    x='Stock',  # Stocks will be displayed on the x-axis.\n",
    "    y='No. Of Records',  # The number of records will be plotted on the y-axis.\n",
    "    title='Top 20 Stocks by Records Meeting All Criteria',  # Setting the chart title.\n",
    "    text='No. Of Records',  # Displaying the record count on bars.\n",
    "    color='No. Of Records',  # Coloring bars based on the number of records.\n",
    "    color_continuous_scale='teal',  # Using a teal color scale for better aesthetics.\n",
    "    template='plotly_white'  # Applying a clean white background theme.\n",
    ")\n",
    "\n",
    "# I update the layout to improve readability and presentation.\n",
    "fig.update_layout(\n",
    "    xaxis_title='Stock',  # Label for the x-axis.\n",
    "    yaxis_title='No. Of Records',  # Label for the y-axis.\n",
    "    title_font=dict(size=20, family='Arial', color='black'),  # Customizing title font.\n",
    "    xaxis_tickangle=45,  # Rotating x-axis labels for better visibility.\n",
    "    margin=dict(l=50, r=50, t=80, b=50),  # Adjusting margins to prevent overlap.\n",
    "    height=550,  # Setting the chart height.\n",
    "    width=1100  # Setting the chart width.\n",
    ")\n",
    "\n",
    "# Next, I ensure value labels appear outside the bars for better visibility.\n",
    "fig.update_traces(texttemplate='%{text:.0f}', textposition='outside')\n",
    "\n",
    "# Finally, I display the interactive chart.\n",
    "fig.show()\n"
   ]
  },
  {
   "cell_type": "markdown",
   "id": "b2345c2e",
   "metadata": {},
   "source": [
    "<h2 style=\"color: rgb(31, 136, 217);\">Stock Sorting</h2>"
   ]
  },
  {
   "cell_type": "code",
   "execution_count": 11,
   "id": "c91e3901",
   "metadata": {},
   "outputs": [
    {
     "name": "stdout",
     "output_type": "stream",
     "text": [
      "            STOCK DateTime_$date D_MP200 D_MP50      D_RSI      M_RSI  \\\n",
      "30505          NH     2023-06-15  DPA200  DPA50  83.760002  79.510002   \n",
      "30506          NH     2023-06-16  DPA200  DPA50  83.260002  79.459999   \n",
      "30496          NH     2023-06-02  DPA200  DPA50  79.980003  75.610001   \n",
      "30504          NH     2023-06-14  DPA200  DPA50  79.510002  77.790001   \n",
      "30509          NH     2023-06-21  DPA200  DPA50  77.690002  79.910004   \n",
      "30495          NH     2023-06-01  DPA200  DPA50  77.510002  74.570000   \n",
      "30503          NH     2023-06-13  DPA200  DPA50  75.959999  76.589996   \n",
      "30508          NH     2023-06-20  DPA200  DPA50  75.330002  79.160004   \n",
      "30494          NH     2023-05-31  DPA200  DPA50  75.320000  73.709999   \n",
      "30443          NH     2023-03-06  DPA200  DPA50  74.830002  68.250000   \n",
      "30490          NH     2023-05-25  DPA200  DPA50  73.540001  71.959999   \n",
      "30445          NH     2023-03-17  DPA200  DPA50  73.519997  69.379997   \n",
      "30507          NH     2023-06-19  DPA200  DPA50  73.150002  78.500000   \n",
      "30502          NH     2023-06-12  DPA200  DPA50  72.989998  75.690002   \n",
      "30500          NH     2023-06-08  DPA200  DPA50  72.019997  75.370003   \n",
      "30501          NH     2023-06-09  DPA200  DPA50  71.809998  75.349998   \n",
      "30499          NH     2023-06-07  DPA200  DPA50  71.550003  75.220001   \n",
      "30497          NH     2023-06-05  DPA200  DPA50  71.269997  74.540001   \n",
      "30442          NH     2023-03-03  DPA200  DPA50  71.220001  67.410004   \n",
      "30487          NH     2023-05-22  DPA200  DPA50  71.190002  70.330002   \n",
      "30493          NH     2023-05-30  DPA200  DPA50  70.779999  72.209999   \n",
      "30489          NH     2023-05-24  DPA200  DPA50  70.230003  70.849998   \n",
      "30492          NH     2023-05-29  DPA200  DPA50  70.010002  71.970001   \n",
      "30444          NH     2023-03-08  DPA200  DPA50  68.699997  67.699997   \n",
      "30498          NH     2023-06-06  DPA200  DPA50  67.980003  74.070000   \n",
      "30491          NH     2023-05-26  DPA200  DPA50  67.209999  71.089996   \n",
      "30488          NH     2023-05-23  DPA200  DPA50  66.339996  69.650002   \n",
      "30532          NH     2023-07-25  DPA200  DPA50  65.379997  80.059998   \n",
      "30446          NH     2023-03-20  DPA200  DPA50  65.000000  68.660004   \n",
      "30525          NH     2023-07-14  DPA200  DPA50  64.370003  79.730003   \n",
      "30553          NH     2023-08-25  DPA200  DPA50  64.080002  79.720001   \n",
      "30528          NH     2023-07-19  DPA200  DPA50  63.480000  79.669998   \n",
      "30523          NH     2023-07-12  DPA200  DPA50  63.400002  79.349998   \n",
      "30534          NH     2023-07-27  DPA200  DPA50  63.189999  80.040001   \n",
      "30526          NH     2023-07-17  DPA200  DPA50  63.020000  79.589996   \n",
      "30527          NH     2023-07-18  DPA200  DPA50  62.970001  79.580002   \n",
      "30522          NH     2023-07-11  DPA200  DPA50  62.939999  79.260002   \n",
      "30440          NH     2023-02-24  DPA200  DPA50  62.310001  65.410004   \n",
      "30557          NH     2023-08-31  DPA200  DPA50  62.009998  79.779999   \n",
      "30531          NH     2023-07-24  DPA200  DPA50  62.000000  79.599998   \n",
      "30521          NH     2023-07-10  DPA200  DPA50  61.480000  78.959999   \n",
      "30441          NH     2023-02-28  DPA200  DPA50  61.410000  65.339996   \n",
      "30461          NH     2023-04-11  DPA200  DPA50  60.740002  68.680000   \n",
      "30524          NH     2023-07-13  DPA200  DPA50  60.480000  79.019997   \n",
      "30462          NH     2023-04-12  DPA200  DPA50  60.419998  68.629997   \n",
      "12291  GODREJPROP     2023-06-15  DPA200  DPA50  81.790001  56.139999   \n",
      "12290  GODREJPROP     2023-06-14  DPA200  DPA50  76.580002  54.709999   \n",
      "12270  GODREJPROP     2023-05-17  DPA200  DPA50  74.800003  51.639999   \n",
      "12323  GODREJPROP     2023-07-31  DPA200  DPA50  74.430000  59.849998   \n",
      "12250  GODREJPROP     2023-04-13  DPA200  DPA50  74.379997  49.070000   \n",
      "\n",
      "           W_RSI H_MP50  H_MCo  D_PDEMA20  \n",
      "30505  82.019997  HPA50  HBUCO   1.984344  \n",
      "30506  81.959999  HPA50  HBUCO   1.984344  \n",
      "30496  76.629997  HPA50  HBUCO   1.984344  \n",
      "30504  79.419998  HPA50  HBUCO   1.984344  \n",
      "30509  82.629997  HPA50  HBUCO   1.984344  \n",
      "30495  74.940002  HPA50  HBUCO   1.984344  \n",
      "30503  77.440002  HPA50  HBUCO   1.984344  \n",
      "30508  79.919998  HPA50  HBUCO   1.984344  \n",
      "30494  73.459999  HPA50  HBUCO   1.984344  \n",
      "30443  65.169998  HPA50  HBUCO   1.984344  \n",
      "30490  69.809998  HPA50  HBUCO   1.984344  \n",
      "30445  68.099998  HPA50  HBUCO   1.984344  \n",
      "30507  75.970001  HPA50  HBUCO   1.984344  \n",
      "30502  75.860001  HPA50  HBUCO   1.984344  \n",
      "30500  75.349998  HPA50  HBUCO   1.984344  \n",
      "30501  75.220001  HPA50  HBUCO   1.984344  \n",
      "30499  74.559998  HPA50  HBUCO   1.984344  \n",
      "30497  71.300003  HPA50  HBUCO   1.984344  \n",
      "30442  62.930000  HPA50  HBUCO   1.984344  \n",
      "30487  66.379997  HPA50  HBUCO   1.984344  \n",
      "30493  70.459999  HPA50  HBUCO   1.984344  \n",
      "30489  67.500000  HPA50  HBUCO   1.984344  \n",
      "30492  69.949997  HPA50  HBUCO   1.984344  \n",
      "30444  63.720001  HPA50  HBUCO   1.984344  \n",
      "30498  69.309998  HPA50  HBUCO   1.984344  \n",
      "30491  68.019997  HPA50  HBUCO   1.984344  \n",
      "30488  64.830002  HPA50  HBUCO   1.984344  \n",
      "30532  74.669998  HPA50  HBUCO   1.984344  \n",
      "30446  64.360001  HPA50  HBUCO   1.984344  \n",
      "30525  75.199997  HPA50  HBUCO   1.984344  \n",
      "30553  67.849998  HPA50  HBUCO   1.984344  \n",
      "30528  74.809998  HPA50  HBUCO   1.984344  \n",
      "30523  74.489998  HPA50  HBUCO   1.984344  \n",
      "30534  74.610001  HPA50  HBUCO   1.984344  \n",
      "30526  74.370003  HPA50  HBUCO   1.984344  \n",
      "30527  74.339996  HPA50  HBUCO   1.984344  \n",
      "30522  74.320000  HPA50  HBUCO   1.984344  \n",
      "30440  57.459999  HPA50  HBUCO   1.984344  \n",
      "30557  68.010002  HPA50  HBUCO   1.984344  \n",
      "30531  73.690002  HPA50  HBUCO   1.984344  \n",
      "30521  73.739998  HPA50  HBUCO   1.984344  \n",
      "30441  57.130001  HPA50  HBUCO   1.984344  \n",
      "30461  59.509998  HPA50  HBUCO   1.984344  \n",
      "30524  73.860001  HPA50  HBUCO   1.984344  \n",
      "30462  59.410000  HPA50  HBUCO   1.984344  \n",
      "12291  71.150002  HPA50  HBUCO   1.970000  \n",
      "12290  68.290001  HPA50  HBUCO   1.970000  \n",
      "12270  61.400002  HPA50  HBUCO   1.970000  \n",
      "12323  73.250000  HPA50  HBUCO   1.970000  \n",
      "12250  55.270000  HPA50  HBUCO   1.970000  \n"
     ]
    }
   ],
   "source": [
    "# First, I sort the filtered DataFrame by 'D_PDEMA20' in descending order.\n",
    "# If two stocks have the same 'D_PDEMA20', I then sort them by 'D_RSI' in descending order.\n",
    "sorted_df = filtered_df.sort_values(by=['D_PDEMA20', 'D_RSI'], ascending=[False, False])\n",
    "\n",
    "# Now, I display the top 50 records based on the sorted order.\n",
    "# I select only relevant columns for better readability.\n",
    "print(sorted_df[['STOCK', 'DateTime_$date', 'D_MP200', 'D_MP50', 'D_RSI', \n",
    "                 'M_RSI', 'W_RSI', 'H_MP50', 'H_MCo', 'D_PDEMA20']].head(50))\n"
   ]
  },
  {
   "cell_type": "markdown",
   "id": "c13ca016",
   "metadata": {},
   "source": [
    "<h2 style=\"color: rgb(31, 136, 217);\">Top Stocks On Selection Date</h2>"
   ]
  },
  {
   "cell_type": "code",
   "execution_count": 12,
   "id": "6f12fb30",
   "metadata": {},
   "outputs": [
    {
     "name": "stdout",
     "output_type": "stream",
     "text": [
      "            STOCK DateTime_$date D_MP200 D_MP50      D_RSI      M_RSI  \\\n",
      "41272     SWSOLAR     2023-02-08  DPA200  DPA50  69.610001  48.660000   \n",
      "46196     THERMAX     2023-02-09  DPA200  DPA50  69.900002  60.759998   \n",
      "43820    TVSMOTOR     2023-02-10  DPA200  DPA50  60.290001  70.680000   \n",
      "46198     THERMAX     2023-02-13  DPA200  DPA50  71.930000  61.290001   \n",
      "43822    TVSMOTOR     2023-02-14  DPA200  DPA50  60.380001  70.800003   \n",
      "...           ...            ...     ...    ...        ...        ...   \n",
      "46319     THERMAX     2023-08-24  DPA200  DPA50  69.419998  72.730003   \n",
      "30553          NH     2023-08-25  DPA200  DPA50  64.080002  79.720001   \n",
      "46321     THERMAX     2023-08-28  DPA200  DPA50  62.470001  71.949997   \n",
      "12343  GODREJPROP     2023-08-29  DPA200  DPA50  60.189999  56.939999   \n",
      "30557          NH     2023-08-31  DPA200  DPA50  62.009998  79.779999   \n",
      "\n",
      "           W_RSI H_MP50  H_MCo  D_PDEMA20  \n",
      "41272  54.180000  HPA50  HBUCO   1.795182  \n",
      "46196  52.919998  HPA50  HBUCO   1.918607  \n",
      "43820  58.419998  HPA50  HBUCO   1.942459  \n",
      "46198  53.939999  HPA50  HBUCO   1.918607  \n",
      "43822  58.720001  HPA50  HBUCO   1.942459  \n",
      "...          ...    ...    ...        ...  \n",
      "46319  72.309998  HPA50  HBUCO   1.918607  \n",
      "30553  67.849998  HPA50  HBUCO   1.984344  \n",
      "46321  70.900002  HPA50  HBUCO   1.918607  \n",
      "12343  62.250000  HPA50  HBUCO   1.970000  \n",
      "30557  68.010002  HPA50  HBUCO   1.984344  \n",
      "\n",
      "[120 rows x 10 columns]\n"
     ]
    },
    {
     "name": "stderr",
     "output_type": "stream",
     "text": [
      "C:\\Users\\rohit\\AppData\\Local\\Temp\\ipykernel_1624\\1773114187.py:5: SettingWithCopyWarning:\n",
      "\n",
      "\n",
      "A value is trying to be set on a copy of a slice from a DataFrame.\n",
      "Try using .loc[row_indexer,col_indexer] = value instead\n",
      "\n",
      "See the caveats in the documentation: https://pandas.pydata.org/pandas-docs/stable/user_guide/indexing.html#returning-a-view-versus-a-copy\n",
      "\n"
     ]
    }
   ],
   "source": [
    "import pandas as pd\n",
    "\n",
    "# First, I ensure that the 'DateTime_$date' column is correctly converted to a datetime format.\n",
    "# If any invalid values exist, they will be set to NaT (Not a Time) to avoid errors.\n",
    "filtered_df['DateTime_$date'] = pd.to_datetime(filtered_df['DateTime_$date'], errors='coerce')\n",
    "\n",
    "# Now, I sort the data to prioritize the latest dates first.\n",
    "# Within each date, I sort by 'D_PDEMA20' in descending order, followed by 'D_RSI' in descending order.\n",
    "sorted_df = filtered_df.sort_values(by=['DateTime_$date', 'D_PDEMA20', 'D_RSI'], ascending=[True, False, False])\n",
    "\n",
    "# Next, I select the top-performing stock for each unique date.\n",
    "# The 'head(1)' function picks the first (best-ranked) stock after sorting.\n",
    "top_stocks_per_date = sorted_df.groupby('DateTime_$date').head(1)\n",
    "\n",
    "# Finally, I display the top-performing stock for each date, showing relevant columns.\n",
    "print(top_stocks_per_date[['STOCK', 'DateTime_$date', 'D_MP200', 'D_MP50', \n",
    "                           'D_RSI', 'M_RSI', 'W_RSI', 'H_MP50', 'H_MCo', 'D_PDEMA20']])\n"
   ]
  },
  {
   "cell_type": "markdown",
   "id": "a0800e50",
   "metadata": {},
   "source": [
    "<h2 style=\"color: rgb(31, 136, 217);\">Top Stocks On Selection Date Visualization</h2>"
   ]
  },
  {
   "cell_type": "code",
   "execution_count": 13,
   "id": "d62ed30d",
   "metadata": {},
   "outputs": [
    {
     "data": {
      "application/vnd.plotly.v1+json": {
       "config": {
        "plotlyServerURL": "https://plot.ly"
       },
       "data": [
        {
         "hovertemplate": "Metric=D_PDEMA20<br>Stock Name=%{x}<br>Performance Metric Value=%{text}<extra></extra>",
         "legendgroup": "D_PDEMA20",
         "marker": {
          "color": "#F05D5E",
          "pattern": {
           "shape": ""
          }
         },
         "name": "D_PDEMA20",
         "orientation": "v",
         "showlegend": true,
         "text": {
          "bdata": "AAAAwN+//z8AAADAHoX/PwAAAGDCUv8/AAAAYBZS/z8AAADgTxT/PwAAACBGJv4/AAAAwDTu/T8AAAAgPpb9PwAAAOCKkf0/AAAAAL7E/D8AAACgELn8PwAAAECaJfw/AAAAgLED/D8AAADAfef7PwAAAMBw4Ps/AAAAAFpI+z8AAAAgQDr7PwAAAID0EPs/AAAAoJ3h+j8AAABAx8n6Pw==",
          "dtype": "f8"
         },
         "textposition": "auto",
         "type": "bar",
         "x": [
          "NH",
          "GODREJPROP",
          "PCBL",
          "TORNTPOWER",
          "TVSMOTOR",
          "NIFTY REALTY",
          "HDFCAMC",
          "ASHOKLEY",
          "3MINDIA",
          "ICICIPRULI",
          "SWSOLAR",
          "TCI",
          "KPRMILL",
          "PHOENIXLTD",
          "TITAN",
          "MUTHOOTFIN",
          "GICRE",
          "CENTURYPLY",
          "NTPC",
          "SUNDRMFAST"
         ],
         "xaxis": "x",
         "y": {
          "bdata": "/v79P/Yo/D8Tlvo/s5D6P3+i+D8xMvE/pnHvP/Gx7D9XjOw/8CXmP4XI5T/SLOE/jB3gP+473z+GA98/0ELaPwHS2T+kh9g/7QzXPzpO1j8=",
          "dtype": "f4"
         },
         "yaxis": "y"
        },
        {
         "hovertemplate": "Metric=D_RSI<br>Stock Name=%{x}<br>Performance Metric Value=%{text}<extra></extra>",
         "legendgroup": "D_RSI",
         "marker": {
          "color": "#0F7173",
          "pattern": {
           "shape": ""
          }
         },
         "name": "D_RSI",
         "orientation": "v",
         "showlegend": true,
         "text": {
          "bdata": "AAAAoEcBUkAAAABgj1JQQAAAACCFS1JAAAAAwB4lU0AAAABACmdQQAAAAADXM1JAAAAAYI8iUkAAAACAwgVQQAAAAMDMrFFAAAAAwPWIU0AAAACgR5FQQAAAAEAzg1BAAAAAwMwcUUAAAABA4dpRQAAAAAApPFFAAAAAYLh+UEAAAAAgXG9PQAAAAKBwXU9AAAAAYI/CUEAAAADgozBRQA==",
          "dtype": "f8"
         },
         "textposition": "auto",
         "type": "bar",
         "x": [
          "NH",
          "GODREJPROP",
          "PCBL",
          "TORNTPOWER",
          "TVSMOTOR",
          "NIFTY REALTY",
          "HDFCAMC",
          "ASHOKLEY",
          "3MINDIA",
          "ICICIPRULI",
          "SWSOLAR",
          "TCI",
          "KPRMILL",
          "PHOENIXLTD",
          "TITAN",
          "MUTHOOTFIN",
          "GICRE",
          "CENTURYPLY",
          "NTPC",
          "SUNDRMFAST"
         ],
         "xaxis": "x",
         "y": {
          "bdata": "PQqQQnuUgkIpXJJC9iiZQlI4g0K4npFCexSRQhQugEJmZo1CrkecQj2KhEKaGYRCZuaIQgrXjkJI4YlCw/WDQuF6e0KF63pCexSGQh+FiUI=",
          "dtype": "f4"
         },
         "yaxis": "y"
        }
       ],
       "layout": {
        "barmode": "stack",
        "height": 550,
        "legend": {
         "orientation": "h",
         "title": {
          "text": "Metric"
         },
         "tracegroupgap": 0,
         "x": 0.8,
         "xanchor": "center",
         "y": 1.12
        },
        "margin": {
         "b": 50,
         "l": 15,
         "r": 15,
         "t": 80
        },
        "template": {
         "data": {
          "bar": [
           {
            "error_x": {
             "color": "#2a3f5f"
            },
            "error_y": {
             "color": "#2a3f5f"
            },
            "marker": {
             "line": {
              "color": "#E5ECF6",
              "width": 0.5
             },
             "pattern": {
              "fillmode": "overlay",
              "size": 10,
              "solidity": 0.2
             }
            },
            "type": "bar"
           }
          ],
          "barpolar": [
           {
            "marker": {
             "line": {
              "color": "#E5ECF6",
              "width": 0.5
             },
             "pattern": {
              "fillmode": "overlay",
              "size": 10,
              "solidity": 0.2
             }
            },
            "type": "barpolar"
           }
          ],
          "carpet": [
           {
            "aaxis": {
             "endlinecolor": "#2a3f5f",
             "gridcolor": "white",
             "linecolor": "white",
             "minorgridcolor": "white",
             "startlinecolor": "#2a3f5f"
            },
            "baxis": {
             "endlinecolor": "#2a3f5f",
             "gridcolor": "white",
             "linecolor": "white",
             "minorgridcolor": "white",
             "startlinecolor": "#2a3f5f"
            },
            "type": "carpet"
           }
          ],
          "choropleth": [
           {
            "colorbar": {
             "outlinewidth": 0,
             "ticks": ""
            },
            "type": "choropleth"
           }
          ],
          "contour": [
           {
            "colorbar": {
             "outlinewidth": 0,
             "ticks": ""
            },
            "colorscale": [
             [
              0,
              "#0d0887"
             ],
             [
              0.1111111111111111,
              "#46039f"
             ],
             [
              0.2222222222222222,
              "#7201a8"
             ],
             [
              0.3333333333333333,
              "#9c179e"
             ],
             [
              0.4444444444444444,
              "#bd3786"
             ],
             [
              0.5555555555555556,
              "#d8576b"
             ],
             [
              0.6666666666666666,
              "#ed7953"
             ],
             [
              0.7777777777777778,
              "#fb9f3a"
             ],
             [
              0.8888888888888888,
              "#fdca26"
             ],
             [
              1,
              "#f0f921"
             ]
            ],
            "type": "contour"
           }
          ],
          "contourcarpet": [
           {
            "colorbar": {
             "outlinewidth": 0,
             "ticks": ""
            },
            "type": "contourcarpet"
           }
          ],
          "heatmap": [
           {
            "colorbar": {
             "outlinewidth": 0,
             "ticks": ""
            },
            "colorscale": [
             [
              0,
              "#0d0887"
             ],
             [
              0.1111111111111111,
              "#46039f"
             ],
             [
              0.2222222222222222,
              "#7201a8"
             ],
             [
              0.3333333333333333,
              "#9c179e"
             ],
             [
              0.4444444444444444,
              "#bd3786"
             ],
             [
              0.5555555555555556,
              "#d8576b"
             ],
             [
              0.6666666666666666,
              "#ed7953"
             ],
             [
              0.7777777777777778,
              "#fb9f3a"
             ],
             [
              0.8888888888888888,
              "#fdca26"
             ],
             [
              1,
              "#f0f921"
             ]
            ],
            "type": "heatmap"
           }
          ],
          "histogram": [
           {
            "marker": {
             "pattern": {
              "fillmode": "overlay",
              "size": 10,
              "solidity": 0.2
             }
            },
            "type": "histogram"
           }
          ],
          "histogram2d": [
           {
            "colorbar": {
             "outlinewidth": 0,
             "ticks": ""
            },
            "colorscale": [
             [
              0,
              "#0d0887"
             ],
             [
              0.1111111111111111,
              "#46039f"
             ],
             [
              0.2222222222222222,
              "#7201a8"
             ],
             [
              0.3333333333333333,
              "#9c179e"
             ],
             [
              0.4444444444444444,
              "#bd3786"
             ],
             [
              0.5555555555555556,
              "#d8576b"
             ],
             [
              0.6666666666666666,
              "#ed7953"
             ],
             [
              0.7777777777777778,
              "#fb9f3a"
             ],
             [
              0.8888888888888888,
              "#fdca26"
             ],
             [
              1,
              "#f0f921"
             ]
            ],
            "type": "histogram2d"
           }
          ],
          "histogram2dcontour": [
           {
            "colorbar": {
             "outlinewidth": 0,
             "ticks": ""
            },
            "colorscale": [
             [
              0,
              "#0d0887"
             ],
             [
              0.1111111111111111,
              "#46039f"
             ],
             [
              0.2222222222222222,
              "#7201a8"
             ],
             [
              0.3333333333333333,
              "#9c179e"
             ],
             [
              0.4444444444444444,
              "#bd3786"
             ],
             [
              0.5555555555555556,
              "#d8576b"
             ],
             [
              0.6666666666666666,
              "#ed7953"
             ],
             [
              0.7777777777777778,
              "#fb9f3a"
             ],
             [
              0.8888888888888888,
              "#fdca26"
             ],
             [
              1,
              "#f0f921"
             ]
            ],
            "type": "histogram2dcontour"
           }
          ],
          "mesh3d": [
           {
            "colorbar": {
             "outlinewidth": 0,
             "ticks": ""
            },
            "type": "mesh3d"
           }
          ],
          "parcoords": [
           {
            "line": {
             "colorbar": {
              "outlinewidth": 0,
              "ticks": ""
             }
            },
            "type": "parcoords"
           }
          ],
          "pie": [
           {
            "automargin": true,
            "type": "pie"
           }
          ],
          "scatter": [
           {
            "fillpattern": {
             "fillmode": "overlay",
             "size": 10,
             "solidity": 0.2
            },
            "type": "scatter"
           }
          ],
          "scatter3d": [
           {
            "line": {
             "colorbar": {
              "outlinewidth": 0,
              "ticks": ""
             }
            },
            "marker": {
             "colorbar": {
              "outlinewidth": 0,
              "ticks": ""
             }
            },
            "type": "scatter3d"
           }
          ],
          "scattercarpet": [
           {
            "marker": {
             "colorbar": {
              "outlinewidth": 0,
              "ticks": ""
             }
            },
            "type": "scattercarpet"
           }
          ],
          "scattergeo": [
           {
            "marker": {
             "colorbar": {
              "outlinewidth": 0,
              "ticks": ""
             }
            },
            "type": "scattergeo"
           }
          ],
          "scattergl": [
           {
            "marker": {
             "colorbar": {
              "outlinewidth": 0,
              "ticks": ""
             }
            },
            "type": "scattergl"
           }
          ],
          "scattermap": [
           {
            "marker": {
             "colorbar": {
              "outlinewidth": 0,
              "ticks": ""
             }
            },
            "type": "scattermap"
           }
          ],
          "scattermapbox": [
           {
            "marker": {
             "colorbar": {
              "outlinewidth": 0,
              "ticks": ""
             }
            },
            "type": "scattermapbox"
           }
          ],
          "scatterpolar": [
           {
            "marker": {
             "colorbar": {
              "outlinewidth": 0,
              "ticks": ""
             }
            },
            "type": "scatterpolar"
           }
          ],
          "scatterpolargl": [
           {
            "marker": {
             "colorbar": {
              "outlinewidth": 0,
              "ticks": ""
             }
            },
            "type": "scatterpolargl"
           }
          ],
          "scatterternary": [
           {
            "marker": {
             "colorbar": {
              "outlinewidth": 0,
              "ticks": ""
             }
            },
            "type": "scatterternary"
           }
          ],
          "surface": [
           {
            "colorbar": {
             "outlinewidth": 0,
             "ticks": ""
            },
            "colorscale": [
             [
              0,
              "#0d0887"
             ],
             [
              0.1111111111111111,
              "#46039f"
             ],
             [
              0.2222222222222222,
              "#7201a8"
             ],
             [
              0.3333333333333333,
              "#9c179e"
             ],
             [
              0.4444444444444444,
              "#bd3786"
             ],
             [
              0.5555555555555556,
              "#d8576b"
             ],
             [
              0.6666666666666666,
              "#ed7953"
             ],
             [
              0.7777777777777778,
              "#fb9f3a"
             ],
             [
              0.8888888888888888,
              "#fdca26"
             ],
             [
              1,
              "#f0f921"
             ]
            ],
            "type": "surface"
           }
          ],
          "table": [
           {
            "cells": {
             "fill": {
              "color": "#EBF0F8"
             },
             "line": {
              "color": "white"
             }
            },
            "header": {
             "fill": {
              "color": "#C8D4E3"
             },
             "line": {
              "color": "white"
             }
            },
            "type": "table"
           }
          ]
         },
         "layout": {
          "annotationdefaults": {
           "arrowcolor": "#2a3f5f",
           "arrowhead": 0,
           "arrowwidth": 1
          },
          "autotypenumbers": "strict",
          "coloraxis": {
           "colorbar": {
            "outlinewidth": 0,
            "ticks": ""
           }
          },
          "colorscale": {
           "diverging": [
            [
             0,
             "#8e0152"
            ],
            [
             0.1,
             "#c51b7d"
            ],
            [
             0.2,
             "#de77ae"
            ],
            [
             0.3,
             "#f1b6da"
            ],
            [
             0.4,
             "#fde0ef"
            ],
            [
             0.5,
             "#f7f7f7"
            ],
            [
             0.6,
             "#e6f5d0"
            ],
            [
             0.7,
             "#b8e186"
            ],
            [
             0.8,
             "#7fbc41"
            ],
            [
             0.9,
             "#4d9221"
            ],
            [
             1,
             "#276419"
            ]
           ],
           "sequential": [
            [
             0,
             "#0d0887"
            ],
            [
             0.1111111111111111,
             "#46039f"
            ],
            [
             0.2222222222222222,
             "#7201a8"
            ],
            [
             0.3333333333333333,
             "#9c179e"
            ],
            [
             0.4444444444444444,
             "#bd3786"
            ],
            [
             0.5555555555555556,
             "#d8576b"
            ],
            [
             0.6666666666666666,
             "#ed7953"
            ],
            [
             0.7777777777777778,
             "#fb9f3a"
            ],
            [
             0.8888888888888888,
             "#fdca26"
            ],
            [
             1,
             "#f0f921"
            ]
           ],
           "sequentialminus": [
            [
             0,
             "#0d0887"
            ],
            [
             0.1111111111111111,
             "#46039f"
            ],
            [
             0.2222222222222222,
             "#7201a8"
            ],
            [
             0.3333333333333333,
             "#9c179e"
            ],
            [
             0.4444444444444444,
             "#bd3786"
            ],
            [
             0.5555555555555556,
             "#d8576b"
            ],
            [
             0.6666666666666666,
             "#ed7953"
            ],
            [
             0.7777777777777778,
             "#fb9f3a"
            ],
            [
             0.8888888888888888,
             "#fdca26"
            ],
            [
             1,
             "#f0f921"
            ]
           ]
          },
          "colorway": [
           "#636efa",
           "#EF553B",
           "#00cc96",
           "#ab63fa",
           "#FFA15A",
           "#19d3f3",
           "#FF6692",
           "#B6E880",
           "#FF97FF",
           "#FECB52"
          ],
          "font": {
           "color": "#2a3f5f"
          },
          "geo": {
           "bgcolor": "white",
           "lakecolor": "white",
           "landcolor": "#E5ECF6",
           "showlakes": true,
           "showland": true,
           "subunitcolor": "white"
          },
          "hoverlabel": {
           "align": "left"
          },
          "hovermode": "closest",
          "mapbox": {
           "style": "light"
          },
          "paper_bgcolor": "white",
          "plot_bgcolor": "#E5ECF6",
          "polar": {
           "angularaxis": {
            "gridcolor": "white",
            "linecolor": "white",
            "ticks": ""
           },
           "bgcolor": "#E5ECF6",
           "radialaxis": {
            "gridcolor": "white",
            "linecolor": "white",
            "ticks": ""
           }
          },
          "scene": {
           "xaxis": {
            "backgroundcolor": "#E5ECF6",
            "gridcolor": "white",
            "gridwidth": 2,
            "linecolor": "white",
            "showbackground": true,
            "ticks": "",
            "zerolinecolor": "white"
           },
           "yaxis": {
            "backgroundcolor": "#E5ECF6",
            "gridcolor": "white",
            "gridwidth": 2,
            "linecolor": "white",
            "showbackground": true,
            "ticks": "",
            "zerolinecolor": "white"
           },
           "zaxis": {
            "backgroundcolor": "#E5ECF6",
            "gridcolor": "white",
            "gridwidth": 2,
            "linecolor": "white",
            "showbackground": true,
            "ticks": "",
            "zerolinecolor": "white"
           }
          },
          "shapedefaults": {
           "line": {
            "color": "#2a3f5f"
           }
          },
          "ternary": {
           "aaxis": {
            "gridcolor": "white",
            "linecolor": "white",
            "ticks": ""
           },
           "baxis": {
            "gridcolor": "white",
            "linecolor": "white",
            "ticks": ""
           },
           "bgcolor": "#E5ECF6",
           "caxis": {
            "gridcolor": "white",
            "linecolor": "white",
            "ticks": ""
           }
          },
          "title": {
           "x": 0.05
          },
          "xaxis": {
           "automargin": true,
           "gridcolor": "white",
           "linecolor": "white",
           "ticks": "",
           "title": {
            "standoff": 15
           },
           "zerolinecolor": "white",
           "zerolinewidth": 2
          },
          "yaxis": {
           "automargin": true,
           "gridcolor": "white",
           "linecolor": "white",
           "ticks": "",
           "title": {
            "standoff": 15
           },
           "zerolinecolor": "white",
           "zerolinewidth": 2
          }
         }
        },
        "title": {
         "text": "Top 20 Performing Stocks on 2023-06-08"
        },
        "width": 1100,
        "xaxis": {
         "anchor": "y",
         "categoryorder": "total descending",
         "domain": [
          0,
          1
         ],
         "title": {
          "text": "Stock Name"
         }
        },
        "yaxis": {
         "anchor": "x",
         "domain": [
          0,
          1
         ],
         "title": {
          "text": "Performance Metric Value"
         }
        }
       }
      }
     },
     "metadata": {},
     "output_type": "display_data"
    }
   ],
   "source": [
    "import plotly.express as px\n",
    "import pandas as pd\n",
    "\n",
    "# First, I define the specific date for which I want to analyze stock performance.\n",
    "specific_date = '2023-06-08'  # Modify this date based on the analysis requirement.\n",
    "\n",
    "# Now, I filter the dataset to include only stocks from the selected date.\n",
    "filtered_date_df = filtered_df[filtered_df['DateTime_$date'] == specific_date]\n",
    "\n",
    "# To prioritize high-performing stocks, I sort them based on 'D_PDEMA20' and 'D_RSI' in descending order.\n",
    "# Then, I select the top 20 stocks that meet the criteria.\n",
    "top_20_stocks = filtered_date_df.sort_values(by=['D_PDEMA20', 'D_RSI'], ascending=[False, False]).head(20)\n",
    "\n",
    "# Since I want to visualize multiple performance metrics in a single chart,\n",
    "# I reshape the data using the melt function. This converts 'D_PDEMA20' and 'D_RSI' into a long format,\n",
    "# making it suitable for a stacked bar chart.\n",
    "top_20_melted = top_20_stocks.melt(id_vars=['STOCK'], value_vars=['D_PDEMA20', 'D_RSI'], \n",
    "                                   var_name='Metric', value_name='Value')\n",
    "\n",
    "# Now, I create a stacked bar chart using Plotly to compare performance metrics across the top 20 stocks.\n",
    "fig = px.bar(\n",
    "    top_20_melted, \n",
    "    x='STOCK', \n",
    "    y='Value', \n",
    "    color='Metric',\n",
    "    barmode='stack',  # Bars are stacked to show contribution of each metric per stock.\n",
    "    title=f\"Top 20 Performing Stocks on {specific_date}\", \n",
    "    labels={'Value': 'Performance Metric Value', 'STOCK': 'Stock Name'},\n",
    "    text='Value',  # Display values directly on the bars.\n",
    "    color_discrete_map={'D_PDEMA20': '#F05D5E', 'D_RSI': '#0F7173'}  # Custom colors for better differentiation.\n",
    ")\n",
    "\n",
    "# Adjusting the layout for better readability and aesthetics.\n",
    "fig.update_layout(\n",
    "    xaxis={'categoryorder': 'total descending'},  # Ordering stocks by total metric values.\n",
    "    xaxis_title=\"Stock Name\",\n",
    "    yaxis_title=\"Performance Metric Value\",\n",
    "    height=550,\n",
    "    width=1100,\n",
    "    margin=dict(l=15, r=15, t=80, b=50),  # Increase top margin for legend space\n",
    "    legend=dict(\n",
    "        orientation='h',  # Horizontal legend\n",
    "        x=0.8, y=1.12,  # Center the legend below the title\n",
    "        xanchor='center',\n",
    "    )\n",
    "\n",
    ")\n",
    "\n",
    "# Finally, I display the interactive chart.\n",
    "fig.show()\n"
   ]
  },
  {
   "cell_type": "markdown",
   "id": "49f431ec",
   "metadata": {},
   "source": [
    "<h2 style=\"color: rgb(31, 136, 217);\">Portfolio Churning</h2>"
   ]
  },
  {
   "cell_type": "code",
   "execution_count": 14,
   "id": "526cff31",
   "metadata": {},
   "outputs": [
    {
     "data": {
      "text/html": [
       "<div>\n",
       "<style scoped>\n",
       "    .dataframe tbody tr th:only-of-type {\n",
       "        vertical-align: middle;\n",
       "    }\n",
       "\n",
       "    .dataframe tbody tr th {\n",
       "        vertical-align: top;\n",
       "    }\n",
       "\n",
       "    .dataframe thead th {\n",
       "        text-align: right;\n",
       "    }\n",
       "</style>\n",
       "<table border=\"1\" class=\"dataframe\">\n",
       "  <thead>\n",
       "    <tr style=\"text-align: right;\">\n",
       "      <th></th>\n",
       "      <th>Month</th>\n",
       "      <th>Total_Stocks</th>\n",
       "      <th>Portfolio_Value</th>\n",
       "      <th>Profit</th>\n",
       "      <th>Loss</th>\n",
       "      <th>Monthly_Return</th>\n",
       "    </tr>\n",
       "  </thead>\n",
       "  <tbody>\n",
       "    <tr>\n",
       "      <th>0</th>\n",
       "      <td>2023-02</td>\n",
       "      <td>76</td>\n",
       "      <td>272995.30</td>\n",
       "      <td>0.00</td>\n",
       "      <td>0.00</td>\n",
       "      <td>0.00</td>\n",
       "    </tr>\n",
       "    <tr>\n",
       "      <th>1</th>\n",
       "      <td>2023-03</td>\n",
       "      <td>83</td>\n",
       "      <td>278741.89</td>\n",
       "      <td>5846.73</td>\n",
       "      <td>100.14</td>\n",
       "      <td>2.11</td>\n",
       "    </tr>\n",
       "    <tr>\n",
       "      <th>2</th>\n",
       "      <td>2023-04</td>\n",
       "      <td>158</td>\n",
       "      <td>290186.79</td>\n",
       "      <td>11503.67</td>\n",
       "      <td>58.77</td>\n",
       "      <td>4.11</td>\n",
       "    </tr>\n",
       "    <tr>\n",
       "      <th>3</th>\n",
       "      <td>2023-05</td>\n",
       "      <td>228</td>\n",
       "      <td>305990.51</td>\n",
       "      <td>16080.70</td>\n",
       "      <td>276.98</td>\n",
       "      <td>5.45</td>\n",
       "    </tr>\n",
       "    <tr>\n",
       "      <th>4</th>\n",
       "      <td>2023-06</td>\n",
       "      <td>247</td>\n",
       "      <td>321524.09</td>\n",
       "      <td>15563.06</td>\n",
       "      <td>29.48</td>\n",
       "      <td>5.08</td>\n",
       "    </tr>\n",
       "    <tr>\n",
       "      <th>5</th>\n",
       "      <td>2023-07</td>\n",
       "      <td>280</td>\n",
       "      <td>338560.58</td>\n",
       "      <td>17094.11</td>\n",
       "      <td>57.63</td>\n",
       "      <td>5.30</td>\n",
       "    </tr>\n",
       "    <tr>\n",
       "      <th>6</th>\n",
       "      <td>2023-08</td>\n",
       "      <td>249</td>\n",
       "      <td>350190.60</td>\n",
       "      <td>11966.16</td>\n",
       "      <td>336.14</td>\n",
       "      <td>3.44</td>\n",
       "    </tr>\n",
       "  </tbody>\n",
       "</table>\n",
       "</div>"
      ],
      "text/plain": [
       "     Month  Total_Stocks  Portfolio_Value    Profit    Loss  Monthly_Return\n",
       "0  2023-02            76        272995.30      0.00    0.00            0.00\n",
       "1  2023-03            83        278741.89   5846.73  100.14            2.11\n",
       "2  2023-04           158        290186.79  11503.67   58.77            4.11\n",
       "3  2023-05           228        305990.51  16080.70  276.98            5.45\n",
       "4  2023-06           247        321524.09  15563.06   29.48            5.08\n",
       "5  2023-07           280        338560.58  17094.11   57.63            5.30\n",
       "6  2023-08           249        350190.60  11966.16  336.14            3.44"
      ]
     },
     "execution_count": 14,
     "metadata": {},
     "output_type": "execute_result"
    }
   ],
   "source": [
    "import pandas as pd\n",
    "import numpy as np\n",
    "\n",
    "# Creating a copy of the filtered DataFrame to ensure original data remains unchanged\n",
    "df = filtered_df.copy()\n",
    "\n",
    "# Converting 'DateTime_$date' column to datetime format so it can be used for sorting and grouping\n",
    "df['DateTime_$date'] = pd.to_datetime(df['DateTime_$date'])\n",
    "\n",
    "# Making sure 'DEFAULT_LTP' and 'DEFAULT_Yesterday_close' are in numeric format \n",
    "# If there are any errors, they will be converted to NaN\n",
    "df['DEFAULT_LTP'] = pd.to_numeric(df['DEFAULT_LTP'], errors='coerce')\n",
    "df['DEFAULT_Yesterday_close'] = pd.to_numeric(df['DEFAULT_Yesterday_close'], errors='coerce')\n",
    "\n",
    "# Extracting the month from the 'DateTime_$date' column in 'YYYY-MM' format \n",
    "# This helps in analyzing returns on a monthly basis\n",
    "if 'Month' not in df.columns:\n",
    "    df['Month'] = df['DateTime_$date'].dt.to_period('M').astype(str)\n",
    "\n",
    "# Grouping data by 'Month' and 'STOCK' to calculate:\n",
    "# - 'DEFAULT_LTP': Last traded price at the end of the month\n",
    "# - 'DEFAULT_Yesterday_close': First available closing price from the start of the month\n",
    "monthly_returns = df.groupby(['Month', 'STOCK']).agg({\n",
    "    'DEFAULT_LTP': 'last',  # Taking the last available LTP for each stock in that month\n",
    "    'DEFAULT_Yesterday_close': 'first',  # Taking the first available yesterday’s close in that month\n",
    "}).reset_index()\n",
    "\n",
    "# Calculating monthly returns for each stock using the formula:\n",
    "# ((Last LTP - First Yesterday Close) / First Yesterday Close) * 100\n",
    "monthly_returns['Monthly_Return'] = (\n",
    "    (monthly_returns['DEFAULT_LTP'] - monthly_returns['DEFAULT_Yesterday_close']) / \n",
    "    monthly_returns['DEFAULT_Yesterday_close'] * 100\n",
    ")\n",
    "\n",
    "# Function to select top-performing stocks for each month\n",
    "# If 'top_n' is specified, it returns the top N stocks; otherwise, returns all available stocks\n",
    "def get_top_stocks(group, top_n=None):\n",
    "    return group.sort_values('Monthly_Return', ascending=False).head(top_n) if top_n else group\n",
    "\n",
    "# Getting the first month in the dataset (this will be used to set the initial investment)\n",
    "first_month = monthly_returns['Month'].min()\n",
    "\n",
    "# Summing up all stock values at the beginning of the first month to get the initial investment\n",
    "initial_investment = monthly_returns[monthly_returns['Month'] == first_month]['DEFAULT_Yesterday_close'].sum()\n",
    "\n",
    "# Setting up portfolio tracking variables\n",
    "portfolio_value = initial_investment  # Starting portfolio value\n",
    "current_portfolio = {}  # Dictionary to track current stocks and their allocated amounts\n",
    "monthly_pnl = []  # List to store profit/loss data for each month\n",
    "\n",
    "# Looping through each month to update portfolio based on stock performance\n",
    "for month, group in monthly_returns.groupby('Month'):\n",
    "    # Sorting stocks by performance (highest return first)\n",
    "    top_stocks = get_top_stocks(group)\n",
    "    \n",
    "    # Getting the total number of stocks selected for the month\n",
    "    n_stocks = len(top_stocks)\n",
    "\n",
    "    # If no stocks meet the criteria for the month, print a message and skip to the next month\n",
    "    if n_stocks == 0:\n",
    "        print(f\"No stocks available for {month}. Skipping month.\")\n",
    "        continue\n",
    "    \n",
    "    # Calculating profit and loss from the existing portfolio before rebalancing\n",
    "    monthly_profit = 0\n",
    "    monthly_loss = 0\n",
    "\n",
    "    for stock, investment in current_portfolio.items():\n",
    "        if stock in group['STOCK'].values:\n",
    "            current_price = group.loc[group['STOCK'] == stock, 'DEFAULT_LTP'].values[0]  # Last traded price\n",
    "            purchase_price = group.loc[group['STOCK'] == stock, 'DEFAULT_Yesterday_close'].values[0]  # Purchase price\n",
    "\n",
    "            # Calculating profit or loss based on percentage change\n",
    "            stock_pnl = ((current_price - purchase_price) / purchase_price) * investment\n",
    "\n",
    "            # Adding to profit if positive, otherwise adding to loss\n",
    "            if stock_pnl > 0:\n",
    "                monthly_profit += stock_pnl\n",
    "            else:\n",
    "                monthly_loss += abs(stock_pnl)\n",
    "    \n",
    "    # Updating portfolio value after accounting for profit and loss\n",
    "    previous_value = portfolio_value  # Storing previous portfolio value for return calculation\n",
    "    portfolio_value += (monthly_profit - monthly_loss)  # Updating portfolio with net P&L\n",
    "    \n",
    "    # Calculating monthly return percentage\n",
    "    monthly_return = ((portfolio_value - previous_value) / previous_value) * 100\n",
    "\n",
    "    # Selling all existing stocks and reinvesting equally in the top stocks for the new month\n",
    "    investment_per_stock = portfolio_value / n_stocks  # Dividing total value equally among selected stocks\n",
    "    current_portfolio = {stock: investment_per_stock for stock in top_stocks['STOCK']}\n",
    "\n",
    "    # Storing monthly performance data\n",
    "    monthly_pnl.append({\n",
    "        'Month': month,\n",
    "        'Total_Stocks': n_stocks,\n",
    "        'Portfolio_Value': portfolio_value,\n",
    "        'Profit': monthly_profit,\n",
    "        'Loss': monthly_loss,\n",
    "        'Monthly_Return': monthly_return\n",
    "    })\n",
    "\n",
    "# Converting the collected monthly data into a DataFrame for analysis\n",
    "pnl_df = pd.DataFrame(monthly_pnl).round(2)\n",
    "\n",
    "# Displaying the final monthly performance table\n",
    "pnl_df\n"
   ]
  },
  {
   "cell_type": "markdown",
   "id": "e1abd56e",
   "metadata": {},
   "source": [
    "<h2 style=\"color: rgb(31, 136, 217);\">Volatility Calculation</h2>"
   ]
  },
  {
   "cell_type": "code",
   "execution_count": 15,
   "id": "6ac5fd71",
   "metadata": {},
   "outputs": [
    {
     "name": "stdout",
     "output_type": "stream",
     "text": [
      "Statistical Summary:\n",
      "Portfolio_Mean_Daily_Return: 0.5239\n",
      "Portfolio_Annualized_Volatility: 6.5017\n",
      "Portfolio_Skewness: 0.2751\n",
      "Portfolio_Kurtosis: 1.1398\n",
      "Nifty_Mean_Daily_Return: 0.2808\n",
      "Nifty_Annualized_Volatility: 10.7648\n",
      "Nifty_Skewness: -0.6312\n",
      "Nifty_Kurtosis: 9.6955\n",
      "T-Test Statistic: 2.9381\n",
      "P-Value: 0.0038\n"
     ]
    },
    {
     "data": {
      "application/vnd.plotly.v1+json": {
       "config": {
        "plotlyServerURL": "https://plot.ly"
       },
       "data": [
        {
         "line": {
          "color": "#636efa",
          "shape": "spline",
          "smoothing": 1.3
         },
         "marker": {
          "size": 4
         },
         "mode": "lines+markers",
         "name": "Portfolio Volatility",
         "type": "scatter",
         "x": [
          "2023-02-08T00:00:00",
          "2023-02-09T00:00:00",
          "2023-02-10T00:00:00",
          "2023-02-15T00:00:00",
          "2023-02-20T00:00:00",
          "2023-03-08T00:00:00",
          "2023-03-31T00:00:00",
          "2023-04-05T00:00:00",
          "2023-04-06T00:00:00",
          "2023-04-10T00:00:00",
          "2023-04-11T00:00:00",
          "2023-04-12T00:00:00",
          "2023-04-13T00:00:00",
          "2023-04-19T00:00:00",
          "2023-04-20T00:00:00",
          "2023-04-21T00:00:00",
          "2023-04-24T00:00:00",
          "2023-04-25T00:00:00",
          "2023-04-26T00:00:00",
          "2023-04-27T00:00:00",
          "2023-04-28T00:00:00",
          "2023-05-02T00:00:00",
          "2023-05-03T00:00:00",
          "2023-05-04T00:00:00",
          "2023-05-05T00:00:00",
          "2023-05-08T00:00:00",
          "2023-05-09T00:00:00",
          "2023-05-10T00:00:00",
          "2023-05-11T00:00:00",
          "2023-05-12T00:00:00",
          "2023-05-17T00:00:00",
          "2023-05-18T00:00:00",
          "2023-05-19T00:00:00",
          "2023-05-22T00:00:00",
          "2023-05-23T00:00:00",
          "2023-05-24T00:00:00",
          "2023-05-25T00:00:00",
          "2023-05-26T00:00:00",
          "2023-05-29T00:00:00",
          "2023-05-30T00:00:00",
          "2023-05-31T00:00:00",
          "2023-06-01T00:00:00",
          "2023-06-02T00:00:00",
          "2023-06-05T00:00:00",
          "2023-06-06T00:00:00",
          "2023-06-07T00:00:00",
          "2023-06-08T00:00:00",
          "2023-06-09T00:00:00",
          "2023-06-12T00:00:00",
          "2023-06-13T00:00:00",
          "2023-06-14T00:00:00",
          "2023-06-15T00:00:00",
          "2023-06-16T00:00:00",
          "2023-06-19T00:00:00",
          "2023-06-20T00:00:00",
          "2023-06-21T00:00:00",
          "2023-06-23T00:00:00",
          "2023-06-26T00:00:00",
          "2023-06-27T00:00:00",
          "2023-06-28T00:00:00",
          "2023-06-30T00:00:00",
          "2023-07-03T00:00:00",
          "2023-07-04T00:00:00",
          "2023-07-05T00:00:00",
          "2023-07-06T00:00:00",
          "2023-07-07T00:00:00",
          "2023-07-10T00:00:00",
          "2023-07-11T00:00:00",
          "2023-07-12T00:00:00",
          "2023-07-13T00:00:00",
          "2023-07-14T00:00:00",
          "2023-07-17T00:00:00",
          "2023-07-18T00:00:00",
          "2023-07-19T00:00:00",
          "2023-07-20T00:00:00",
          "2023-07-21T00:00:00",
          "2023-07-24T00:00:00",
          "2023-07-25T00:00:00",
          "2023-07-26T00:00:00",
          "2023-07-27T00:00:00",
          "2023-07-31T00:00:00",
          "2023-08-01T00:00:00",
          "2023-08-02T00:00:00",
          "2023-08-03T00:00:00",
          "2023-08-04T00:00:00",
          "2023-08-07T00:00:00",
          "2023-08-08T00:00:00",
          "2023-08-09T00:00:00",
          "2023-08-10T00:00:00",
          "2023-08-11T00:00:00",
          "2023-08-14T00:00:00",
          "2023-08-16T00:00:00",
          "2023-08-17T00:00:00",
          "2023-08-18T00:00:00",
          "2023-08-21T00:00:00",
          "2023-08-22T00:00:00",
          "2023-08-23T00:00:00",
          "2023-08-24T00:00:00",
          "2023-08-25T00:00:00",
          "2023-08-28T00:00:00",
          "2023-08-29T00:00:00",
          "2023-08-31T00:00:00"
         ],
         "xaxis": "x",
         "y": {
          "bdata": "AAAAAAAA+H8AAAAAAAD4f31GflJ2Gvg//xl9Bo9OHkDxBLvC73QmQIOhoPCfZiVAhmbFz6A2KED1vZGz0mQnQNavhcepuCdAkD4as5RjJkDq8MQo2SAmQFrCmUVC/CVAhjCWYE5BJkByFlPRGRIlQLmGWcXwzyNAkdO4aLT2I0BQdzE8KiYVQD5OU/ck0RRAE/sPWVAVFUAYAqx78iYVQDTi9MtT1RRA/DiikRvsE0DpNxui7/ETQHk/f0CF5hNAbyrmhKBzFEDzYOrcIvUSQK7tQ2ywQRNAbaVagJBKE0Ak02lY97YSQAYFDeuVoxNAVq06RD4sGkDMcfZrQMkaQFV7QSbriBpABDp9E2ouGUAF6J0R2NkYQPGXANqSgxdAqQnByE1CF0BNzOQVGP4WQDFNhssC8hZA4aXtSNFXF0BD6yWRHC4XQKcB2UM1LhdACfGCYhcEF0AhsIacGaAWQF2DzfScaRVASkL6g0bSFUBrn6QywGIXQDPdtRhNuRdASqU5H8P7F0Ap1XvPI+QWQAr/Fh+I4Q9ABU0ZRZ9CDUCPzizcKIsNQMzMVJTXtg1A0pLbLaXFDUBTsLlvssYNQP2SycNmDBRAIiZupM/2E0Bc87arbSgVQEVBGzRAOBVAKVcmvSV4FkBtrgCM5HgWQJKXTfjyzxZAIRrOyc10F0Axk7gd8PQWQGZg+31P9RdAYMv9Pn7LF0AprysEbGwXQNF9Zc8tShdA62IdIC7AF0AMsKK0Ht4ZQEPB+GfrhRlAyao5oJqFG0B2goWJqZ0bQFBwtW4MwBtAKjsiUF5sGUCEclhbTQAYQKDDjZfNBxhARuSOEW4oF0AfhAxj4CgXQNdBpnnVQxpAmq3CvBRfGkBBUomC2gYeQJynlqiibx1AX8hkb8PDHUAtTivLkHMbQJRHBal4XRtARmxppBm0HEAngS9LlK8cQGK52CRXuxtAB0483RRJG0Czm51rAc4cQAsPTrC1OBtAwEQHM6dGG0A22fIhRkUbQHlZl5Q1xRtAzcdRGgfrG0A0+UTmQuobQE4WSZ9c6R1AH/9J2xl2HkC4fbH/Sp0bQP4E8YW+zhxA",
          "dtype": "f8"
         },
         "yaxis": "y"
        },
        {
         "line": {
          "color": "red",
          "shape": "spline",
          "smoothing": 1.3
         },
         "marker": {
          "size": 4
         },
         "mode": "lines+markers",
         "name": "Nifty Volatility",
         "type": "scatter",
         "x": [
          "2023-02-08T00:00:00",
          "2023-02-09T00:00:00",
          "2023-02-10T00:00:00",
          "2023-02-15T00:00:00",
          "2023-02-20T00:00:00",
          "2023-03-08T00:00:00",
          "2023-03-31T00:00:00",
          "2023-04-05T00:00:00",
          "2023-04-06T00:00:00",
          "2023-04-10T00:00:00",
          "2023-04-11T00:00:00",
          "2023-04-12T00:00:00",
          "2023-04-13T00:00:00",
          "2023-04-19T00:00:00",
          "2023-04-20T00:00:00",
          "2023-04-21T00:00:00",
          "2023-04-24T00:00:00",
          "2023-04-25T00:00:00",
          "2023-04-26T00:00:00",
          "2023-04-27T00:00:00",
          "2023-04-28T00:00:00",
          "2023-05-02T00:00:00",
          "2023-05-03T00:00:00",
          "2023-05-04T00:00:00",
          "2023-05-05T00:00:00",
          "2023-05-08T00:00:00",
          "2023-05-09T00:00:00",
          "2023-05-10T00:00:00",
          "2023-05-11T00:00:00",
          "2023-05-12T00:00:00",
          "2023-05-17T00:00:00",
          "2023-05-18T00:00:00",
          "2023-05-19T00:00:00",
          "2023-05-22T00:00:00",
          "2023-05-23T00:00:00",
          "2023-05-24T00:00:00",
          "2023-05-25T00:00:00",
          "2023-05-26T00:00:00",
          "2023-05-29T00:00:00",
          "2023-05-30T00:00:00",
          "2023-05-31T00:00:00",
          "2023-06-01T00:00:00",
          "2023-06-02T00:00:00",
          "2023-06-05T00:00:00",
          "2023-06-06T00:00:00",
          "2023-06-07T00:00:00",
          "2023-06-08T00:00:00",
          "2023-06-09T00:00:00",
          "2023-06-12T00:00:00",
          "2023-06-13T00:00:00",
          "2023-06-14T00:00:00",
          "2023-06-15T00:00:00",
          "2023-06-16T00:00:00",
          "2023-06-19T00:00:00",
          "2023-06-20T00:00:00",
          "2023-06-21T00:00:00",
          "2023-06-23T00:00:00",
          "2023-06-26T00:00:00",
          "2023-06-27T00:00:00",
          "2023-06-28T00:00:00",
          "2023-06-30T00:00:00",
          "2023-07-03T00:00:00",
          "2023-07-04T00:00:00",
          "2023-07-05T00:00:00",
          "2023-07-06T00:00:00",
          "2023-07-07T00:00:00",
          "2023-07-10T00:00:00",
          "2023-07-11T00:00:00",
          "2023-07-12T00:00:00",
          "2023-07-13T00:00:00",
          "2023-07-14T00:00:00",
          "2023-07-17T00:00:00",
          "2023-07-18T00:00:00",
          "2023-07-19T00:00:00",
          "2023-07-20T00:00:00",
          "2023-07-21T00:00:00",
          "2023-07-24T00:00:00",
          "2023-07-25T00:00:00",
          "2023-07-26T00:00:00",
          "2023-07-27T00:00:00",
          "2023-07-31T00:00:00",
          "2023-08-01T00:00:00",
          "2023-08-02T00:00:00",
          "2023-08-03T00:00:00",
          "2023-08-04T00:00:00",
          "2023-08-07T00:00:00",
          "2023-08-08T00:00:00",
          "2023-08-09T00:00:00",
          "2023-08-10T00:00:00",
          "2023-08-11T00:00:00",
          "2023-08-14T00:00:00",
          "2023-08-16T00:00:00",
          "2023-08-17T00:00:00",
          "2023-08-18T00:00:00",
          "2023-08-21T00:00:00",
          "2023-08-22T00:00:00",
          "2023-08-23T00:00:00",
          "2023-08-24T00:00:00",
          "2023-08-25T00:00:00",
          "2023-08-28T00:00:00",
          "2023-08-29T00:00:00",
          "2023-08-31T00:00:00"
         ],
         "xaxis": "x",
         "y": {
          "bdata": "AAAAAAAA+H8AAAAAAAD4f3qrhU5njChAOcEG2vxhIUDPRL9h+5ciQM9Ev2H7lyJAKaD9W6AiIEAi3WZFza0gQGji1/aiPCBA6rSlBDQmIEDvqOFf+64eQBzfcNSONx9AYn93+HCuHUCxfbxQyHIcQJrWu5WShBtA7ilwzrrXG0DvcJWa1vUdQDHTHlRSMR1A120KbQpqHEAClYxfIkAcQNl2V2syextAwZWeAjLQGkAwRPRhgUcZQLeP46EjeRlA3W9khOW1GEDYrDVnrq0YQNj9jd2ZLxlAlYmeoifTFkAKw505NJIWQOlxRT476hVA1qtoKEctF0DwgKg2NxUWQNZL1lMaHxZAg1lMHssALkCdVoyqPwQuQO7Vfu8EBi5ACuyrdu1DLUDCvP+zmu8tQHSh7+D/4C1Ambr8uDOYLUDSLyLLIYctQJjjWqT5iS1AKN3sJfuvLUAmYLicOZEtQEnqJBvqjC1AM+VtXxadLUDcJCZGCKUtQEELSTxKnC1A/6UfLUXELUAbtDxYfjsuQFOq9vek5C1AbwjHJbnkLUAK/JRzMAIuQFbcVdtLVBZABFSUXyHRFUBHF1uhMB8WQL697GLQqhhAwwus+TPxHEAu+diTFSAdQOICZ1MLDh1ACaiEIjWiHUBhhInJfwQeQG2OCsT7AB5A+4Mr3yoVHkB/wY9CWZ0eQNbtnPR0uiBAmGRmo2xbIEBBLL+tpBkgQPB7KJ4xQCBAJMVRLiU1IEAjXyV9tQkhQI9SSAOJESFA1adZobd8IUDS3ZJe+ZcgQM6mAH+3piBAs7rnL1kmIUB1V+jXNz8gQK/VoySQ1BtA7IfTgmjMG0C4b516pwMcQM4h00d2PyFAo37KYAUlIkADlcxd5V8rQKPWxNS3iCxAQGHhjqZ3LEDN7I1pa7ctQJZPR0Wlvy1ATa74/UrXLkA5HrUGug0xQEvyuAEKvTFAvrk1zSScMUDfOZXR/KcxQHpRcfJw0DFAlatPXS/QMUDyMSYOYvcxQBSoPSCozDFAVfUHvgfAMUDD3uWkUcQxQFsIJ/D0EjJAUOyvFuELMkDoYZftizgxQAiCJ42kBDFA",
          "dtype": "f8"
         },
         "yaxis": "y"
        }
       ],
       "layout": {
        "annotations": [
         {
          "font": {
           "size": 16
          },
          "showarrow": false,
          "text": "P",
          "x": 0.5,
          "xanchor": "center",
          "xref": "paper",
          "y": 1,
          "yanchor": "bottom",
          "yref": "paper"
         }
        ],
        "height": 550,
        "legend": {
         "orientation": "h",
         "x": 0.8,
         "xanchor": "center",
         "y": 1.1
        },
        "margin": {
         "b": 50,
         "l": 15,
         "r": 15,
         "t": 80
        },
        "showlegend": true,
        "template": {
         "data": {
          "bar": [
           {
            "error_x": {
             "color": "#2a3f5f"
            },
            "error_y": {
             "color": "#2a3f5f"
            },
            "marker": {
             "line": {
              "color": "#E5ECF6",
              "width": 0.5
             },
             "pattern": {
              "fillmode": "overlay",
              "size": 10,
              "solidity": 0.2
             }
            },
            "type": "bar"
           }
          ],
          "barpolar": [
           {
            "marker": {
             "line": {
              "color": "#E5ECF6",
              "width": 0.5
             },
             "pattern": {
              "fillmode": "overlay",
              "size": 10,
              "solidity": 0.2
             }
            },
            "type": "barpolar"
           }
          ],
          "carpet": [
           {
            "aaxis": {
             "endlinecolor": "#2a3f5f",
             "gridcolor": "white",
             "linecolor": "white",
             "minorgridcolor": "white",
             "startlinecolor": "#2a3f5f"
            },
            "baxis": {
             "endlinecolor": "#2a3f5f",
             "gridcolor": "white",
             "linecolor": "white",
             "minorgridcolor": "white",
             "startlinecolor": "#2a3f5f"
            },
            "type": "carpet"
           }
          ],
          "choropleth": [
           {
            "colorbar": {
             "outlinewidth": 0,
             "ticks": ""
            },
            "type": "choropleth"
           }
          ],
          "contour": [
           {
            "colorbar": {
             "outlinewidth": 0,
             "ticks": ""
            },
            "colorscale": [
             [
              0,
              "#0d0887"
             ],
             [
              0.1111111111111111,
              "#46039f"
             ],
             [
              0.2222222222222222,
              "#7201a8"
             ],
             [
              0.3333333333333333,
              "#9c179e"
             ],
             [
              0.4444444444444444,
              "#bd3786"
             ],
             [
              0.5555555555555556,
              "#d8576b"
             ],
             [
              0.6666666666666666,
              "#ed7953"
             ],
             [
              0.7777777777777778,
              "#fb9f3a"
             ],
             [
              0.8888888888888888,
              "#fdca26"
             ],
             [
              1,
              "#f0f921"
             ]
            ],
            "type": "contour"
           }
          ],
          "contourcarpet": [
           {
            "colorbar": {
             "outlinewidth": 0,
             "ticks": ""
            },
            "type": "contourcarpet"
           }
          ],
          "heatmap": [
           {
            "colorbar": {
             "outlinewidth": 0,
             "ticks": ""
            },
            "colorscale": [
             [
              0,
              "#0d0887"
             ],
             [
              0.1111111111111111,
              "#46039f"
             ],
             [
              0.2222222222222222,
              "#7201a8"
             ],
             [
              0.3333333333333333,
              "#9c179e"
             ],
             [
              0.4444444444444444,
              "#bd3786"
             ],
             [
              0.5555555555555556,
              "#d8576b"
             ],
             [
              0.6666666666666666,
              "#ed7953"
             ],
             [
              0.7777777777777778,
              "#fb9f3a"
             ],
             [
              0.8888888888888888,
              "#fdca26"
             ],
             [
              1,
              "#f0f921"
             ]
            ],
            "type": "heatmap"
           }
          ],
          "histogram": [
           {
            "marker": {
             "pattern": {
              "fillmode": "overlay",
              "size": 10,
              "solidity": 0.2
             }
            },
            "type": "histogram"
           }
          ],
          "histogram2d": [
           {
            "colorbar": {
             "outlinewidth": 0,
             "ticks": ""
            },
            "colorscale": [
             [
              0,
              "#0d0887"
             ],
             [
              0.1111111111111111,
              "#46039f"
             ],
             [
              0.2222222222222222,
              "#7201a8"
             ],
             [
              0.3333333333333333,
              "#9c179e"
             ],
             [
              0.4444444444444444,
              "#bd3786"
             ],
             [
              0.5555555555555556,
              "#d8576b"
             ],
             [
              0.6666666666666666,
              "#ed7953"
             ],
             [
              0.7777777777777778,
              "#fb9f3a"
             ],
             [
              0.8888888888888888,
              "#fdca26"
             ],
             [
              1,
              "#f0f921"
             ]
            ],
            "type": "histogram2d"
           }
          ],
          "histogram2dcontour": [
           {
            "colorbar": {
             "outlinewidth": 0,
             "ticks": ""
            },
            "colorscale": [
             [
              0,
              "#0d0887"
             ],
             [
              0.1111111111111111,
              "#46039f"
             ],
             [
              0.2222222222222222,
              "#7201a8"
             ],
             [
              0.3333333333333333,
              "#9c179e"
             ],
             [
              0.4444444444444444,
              "#bd3786"
             ],
             [
              0.5555555555555556,
              "#d8576b"
             ],
             [
              0.6666666666666666,
              "#ed7953"
             ],
             [
              0.7777777777777778,
              "#fb9f3a"
             ],
             [
              0.8888888888888888,
              "#fdca26"
             ],
             [
              1,
              "#f0f921"
             ]
            ],
            "type": "histogram2dcontour"
           }
          ],
          "mesh3d": [
           {
            "colorbar": {
             "outlinewidth": 0,
             "ticks": ""
            },
            "type": "mesh3d"
           }
          ],
          "parcoords": [
           {
            "line": {
             "colorbar": {
              "outlinewidth": 0,
              "ticks": ""
             }
            },
            "type": "parcoords"
           }
          ],
          "pie": [
           {
            "automargin": true,
            "type": "pie"
           }
          ],
          "scatter": [
           {
            "fillpattern": {
             "fillmode": "overlay",
             "size": 10,
             "solidity": 0.2
            },
            "type": "scatter"
           }
          ],
          "scatter3d": [
           {
            "line": {
             "colorbar": {
              "outlinewidth": 0,
              "ticks": ""
             }
            },
            "marker": {
             "colorbar": {
              "outlinewidth": 0,
              "ticks": ""
             }
            },
            "type": "scatter3d"
           }
          ],
          "scattercarpet": [
           {
            "marker": {
             "colorbar": {
              "outlinewidth": 0,
              "ticks": ""
             }
            },
            "type": "scattercarpet"
           }
          ],
          "scattergeo": [
           {
            "marker": {
             "colorbar": {
              "outlinewidth": 0,
              "ticks": ""
             }
            },
            "type": "scattergeo"
           }
          ],
          "scattergl": [
           {
            "marker": {
             "colorbar": {
              "outlinewidth": 0,
              "ticks": ""
             }
            },
            "type": "scattergl"
           }
          ],
          "scattermap": [
           {
            "marker": {
             "colorbar": {
              "outlinewidth": 0,
              "ticks": ""
             }
            },
            "type": "scattermap"
           }
          ],
          "scattermapbox": [
           {
            "marker": {
             "colorbar": {
              "outlinewidth": 0,
              "ticks": ""
             }
            },
            "type": "scattermapbox"
           }
          ],
          "scatterpolar": [
           {
            "marker": {
             "colorbar": {
              "outlinewidth": 0,
              "ticks": ""
             }
            },
            "type": "scatterpolar"
           }
          ],
          "scatterpolargl": [
           {
            "marker": {
             "colorbar": {
              "outlinewidth": 0,
              "ticks": ""
             }
            },
            "type": "scatterpolargl"
           }
          ],
          "scatterternary": [
           {
            "marker": {
             "colorbar": {
              "outlinewidth": 0,
              "ticks": ""
             }
            },
            "type": "scatterternary"
           }
          ],
          "surface": [
           {
            "colorbar": {
             "outlinewidth": 0,
             "ticks": ""
            },
            "colorscale": [
             [
              0,
              "#0d0887"
             ],
             [
              0.1111111111111111,
              "#46039f"
             ],
             [
              0.2222222222222222,
              "#7201a8"
             ],
             [
              0.3333333333333333,
              "#9c179e"
             ],
             [
              0.4444444444444444,
              "#bd3786"
             ],
             [
              0.5555555555555556,
              "#d8576b"
             ],
             [
              0.6666666666666666,
              "#ed7953"
             ],
             [
              0.7777777777777778,
              "#fb9f3a"
             ],
             [
              0.8888888888888888,
              "#fdca26"
             ],
             [
              1,
              "#f0f921"
             ]
            ],
            "type": "surface"
           }
          ],
          "table": [
           {
            "cells": {
             "fill": {
              "color": "#EBF0F8"
             },
             "line": {
              "color": "white"
             }
            },
            "header": {
             "fill": {
              "color": "#C8D4E3"
             },
             "line": {
              "color": "white"
             }
            },
            "type": "table"
           }
          ]
         },
         "layout": {
          "annotationdefaults": {
           "arrowcolor": "#2a3f5f",
           "arrowhead": 0,
           "arrowwidth": 1
          },
          "autotypenumbers": "strict",
          "coloraxis": {
           "colorbar": {
            "outlinewidth": 0,
            "ticks": ""
           }
          },
          "colorscale": {
           "diverging": [
            [
             0,
             "#8e0152"
            ],
            [
             0.1,
             "#c51b7d"
            ],
            [
             0.2,
             "#de77ae"
            ],
            [
             0.3,
             "#f1b6da"
            ],
            [
             0.4,
             "#fde0ef"
            ],
            [
             0.5,
             "#f7f7f7"
            ],
            [
             0.6,
             "#e6f5d0"
            ],
            [
             0.7,
             "#b8e186"
            ],
            [
             0.8,
             "#7fbc41"
            ],
            [
             0.9,
             "#4d9221"
            ],
            [
             1,
             "#276419"
            ]
           ],
           "sequential": [
            [
             0,
             "#0d0887"
            ],
            [
             0.1111111111111111,
             "#46039f"
            ],
            [
             0.2222222222222222,
             "#7201a8"
            ],
            [
             0.3333333333333333,
             "#9c179e"
            ],
            [
             0.4444444444444444,
             "#bd3786"
            ],
            [
             0.5555555555555556,
             "#d8576b"
            ],
            [
             0.6666666666666666,
             "#ed7953"
            ],
            [
             0.7777777777777778,
             "#fb9f3a"
            ],
            [
             0.8888888888888888,
             "#fdca26"
            ],
            [
             1,
             "#f0f921"
            ]
           ],
           "sequentialminus": [
            [
             0,
             "#0d0887"
            ],
            [
             0.1111111111111111,
             "#46039f"
            ],
            [
             0.2222222222222222,
             "#7201a8"
            ],
            [
             0.3333333333333333,
             "#9c179e"
            ],
            [
             0.4444444444444444,
             "#bd3786"
            ],
            [
             0.5555555555555556,
             "#d8576b"
            ],
            [
             0.6666666666666666,
             "#ed7953"
            ],
            [
             0.7777777777777778,
             "#fb9f3a"
            ],
            [
             0.8888888888888888,
             "#fdca26"
            ],
            [
             1,
             "#f0f921"
            ]
           ]
          },
          "colorway": [
           "#636efa",
           "#EF553B",
           "#00cc96",
           "#ab63fa",
           "#FFA15A",
           "#19d3f3",
           "#FF6692",
           "#B6E880",
           "#FF97FF",
           "#FECB52"
          ],
          "font": {
           "color": "#2a3f5f"
          },
          "geo": {
           "bgcolor": "white",
           "lakecolor": "white",
           "landcolor": "#E5ECF6",
           "showlakes": true,
           "showland": true,
           "subunitcolor": "white"
          },
          "hoverlabel": {
           "align": "left"
          },
          "hovermode": "closest",
          "mapbox": {
           "style": "light"
          },
          "paper_bgcolor": "white",
          "plot_bgcolor": "#E5ECF6",
          "polar": {
           "angularaxis": {
            "gridcolor": "white",
            "linecolor": "white",
            "ticks": ""
           },
           "bgcolor": "#E5ECF6",
           "radialaxis": {
            "gridcolor": "white",
            "linecolor": "white",
            "ticks": ""
           }
          },
          "scene": {
           "xaxis": {
            "backgroundcolor": "#E5ECF6",
            "gridcolor": "white",
            "gridwidth": 2,
            "linecolor": "white",
            "showbackground": true,
            "ticks": "",
            "zerolinecolor": "white"
           },
           "yaxis": {
            "backgroundcolor": "#E5ECF6",
            "gridcolor": "white",
            "gridwidth": 2,
            "linecolor": "white",
            "showbackground": true,
            "ticks": "",
            "zerolinecolor": "white"
           },
           "zaxis": {
            "backgroundcolor": "#E5ECF6",
            "gridcolor": "white",
            "gridwidth": 2,
            "linecolor": "white",
            "showbackground": true,
            "ticks": "",
            "zerolinecolor": "white"
           }
          },
          "shapedefaults": {
           "line": {
            "color": "#2a3f5f"
           }
          },
          "ternary": {
           "aaxis": {
            "gridcolor": "white",
            "linecolor": "white",
            "ticks": ""
           },
           "baxis": {
            "gridcolor": "white",
            "linecolor": "white",
            "ticks": ""
           },
           "bgcolor": "#E5ECF6",
           "caxis": {
            "gridcolor": "white",
            "linecolor": "white",
            "ticks": ""
           }
          },
          "title": {
           "x": 0.05
          },
          "xaxis": {
           "automargin": true,
           "gridcolor": "white",
           "linecolor": "white",
           "ticks": "",
           "title": {
            "standoff": 15
           },
           "zerolinecolor": "white",
           "zerolinewidth": 2
          },
          "yaxis": {
           "automargin": true,
           "gridcolor": "white",
           "linecolor": "white",
           "ticks": "",
           "title": {
            "standoff": 15
           },
           "zerolinecolor": "white",
           "zerolinewidth": 2
          }
         }
        },
        "title": {
         "text": "Portfolio Volatility vs. Nifty Index Volatility"
        },
        "width": 1100,
        "xaxis": {
         "anchor": "y",
         "domain": [
          0,
          1
         ],
         "title": {
          "text": "Date"
         }
        },
        "yaxis": {
         "anchor": "x",
         "domain": [
          0,
          1
         ],
         "title": {
          "text": "Annualized Volatility"
         }
        }
       }
      }
     },
     "metadata": {},
     "output_type": "display_data"
    }
   ],
   "source": [
    "import pandas as pd\n",
    "import numpy as np\n",
    "import plotly.graph_objects as go\n",
    "from plotly.subplots import make_subplots\n",
    "from scipy import stats\n",
    "\n",
    "# Since explicit Nifty 50 index data is not available in the dataset,\n",
    "# I estimate its volatility using stocks that have 'Nifty' in their names.\n",
    "\n",
    "# Creating a copy of the filtered DataFrame to ensure the original data remains unchanged\n",
    "df = filtered_df.copy()\n",
    "\n",
    "# Converting 'DateTime_$date' to datetime format so we can use it for time-based calculations\n",
    "df['DateTime_$date'] = pd.to_datetime(df['DateTime_$date'], errors='coerce')\n",
    "\n",
    "# Converting 'DEFAULT_LTP' (Last Traded Price) to numeric format \n",
    "# If there are any errors, they will be converted to NaN\n",
    "df['DEFAULT_LTP'] = pd.to_numeric(df['DEFAULT_LTP'], errors='coerce')\n",
    "\n",
    "# Forward-filling missing values in 'DEFAULT_LTP' to maintain continuity in stock prices\n",
    "df['DEFAULT_LTP'] = df['DEFAULT_LTP'].ffill()\n",
    "\n",
    "# Calculating the daily return percentage for each stock\n",
    "df['Daily_Return'] = df.groupby('STOCK')['DEFAULT_LTP'].pct_change() * 100\n",
    "\n",
    "# Computing the average daily return across all stocks to approximate an equal-weighted portfolio return\n",
    "portfolio_daily_returns = df.groupby('DateTime_$date')['Daily_Return'].mean().reset_index()\n",
    "\n",
    "# Calculating rolling volatility (20-day window) for the portfolio\n",
    "# This gives an estimate of how much the portfolio fluctuates over time\n",
    "portfolio_daily_returns['Portfolio_Volatility'] = (\n",
    "    portfolio_daily_returns['Daily_Return']\n",
    "    .rolling(window=20, min_periods=1)\n",
    "    .std() * np.sqrt(252)  # Annualizing the volatility\n",
    ")\n",
    "\n",
    "# Extracting stocks with 'Nifty' in their names to estimate the Nifty index's volatility\n",
    "nifty_stocks = df[df['STOCK'].str.contains('Nifty', case=False, na=False)].copy()\n",
    "\n",
    "# Calculating daily returns for these 'Nifty' stocks\n",
    "nifty_stocks['Nifty_Return'] = nifty_stocks.groupby('STOCK')['DEFAULT_LTP'].pct_change() * 100\n",
    "\n",
    "# Aggregating daily returns of Nifty stocks to approximate Nifty index returns\n",
    "nifty_volatility = nifty_stocks.groupby('DateTime_$date')['Nifty_Return'].mean().reset_index()\n",
    "\n",
    "# Calculating rolling volatility (20-day window) for the estimated Nifty index\n",
    "nifty_volatility['Nifty_Volatility'] = (\n",
    "    nifty_volatility['Nifty_Return']\n",
    "    .rolling(window=20, min_periods=1)\n",
    "    .std() * np.sqrt(252)  # Annualizing the volatility\n",
    ")\n",
    "\n",
    "# Merging portfolio and Nifty volatility data to ensure aligned dates for comparison\n",
    "combined_data = pd.merge(portfolio_daily_returns, nifty_volatility, on='DateTime_$date', how='inner')\n",
    "\n",
    "# Performing statistical analysis to understand the return characteristics of both the portfolio and the Nifty index\n",
    "stats_summary = {\n",
    "    'Portfolio_Mean_Daily_Return': combined_data['Daily_Return'].mean(),  # Average daily return of the portfolio\n",
    "    'Portfolio_Annualized_Volatility': combined_data['Portfolio_Volatility'].mean(),  # Average portfolio volatility\n",
    "    'Portfolio_Skewness': stats.skew(combined_data['Daily_Return'].dropna()),  # Measure of return distribution symmetry\n",
    "    'Portfolio_Kurtosis': stats.kurtosis(combined_data['Daily_Return'].dropna()),  # Measure of extreme return deviations\n",
    "    'Nifty_Mean_Daily_Return': combined_data['Nifty_Return'].mean(),  # Average daily return of the Nifty approximation\n",
    "    'Nifty_Annualized_Volatility': combined_data['Nifty_Volatility'].mean(),  # Average Nifty volatility\n",
    "    'Nifty_Skewness': stats.skew(combined_data['Nifty_Return'].dropna()),  # Symmetry of Nifty return distribution\n",
    "    'Nifty_Kurtosis': stats.kurtosis(combined_data['Nifty_Return'].dropna())  # Measure of extreme Nifty return deviations\n",
    "}\n",
    "\n",
    "# Performing a t-test to check if there is a significant difference in returns between the portfolio and Nifty\n",
    "t_stat, p_value = stats.ttest_ind(\n",
    "    combined_data['Daily_Return'].dropna(),\n",
    "    combined_data['Nifty_Return'].dropna(),\n",
    "    equal_var=False  # Assumes the two groups may have different variances\n",
    ")\n",
    "stats_summary['T-Test Statistic'] = t_stat  # Test statistic value\n",
    "stats_summary['P-Value'] = p_value  # Probability of observing the difference under the null hypothesis\n",
    "\n",
    "# Plotting the volatility of the portfolio vs. the Nifty index to visualize fluctuations\n",
    "fig = make_subplots(rows=1, cols=1, subplot_titles=('Portfolio Volatility vs. Nifty Index Volatility'))\n",
    "\n",
    "# Adding portfolio volatility to the plot\n",
    "fig.add_trace(\n",
    "    go.Scatter(\n",
    "        x=combined_data['DateTime_$date'], \n",
    "        y=combined_data['Portfolio_Volatility'],\n",
    "        name='Portfolio Volatility',\n",
    "        mode='lines+markers',\n",
    "        line=dict(color='#636efa', shape='spline', smoothing=1.3),\n",
    "        marker=dict(size=4)\n",
    "    ),\n",
    "    row=1, col=1\n",
    ")\n",
    "\n",
    "# Adding Nifty volatility to the plot\n",
    "fig.add_trace(\n",
    "    go.Scatter(\n",
    "        x=combined_data['DateTime_$date'], \n",
    "        y=combined_data['Nifty_Volatility'],\n",
    "        name='Nifty Volatility',\n",
    "        mode='lines+markers',\n",
    "        line=dict(color='red', shape='spline', smoothing=1.3),\n",
    "        marker=dict(size=4)\n",
    "    ),\n",
    "    row=1, col=1\n",
    ")\n",
    "\n",
    "# Formatting the plot layout\n",
    "fig.update_layout(\n",
    "    height=550,\n",
    "    width = 1100,\n",
    "    showlegend=True,\n",
    "    title_text='Portfolio Volatility vs. Nifty Index Volatility',\n",
    "    xaxis_title='Date',\n",
    "    yaxis_title='Annualized Volatility',\n",
    "    margin=dict(l=15, r=15, t=80, b=50),  # Increase top margin for legend space\n",
    "    legend=dict(\n",
    "        orientation='h',  # Horizontal legend\n",
    "        x=0.8, y=1.1,  # Center the legend below the title\n",
    "        xanchor='center'\n",
    "    )\n",
    ")\n",
    "\n",
    "# Printing the statistical summary for insights\n",
    "print(\"Statistical Summary:\")\n",
    "for key, value in stats_summary.items():\n",
    "    print(f\"{key}: {value:.4f}\")\n",
    "\n",
    "# Displaying the plot\n",
    "fig.show()\n"
   ]
  },
  {
   "cell_type": "markdown",
   "id": "8b57b99d",
   "metadata": {},
   "source": [
    "### Portfolio vs. Nifty Statistical Summary  \n",
    "\n",
    "1. Mean Daily Return  \n",
    "   - The portfolio has a higher mean daily return (0.5239) compared to Nifty (0.2808), suggesting better average performance.  \n",
    "\n",
    "2. Annualized Volatility  \n",
    "   - The portfolio's annualized volatility (6.5017) is lower than Nifty's (10.7648), indicating lower risk and more stable returns.  \n",
    "\n",
    "3. Skewness  \n",
    "   - The portfolio has a slight positive skew (0.2751), meaning it has more frequent small gains and occasional larger gains.  \n",
    "   - Nifty has a negative skew (-0.6312), indicating a tendency for more frequent small gains but larger downside risks.  \n",
    "\n",
    "4. Kurtosis  \n",
    "   - The portfolio's kurtosis (1.1398) suggests a distribution close to normal with moderate tail risk.  \n",
    "   - Nifty's kurtosis (9.6955) is much higher, indicating more extreme movements and potential for large market shocks.  \n",
    "\n",
    "5. T-Test Result  \n",
    "   - The t-test statistic (2.9381) with a p-value of 0.0038 indicates a statistically significant difference between the mean returns of the portfolio and Nifty.  \n",
    "   - Since the p-value is below 0.05, we reject the null hypothesis, confirming that the portfolio’s average return is significantly different from Nifty’s.  \n",
    "\n",
    "### Conclusion  \n",
    "The portfolio demonstrates a higher average return with lower volatility compared to Nifty. Its positive skew suggests a more favorable return distribution, whereas Nifty's high kurtosis and negative skew indicate greater downside risk. The t-test confirms that the portfolio's returns are statistically different from Nifty’s.\n"
   ]
  },
  {
   "cell_type": "markdown",
   "id": "a989ad12",
   "metadata": {},
   "source": [
    "<h2 style=\"color: rgb(31, 136, 217);\">Final Portfolio Evaluation</h2>"
   ]
  },
  {
   "cell_type": "code",
   "execution_count": 16,
   "id": "517fda32",
   "metadata": {},
   "outputs": [
    {
     "name": "stdout",
     "output_type": "stream",
     "text": [
      "Final Portfolio Value as of 2023-08-31: ₹31,628,496.00\n"
     ]
    },
    {
     "name": "stderr",
     "output_type": "stream",
     "text": [
      "C:\\Users\\rohit\\AppData\\Local\\Temp\\ipykernel_1624\\539541415.py:17: DeprecationWarning:\n",
      "\n",
      "DataFrameGroupBy.apply operated on the grouping columns. This behavior is deprecated, and in a future version of pandas the grouping columns will be excluded from the operation. Either pass `include_groups=False` to exclude the groupings or explicitly select the grouping columns after groupby to silence this warning.\n",
      "\n"
     ]
    },
    {
     "data": {
      "application/vnd.plotly.v1+json": {
       "config": {
        "plotlyServerURL": "https://plot.ly"
       },
       "data": [
        {
         "line": {
          "color": "#636efa",
          "shape": "spline",
          "smoothing": 1.3
         },
         "marker": {
          "color": "teal",
          "size": 4
         },
         "mode": "lines+markers",
         "name": "Portfolio Value",
         "type": "scatter",
         "x": [
          "2023-02-08T00:00:00",
          "2023-02-09T00:00:00",
          "2023-02-10T00:00:00",
          "2023-02-13T00:00:00",
          "2023-02-14T00:00:00",
          "2023-02-15T00:00:00",
          "2023-02-20T00:00:00",
          "2023-02-21T00:00:00",
          "2023-02-24T00:00:00",
          "2023-02-28T00:00:00",
          "2023-03-03T00:00:00",
          "2023-03-06T00:00:00",
          "2023-03-08T00:00:00",
          "2023-03-17T00:00:00",
          "2023-03-20T00:00:00",
          "2023-03-21T00:00:00",
          "2023-03-22T00:00:00",
          "2023-03-23T00:00:00",
          "2023-03-24T00:00:00",
          "2023-03-27T00:00:00",
          "2023-03-28T00:00:00",
          "2023-03-29T00:00:00",
          "2023-03-31T00:00:00",
          "2023-04-03T00:00:00",
          "2023-04-05T00:00:00",
          "2023-04-06T00:00:00",
          "2023-04-10T00:00:00",
          "2023-04-11T00:00:00",
          "2023-04-12T00:00:00",
          "2023-04-13T00:00:00",
          "2023-04-19T00:00:00",
          "2023-04-20T00:00:00",
          "2023-04-21T00:00:00",
          "2023-04-24T00:00:00",
          "2023-04-25T00:00:00",
          "2023-04-26T00:00:00",
          "2023-04-27T00:00:00",
          "2023-04-28T00:00:00",
          "2023-05-02T00:00:00",
          "2023-05-03T00:00:00",
          "2023-05-04T00:00:00",
          "2023-05-05T00:00:00",
          "2023-05-08T00:00:00",
          "2023-05-09T00:00:00",
          "2023-05-10T00:00:00",
          "2023-05-11T00:00:00",
          "2023-05-12T00:00:00",
          "2023-05-17T00:00:00",
          "2023-05-18T00:00:00",
          "2023-05-19T00:00:00",
          "2023-05-22T00:00:00",
          "2023-05-23T00:00:00",
          "2023-05-24T00:00:00",
          "2023-05-25T00:00:00",
          "2023-05-26T00:00:00",
          "2023-05-29T00:00:00",
          "2023-05-30T00:00:00",
          "2023-05-31T00:00:00",
          "2023-06-01T00:00:00",
          "2023-06-02T00:00:00",
          "2023-06-05T00:00:00",
          "2023-06-06T00:00:00",
          "2023-06-07T00:00:00",
          "2023-06-08T00:00:00",
          "2023-06-09T00:00:00",
          "2023-06-12T00:00:00",
          "2023-06-13T00:00:00",
          "2023-06-14T00:00:00",
          "2023-06-15T00:00:00",
          "2023-06-16T00:00:00",
          "2023-06-19T00:00:00",
          "2023-06-20T00:00:00",
          "2023-06-21T00:00:00",
          "2023-06-22T00:00:00",
          "2023-06-23T00:00:00",
          "2023-06-26T00:00:00",
          "2023-06-27T00:00:00",
          "2023-06-28T00:00:00",
          "2023-06-30T00:00:00",
          "2023-07-03T00:00:00",
          "2023-07-04T00:00:00",
          "2023-07-05T00:00:00",
          "2023-07-06T00:00:00",
          "2023-07-07T00:00:00",
          "2023-07-10T00:00:00",
          "2023-07-11T00:00:00",
          "2023-07-12T00:00:00",
          "2023-07-13T00:00:00",
          "2023-07-14T00:00:00",
          "2023-07-17T00:00:00",
          "2023-07-18T00:00:00",
          "2023-07-19T00:00:00",
          "2023-07-20T00:00:00",
          "2023-07-21T00:00:00",
          "2023-07-24T00:00:00",
          "2023-07-25T00:00:00",
          "2023-07-26T00:00:00",
          "2023-07-27T00:00:00",
          "2023-07-31T00:00:00",
          "2023-08-01T00:00:00",
          "2023-08-02T00:00:00",
          "2023-08-03T00:00:00",
          "2023-08-04T00:00:00",
          "2023-08-07T00:00:00",
          "2023-08-08T00:00:00",
          "2023-08-09T00:00:00",
          "2023-08-10T00:00:00",
          "2023-08-11T00:00:00",
          "2023-08-14T00:00:00",
          "2023-08-16T00:00:00",
          "2023-08-17T00:00:00",
          "2023-08-18T00:00:00",
          "2023-08-21T00:00:00",
          "2023-08-22T00:00:00",
          "2023-08-23T00:00:00",
          "2023-08-24T00:00:00",
          "2023-08-25T00:00:00",
          "2023-08-28T00:00:00",
          "2023-08-29T00:00:00",
          "2023-08-31T00:00:00"
         ],
         "y": {
          "bdata": "MzMzA453bkHNzMwEmIhvQWZmZiYeMGtBZmZmBsjHXkHMzMxs/zxYQZqZmUHXFmhBzczMoNnZcEEzMzO7LJ9nQc3MzLyUFlhBmpmZmeOCRkHNzMwM3XBUQZmZmXnwx2dBMzMzO5E3cUHNzMz8I1hWQQAAAMDe50dBZmZmpuauWkEzMzMzK1BeQWZmZmaq/1xBMzMz889TT0FmZmbGeDlPQWdmZoZuyktBMzMzS2AVaUEAAADon6hsQTMzMw+4L3BBmZmZpbuwc0HMzMxA7fiAQWZmZi6UmXZBmZmZ0YpldkE0MzNLcQN4QWZmZl5HO4VBZ2ZmKirGeEFmZmaykxJyQTMzM0PDn3FBZmZmYqsaeEGZmZk5AGtzQZqZmXnehnhBmZmZ5WxlfkGamZnDNkyOQZqZmaEkEodBNDMzoxE/hEEAAABapDeGQc3MzBI5ooBBzMzM5McNhkFmZmZW/wCAQc3MzDJ2JIRBaGZm5MfNhEE0MzNpsQCMQWZmZv4OynpBAAAAFNesc0EyMzPvF05yQTMzM1e7endBAQAAYFV8eEFmZmaqV3d3QTMzMx8x33tBAAAAlLOqhEEAAAC22haHQZuZmY2o8oVBmpmZE5fThkFmZmZOyuiGQTMzM8Mso4dBZ2ZmiopghUFmZmYSItKDQTQzMw1IeIlBmpmZ6ZmAgUFmZmaKDLd6QTMzM21wzoBBMzMzG3bzhkH////vgSuJQf///wE5o4RBmpmZByAYjEEzMzODiBSGQc3MzPDnwYdBAAAAmjUpiUFmZmbChsJ5QZqZmcliamRBNDMzO/0cckGZmZmVxnt0Qc7MzAAcJ4JBZmZmPo6qhUH///9V2lyHQczMzLj7g4RBAAAAVEAFiUEzMzPHYOqPQZqZmWejIINBAAAAGIiwfUGZmZmRSzyDQWdmZiCCA4VBMzMzTxPUekEAAAAeGp2BQTUzMzeKr39BmZmZ/RuHe0E0MzMJsY6DQc3MzMICkoJBmpmZkdTgekHMzMwAo0J6Qf///x0gmIBBzczMmOw4gUE0MzN5YLGEQTQzM5u4KIdBAQAAaAIlg0E0MzMjpWFwQQAAAFwAGHVBZ2ZmvmuXeUHNzMwgu915QZqZmX16H3ZBZ2ZmJpgYfEEzMzMvZdZ1QTQzM++GhHJBmpmZ8cMbcUHNzMwYupVwQTMzMxdJRnJBzMzMLMxMX0FmZmbeZpJuQQEAADC3FWxBZ2ZmNtFEcUEBAABA7vRsQc7MzPwt+WRBmpmZSa+6ZkFlZmYWfCuCQQAAAADNKX5B",
          "dtype": "f8"
         }
        }
       ],
       "layout": {
        "height": 550,
        "legend": {
         "orientation": "h",
         "x": 0.5,
         "xanchor": "center",
         "y": 1.12
        },
        "margin": {
         "b": 50,
         "l": 15,
         "r": 15,
         "t": 80
        },
        "plot_bgcolor": "#e5ecf6",
        "showlegend": true,
        "template": {
         "data": {
          "bar": [
           {
            "error_x": {
             "color": "#2a3f5f"
            },
            "error_y": {
             "color": "#2a3f5f"
            },
            "marker": {
             "line": {
              "color": "#E5ECF6",
              "width": 0.5
             },
             "pattern": {
              "fillmode": "overlay",
              "size": 10,
              "solidity": 0.2
             }
            },
            "type": "bar"
           }
          ],
          "barpolar": [
           {
            "marker": {
             "line": {
              "color": "#E5ECF6",
              "width": 0.5
             },
             "pattern": {
              "fillmode": "overlay",
              "size": 10,
              "solidity": 0.2
             }
            },
            "type": "barpolar"
           }
          ],
          "carpet": [
           {
            "aaxis": {
             "endlinecolor": "#2a3f5f",
             "gridcolor": "white",
             "linecolor": "white",
             "minorgridcolor": "white",
             "startlinecolor": "#2a3f5f"
            },
            "baxis": {
             "endlinecolor": "#2a3f5f",
             "gridcolor": "white",
             "linecolor": "white",
             "minorgridcolor": "white",
             "startlinecolor": "#2a3f5f"
            },
            "type": "carpet"
           }
          ],
          "choropleth": [
           {
            "colorbar": {
             "outlinewidth": 0,
             "ticks": ""
            },
            "type": "choropleth"
           }
          ],
          "contour": [
           {
            "colorbar": {
             "outlinewidth": 0,
             "ticks": ""
            },
            "colorscale": [
             [
              0,
              "#0d0887"
             ],
             [
              0.1111111111111111,
              "#46039f"
             ],
             [
              0.2222222222222222,
              "#7201a8"
             ],
             [
              0.3333333333333333,
              "#9c179e"
             ],
             [
              0.4444444444444444,
              "#bd3786"
             ],
             [
              0.5555555555555556,
              "#d8576b"
             ],
             [
              0.6666666666666666,
              "#ed7953"
             ],
             [
              0.7777777777777778,
              "#fb9f3a"
             ],
             [
              0.8888888888888888,
              "#fdca26"
             ],
             [
              1,
              "#f0f921"
             ]
            ],
            "type": "contour"
           }
          ],
          "contourcarpet": [
           {
            "colorbar": {
             "outlinewidth": 0,
             "ticks": ""
            },
            "type": "contourcarpet"
           }
          ],
          "heatmap": [
           {
            "colorbar": {
             "outlinewidth": 0,
             "ticks": ""
            },
            "colorscale": [
             [
              0,
              "#0d0887"
             ],
             [
              0.1111111111111111,
              "#46039f"
             ],
             [
              0.2222222222222222,
              "#7201a8"
             ],
             [
              0.3333333333333333,
              "#9c179e"
             ],
             [
              0.4444444444444444,
              "#bd3786"
             ],
             [
              0.5555555555555556,
              "#d8576b"
             ],
             [
              0.6666666666666666,
              "#ed7953"
             ],
             [
              0.7777777777777778,
              "#fb9f3a"
             ],
             [
              0.8888888888888888,
              "#fdca26"
             ],
             [
              1,
              "#f0f921"
             ]
            ],
            "type": "heatmap"
           }
          ],
          "histogram": [
           {
            "marker": {
             "pattern": {
              "fillmode": "overlay",
              "size": 10,
              "solidity": 0.2
             }
            },
            "type": "histogram"
           }
          ],
          "histogram2d": [
           {
            "colorbar": {
             "outlinewidth": 0,
             "ticks": ""
            },
            "colorscale": [
             [
              0,
              "#0d0887"
             ],
             [
              0.1111111111111111,
              "#46039f"
             ],
             [
              0.2222222222222222,
              "#7201a8"
             ],
             [
              0.3333333333333333,
              "#9c179e"
             ],
             [
              0.4444444444444444,
              "#bd3786"
             ],
             [
              0.5555555555555556,
              "#d8576b"
             ],
             [
              0.6666666666666666,
              "#ed7953"
             ],
             [
              0.7777777777777778,
              "#fb9f3a"
             ],
             [
              0.8888888888888888,
              "#fdca26"
             ],
             [
              1,
              "#f0f921"
             ]
            ],
            "type": "histogram2d"
           }
          ],
          "histogram2dcontour": [
           {
            "colorbar": {
             "outlinewidth": 0,
             "ticks": ""
            },
            "colorscale": [
             [
              0,
              "#0d0887"
             ],
             [
              0.1111111111111111,
              "#46039f"
             ],
             [
              0.2222222222222222,
              "#7201a8"
             ],
             [
              0.3333333333333333,
              "#9c179e"
             ],
             [
              0.4444444444444444,
              "#bd3786"
             ],
             [
              0.5555555555555556,
              "#d8576b"
             ],
             [
              0.6666666666666666,
              "#ed7953"
             ],
             [
              0.7777777777777778,
              "#fb9f3a"
             ],
             [
              0.8888888888888888,
              "#fdca26"
             ],
             [
              1,
              "#f0f921"
             ]
            ],
            "type": "histogram2dcontour"
           }
          ],
          "mesh3d": [
           {
            "colorbar": {
             "outlinewidth": 0,
             "ticks": ""
            },
            "type": "mesh3d"
           }
          ],
          "parcoords": [
           {
            "line": {
             "colorbar": {
              "outlinewidth": 0,
              "ticks": ""
             }
            },
            "type": "parcoords"
           }
          ],
          "pie": [
           {
            "automargin": true,
            "type": "pie"
           }
          ],
          "scatter": [
           {
            "fillpattern": {
             "fillmode": "overlay",
             "size": 10,
             "solidity": 0.2
            },
            "type": "scatter"
           }
          ],
          "scatter3d": [
           {
            "line": {
             "colorbar": {
              "outlinewidth": 0,
              "ticks": ""
             }
            },
            "marker": {
             "colorbar": {
              "outlinewidth": 0,
              "ticks": ""
             }
            },
            "type": "scatter3d"
           }
          ],
          "scattercarpet": [
           {
            "marker": {
             "colorbar": {
              "outlinewidth": 0,
              "ticks": ""
             }
            },
            "type": "scattercarpet"
           }
          ],
          "scattergeo": [
           {
            "marker": {
             "colorbar": {
              "outlinewidth": 0,
              "ticks": ""
             }
            },
            "type": "scattergeo"
           }
          ],
          "scattergl": [
           {
            "marker": {
             "colorbar": {
              "outlinewidth": 0,
              "ticks": ""
             }
            },
            "type": "scattergl"
           }
          ],
          "scattermap": [
           {
            "marker": {
             "colorbar": {
              "outlinewidth": 0,
              "ticks": ""
             }
            },
            "type": "scattermap"
           }
          ],
          "scattermapbox": [
           {
            "marker": {
             "colorbar": {
              "outlinewidth": 0,
              "ticks": ""
             }
            },
            "type": "scattermapbox"
           }
          ],
          "scatterpolar": [
           {
            "marker": {
             "colorbar": {
              "outlinewidth": 0,
              "ticks": ""
             }
            },
            "type": "scatterpolar"
           }
          ],
          "scatterpolargl": [
           {
            "marker": {
             "colorbar": {
              "outlinewidth": 0,
              "ticks": ""
             }
            },
            "type": "scatterpolargl"
           }
          ],
          "scatterternary": [
           {
            "marker": {
             "colorbar": {
              "outlinewidth": 0,
              "ticks": ""
             }
            },
            "type": "scatterternary"
           }
          ],
          "surface": [
           {
            "colorbar": {
             "outlinewidth": 0,
             "ticks": ""
            },
            "colorscale": [
             [
              0,
              "#0d0887"
             ],
             [
              0.1111111111111111,
              "#46039f"
             ],
             [
              0.2222222222222222,
              "#7201a8"
             ],
             [
              0.3333333333333333,
              "#9c179e"
             ],
             [
              0.4444444444444444,
              "#bd3786"
             ],
             [
              0.5555555555555556,
              "#d8576b"
             ],
             [
              0.6666666666666666,
              "#ed7953"
             ],
             [
              0.7777777777777778,
              "#fb9f3a"
             ],
             [
              0.8888888888888888,
              "#fdca26"
             ],
             [
              1,
              "#f0f921"
             ]
            ],
            "type": "surface"
           }
          ],
          "table": [
           {
            "cells": {
             "fill": {
              "color": "#EBF0F8"
             },
             "line": {
              "color": "white"
             }
            },
            "header": {
             "fill": {
              "color": "#C8D4E3"
             },
             "line": {
              "color": "white"
             }
            },
            "type": "table"
           }
          ]
         },
         "layout": {
          "annotationdefaults": {
           "arrowcolor": "#2a3f5f",
           "arrowhead": 0,
           "arrowwidth": 1
          },
          "autotypenumbers": "strict",
          "coloraxis": {
           "colorbar": {
            "outlinewidth": 0,
            "ticks": ""
           }
          },
          "colorscale": {
           "diverging": [
            [
             0,
             "#8e0152"
            ],
            [
             0.1,
             "#c51b7d"
            ],
            [
             0.2,
             "#de77ae"
            ],
            [
             0.3,
             "#f1b6da"
            ],
            [
             0.4,
             "#fde0ef"
            ],
            [
             0.5,
             "#f7f7f7"
            ],
            [
             0.6,
             "#e6f5d0"
            ],
            [
             0.7,
             "#b8e186"
            ],
            [
             0.8,
             "#7fbc41"
            ],
            [
             0.9,
             "#4d9221"
            ],
            [
             1,
             "#276419"
            ]
           ],
           "sequential": [
            [
             0,
             "#0d0887"
            ],
            [
             0.1111111111111111,
             "#46039f"
            ],
            [
             0.2222222222222222,
             "#7201a8"
            ],
            [
             0.3333333333333333,
             "#9c179e"
            ],
            [
             0.4444444444444444,
             "#bd3786"
            ],
            [
             0.5555555555555556,
             "#d8576b"
            ],
            [
             0.6666666666666666,
             "#ed7953"
            ],
            [
             0.7777777777777778,
             "#fb9f3a"
            ],
            [
             0.8888888888888888,
             "#fdca26"
            ],
            [
             1,
             "#f0f921"
            ]
           ],
           "sequentialminus": [
            [
             0,
             "#0d0887"
            ],
            [
             0.1111111111111111,
             "#46039f"
            ],
            [
             0.2222222222222222,
             "#7201a8"
            ],
            [
             0.3333333333333333,
             "#9c179e"
            ],
            [
             0.4444444444444444,
             "#bd3786"
            ],
            [
             0.5555555555555556,
             "#d8576b"
            ],
            [
             0.6666666666666666,
             "#ed7953"
            ],
            [
             0.7777777777777778,
             "#fb9f3a"
            ],
            [
             0.8888888888888888,
             "#fdca26"
            ],
            [
             1,
             "#f0f921"
            ]
           ]
          },
          "colorway": [
           "#636efa",
           "#EF553B",
           "#00cc96",
           "#ab63fa",
           "#FFA15A",
           "#19d3f3",
           "#FF6692",
           "#B6E880",
           "#FF97FF",
           "#FECB52"
          ],
          "font": {
           "color": "#2a3f5f"
          },
          "geo": {
           "bgcolor": "white",
           "lakecolor": "white",
           "landcolor": "#E5ECF6",
           "showlakes": true,
           "showland": true,
           "subunitcolor": "white"
          },
          "hoverlabel": {
           "align": "left"
          },
          "hovermode": "closest",
          "mapbox": {
           "style": "light"
          },
          "paper_bgcolor": "white",
          "plot_bgcolor": "#E5ECF6",
          "polar": {
           "angularaxis": {
            "gridcolor": "white",
            "linecolor": "white",
            "ticks": ""
           },
           "bgcolor": "#E5ECF6",
           "radialaxis": {
            "gridcolor": "white",
            "linecolor": "white",
            "ticks": ""
           }
          },
          "scene": {
           "xaxis": {
            "backgroundcolor": "#E5ECF6",
            "gridcolor": "white",
            "gridwidth": 2,
            "linecolor": "white",
            "showbackground": true,
            "ticks": "",
            "zerolinecolor": "white"
           },
           "yaxis": {
            "backgroundcolor": "#E5ECF6",
            "gridcolor": "white",
            "gridwidth": 2,
            "linecolor": "white",
            "showbackground": true,
            "ticks": "",
            "zerolinecolor": "white"
           },
           "zaxis": {
            "backgroundcolor": "#E5ECF6",
            "gridcolor": "white",
            "gridwidth": 2,
            "linecolor": "white",
            "showbackground": true,
            "ticks": "",
            "zerolinecolor": "white"
           }
          },
          "shapedefaults": {
           "line": {
            "color": "#2a3f5f"
           }
          },
          "ternary": {
           "aaxis": {
            "gridcolor": "white",
            "linecolor": "white",
            "ticks": ""
           },
           "baxis": {
            "gridcolor": "white",
            "linecolor": "white",
            "ticks": ""
           },
           "bgcolor": "#E5ECF6",
           "caxis": {
            "gridcolor": "white",
            "linecolor": "white",
            "ticks": ""
           }
          },
          "title": {
           "x": 0.05
          },
          "xaxis": {
           "automargin": true,
           "gridcolor": "white",
           "linecolor": "white",
           "ticks": "",
           "title": {
            "standoff": 15
           },
           "zerolinecolor": "white",
           "zerolinewidth": 2
          },
          "yaxis": {
           "automargin": true,
           "gridcolor": "white",
           "linecolor": "white",
           "ticks": "",
           "title": {
            "standoff": 15
           },
           "zerolinecolor": "white",
           "zerolinewidth": 2
          }
         }
        },
        "title": {
         "text": "Portfolio Value Over Time"
        },
        "width": 1100,
        "xaxis": {
         "gridcolor": "white",
         "linecolor": "rgb(204, 204, 204)",
         "showgrid": true,
         "showline": false,
         "title": {
          "text": "Date"
         }
        },
        "yaxis": {
         "gridcolor": "white",
         "linecolor": "rgb(204, 204, 204)",
         "showgrid": true,
         "showline": false,
         "title": {
          "text": "Portfolio Value (₹)"
         }
        }
       }
      }
     },
     "metadata": {},
     "output_type": "display_data"
    }
   ],
   "source": [
    "import pandas as pd\n",
    "import plotly.graph_objects as go\n",
    "\n",
    "# Creating a copy of the filtered DataFrame to keep the original data unchanged\n",
    "df = filtered_df.copy()\n",
    "\n",
    "# Converting 'DateTime_$date' to datetime format for time-based analysis\n",
    "# Stripping whitespace and handling errors to avoid invalid conversions\n",
    "df['DateTime_$date'] = pd.to_datetime(df['DateTime_$date'].astype(str).str.strip(), errors='coerce')\n",
    "\n",
    "# Removing rows where the date conversion failed (i.e., invalid dates)\n",
    "df = df.dropna(subset=['DateTime_$date'])\n",
    "\n",
    "# Calculating the total portfolio value for each date by multiplying\n",
    "# 'DEFAULT_LTP' (Last Traded Price) with 'DEFAULT_LotSize' (Lot Size)\n",
    "# Summing the values for all stocks in the portfolio for each date\n",
    "portfolio_metrics = df.groupby('DateTime_$date', as_index=False, group_keys=False).apply(\n",
    "    lambda x: pd.Series({\n",
    "        'Portfolio_Value': (x['DEFAULT_LTP'].astype(float) * x['DEFAULT_LotSize'].astype(float)).sum()\n",
    "    })\n",
    ").reset_index()\n",
    "\n",
    "# Handling missing or zero values in 'Portfolio_Value' by replacing them with NaN\n",
    "portfolio_metrics['Portfolio_Value'] = portfolio_metrics['Portfolio_Value'].replace(0, float('nan'))\n",
    "\n",
    "# Applying linear interpolation to fill missing values for smooth visualization\n",
    "portfolio_metrics['Portfolio_Value'] = portfolio_metrics['Portfolio_Value'].interpolate(method='linear')\n",
    "\n",
    "# Creating an interactive plot to visualize portfolio value over time\n",
    "fig = go.Figure()\n",
    "\n",
    "# Adding a line plot for portfolio value with smoothing for better visualization\n",
    "fig.add_trace(go.Scatter(\n",
    "    x=portfolio_metrics['DateTime_$date'],\n",
    "    y=portfolio_metrics['Portfolio_Value'],\n",
    "    mode='lines+markers',  # Showing both lines and markers for clarity\n",
    "    name='Portfolio Value',\n",
    "    line=dict(color='#636efa', shape='spline', smoothing=1.3),  # Using spline for smoothness\n",
    "    marker=dict(size=4, color='teal')  # Setting marker properties\n",
    "))\n",
    "\n",
    "# Customizing the layout for better readability and aesthetics\n",
    "fig.update_layout(\n",
    "    title='Portfolio Value Over Time',  # Setting the title of the chart\n",
    "    xaxis_title='Date',  # Label for the x-axis\n",
    "    yaxis_title='Portfolio Value (₹)',  # Label for the y-axis\n",
    "    showlegend=True,  # Displaying the legend\n",
    "    plot_bgcolor='#e5ecf6',  # Setting a light background color\n",
    "    height=550,  # Defining the height of the chart\n",
    "    width=1100,  # Defining the width of the chart\n",
    "    xaxis=dict(\n",
    "        showgrid=True,\n",
    "        gridcolor='white',\n",
    "        showline=False,\n",
    "        linecolor='rgb(204, 204, 204)'\n",
    "    ),\n",
    "    yaxis=dict(\n",
    "        showgrid=True,\n",
    "        gridcolor='white',\n",
    "        showline=False,\n",
    "        linecolor='rgb(204, 204, 204)'\n",
    "    ),\n",
    "    margin=dict(l=15, r=15, t=80, b=50),  # Increase top margin for legend space\n",
    "    legend=dict(\n",
    "        orientation='h',  # Horizontal legend\n",
    "        x=0.5, y=1.12,  # Center the legend below the title\n",
    "        xanchor='center',\n",
    "    )\n",
    ")\n",
    "\n",
    "# Displaying the final portfolio value if data is available\n",
    "if not portfolio_metrics.empty:\n",
    "    final_value = portfolio_metrics.iloc[-1]['Portfolio_Value']\n",
    "    final_date = portfolio_metrics.iloc[-1]['DateTime_$date'].strftime('%Y-%m-%d')\n",
    "    print(f\"Final Portfolio Value as of {final_date}: ₹{final_value:,.2f}\")\n",
    "else:\n",
    "    print(\"No portfolio data available.\")\n",
    "\n",
    "# Displaying the plot\n",
    "fig.show()\n"
   ]
  },
  {
   "cell_type": "code",
   "execution_count": 17,
   "id": "ebd65614",
   "metadata": {},
   "outputs": [],
   "source": [
    "#%pip install statsmodels\n",
    "#%pip install scikit-learn"
   ]
  },
  {
   "cell_type": "markdown",
   "id": "57e97dd8",
   "metadata": {},
   "source": [
    "<h2 style=\"color: rgb(31, 136, 217);\">Final Portfolio Performance Statistical Analysis</h2>"
   ]
  },
  {
   "cell_type": "code",
   "execution_count": 21,
   "id": "fe7a83b8",
   "metadata": {},
   "outputs": [
    {
     "name": "stdout",
     "output_type": "stream",
     "text": [
      "\n",
      "Hypothesis Testing Results:\n",
      "t-statistic: 0.0000, p-value: 1.0000\n",
      "Conclusion: No significant change in portfolio value over time (Fail to reject H₀).\n",
      "\n",
      "OLS Regression Results:\n",
      "                            OLS Regression Results                            \n",
      "==============================================================================\n",
      "Dep. Variable:                      y   R-squared:                       0.112\n",
      "Model:                            OLS   Adj. R-squared:                  0.104\n",
      "Method:                 Least Squares   F-statistic:                     14.86\n",
      "Date:                Wed, 12 Mar 2025   Prob (F-statistic):           0.000189\n",
      "Time:                        23:04:13   Log-Likelihood:                -2148.3\n",
      "No. Observations:                 120   AIC:                             4301.\n",
      "Df Residuals:                     118   BIC:                             4306.\n",
      "Df Model:                           1                                         \n",
      "Covariance Type:            nonrobust                                         \n",
      "==============================================================================\n",
      "                 coef    std err          t      P>|t|      [0.025      0.975]\n",
      "------------------------------------------------------------------------------\n",
      "const       1.904e+07   2.92e+06      6.527      0.000    1.33e+07    2.48e+07\n",
      "Days        9.004e+04   2.34e+04      3.854      0.000    4.38e+04    1.36e+05\n",
      "==============================================================================\n",
      "Omnibus:                        5.487   Durbin-Watson:                   0.463\n",
      "Prob(Omnibus):                  0.064   Jarque-Bera (JB):                3.943\n",
      "Skew:                           0.306   Prob(JB):                        0.139\n",
      "Kurtosis:                       2.356   Cond. No.                         275.\n",
      "==============================================================================\n",
      "\n",
      "Notes:\n",
      "[1] Standard Errors assume that the covariance matrix of the errors is correctly specified.\n",
      "Polynomial Regression Predicted Value for Aug 31, 2023: ₹17,443,014.70 (R²: 0.5611)\n",
      "Exponential Smoothing Predicted Value for Aug 31, 2023: ₹32,441,572.37 (R²: 0.5976)\n"
     ]
    },
    {
     "name": "stderr",
     "output_type": "stream",
     "text": [
      "C:\\Users\\rohit\\AppData\\Local\\Packages\\PythonSoftwareFoundation.Python.3.12_qbz5n2kfra8p0\\LocalCache\\local-packages\\Python312\\site-packages\\statsmodels\\tsa\\holtwinters\\model.py:918: ConvergenceWarning:\n",
      "\n",
      "Optimization failed to converge. Check mle_retvals.\n",
      "\n"
     ]
    },
    {
     "data": {
      "application/vnd.plotly.v1+json": {
       "config": {
        "plotlyServerURL": "https://plot.ly"
       },
       "data": [
        {
         "line": {
          "color": "#636efa"
         },
         "mode": "lines+markers",
         "name": "Actual Portfolio Value",
         "type": "scatter",
         "x": [
          "2023-02-08T00:00:00.000000000",
          "2023-02-09T00:00:00.000000000",
          "2023-02-10T00:00:00.000000000",
          "2023-02-13T00:00:00.000000000",
          "2023-02-14T00:00:00.000000000",
          "2023-02-15T00:00:00.000000000",
          "2023-02-20T00:00:00.000000000",
          "2023-02-21T00:00:00.000000000",
          "2023-02-24T00:00:00.000000000",
          "2023-02-28T00:00:00.000000000",
          "2023-03-03T00:00:00.000000000",
          "2023-03-06T00:00:00.000000000",
          "2023-03-08T00:00:00.000000000",
          "2023-03-17T00:00:00.000000000",
          "2023-03-20T00:00:00.000000000",
          "2023-03-21T00:00:00.000000000",
          "2023-03-22T00:00:00.000000000",
          "2023-03-23T00:00:00.000000000",
          "2023-03-24T00:00:00.000000000",
          "2023-03-27T00:00:00.000000000",
          "2023-03-28T00:00:00.000000000",
          "2023-03-29T00:00:00.000000000",
          "2023-03-31T00:00:00.000000000",
          "2023-04-03T00:00:00.000000000",
          "2023-04-05T00:00:00.000000000",
          "2023-04-06T00:00:00.000000000",
          "2023-04-10T00:00:00.000000000",
          "2023-04-11T00:00:00.000000000",
          "2023-04-12T00:00:00.000000000",
          "2023-04-13T00:00:00.000000000",
          "2023-04-19T00:00:00.000000000",
          "2023-04-20T00:00:00.000000000",
          "2023-04-21T00:00:00.000000000",
          "2023-04-24T00:00:00.000000000",
          "2023-04-25T00:00:00.000000000",
          "2023-04-26T00:00:00.000000000",
          "2023-04-27T00:00:00.000000000",
          "2023-04-28T00:00:00.000000000",
          "2023-05-02T00:00:00.000000000",
          "2023-05-03T00:00:00.000000000",
          "2023-05-04T00:00:00.000000000",
          "2023-05-05T00:00:00.000000000",
          "2023-05-08T00:00:00.000000000",
          "2023-05-09T00:00:00.000000000",
          "2023-05-10T00:00:00.000000000",
          "2023-05-11T00:00:00.000000000",
          "2023-05-12T00:00:00.000000000",
          "2023-05-17T00:00:00.000000000",
          "2023-05-18T00:00:00.000000000",
          "2023-05-19T00:00:00.000000000",
          "2023-05-22T00:00:00.000000000",
          "2023-05-23T00:00:00.000000000",
          "2023-05-24T00:00:00.000000000",
          "2023-05-25T00:00:00.000000000",
          "2023-05-26T00:00:00.000000000",
          "2023-05-29T00:00:00.000000000",
          "2023-05-30T00:00:00.000000000",
          "2023-05-31T00:00:00.000000000",
          "2023-06-01T00:00:00.000000000",
          "2023-06-02T00:00:00.000000000",
          "2023-06-05T00:00:00.000000000",
          "2023-06-06T00:00:00.000000000",
          "2023-06-07T00:00:00.000000000",
          "2023-06-08T00:00:00.000000000",
          "2023-06-09T00:00:00.000000000",
          "2023-06-12T00:00:00.000000000",
          "2023-06-13T00:00:00.000000000",
          "2023-06-14T00:00:00.000000000",
          "2023-06-15T00:00:00.000000000",
          "2023-06-16T00:00:00.000000000",
          "2023-06-19T00:00:00.000000000",
          "2023-06-20T00:00:00.000000000",
          "2023-06-21T00:00:00.000000000",
          "2023-06-22T00:00:00.000000000",
          "2023-06-23T00:00:00.000000000",
          "2023-06-26T00:00:00.000000000",
          "2023-06-27T00:00:00.000000000",
          "2023-06-28T00:00:00.000000000",
          "2023-06-30T00:00:00.000000000",
          "2023-07-03T00:00:00.000000000",
          "2023-07-04T00:00:00.000000000",
          "2023-07-05T00:00:00.000000000",
          "2023-07-06T00:00:00.000000000",
          "2023-07-07T00:00:00.000000000",
          "2023-07-10T00:00:00.000000000",
          "2023-07-11T00:00:00.000000000",
          "2023-07-12T00:00:00.000000000",
          "2023-07-13T00:00:00.000000000",
          "2023-07-14T00:00:00.000000000",
          "2023-07-17T00:00:00.000000000",
          "2023-07-18T00:00:00.000000000",
          "2023-07-19T00:00:00.000000000",
          "2023-07-20T00:00:00.000000000",
          "2023-07-21T00:00:00.000000000",
          "2023-07-24T00:00:00.000000000",
          "2023-07-25T00:00:00.000000000",
          "2023-07-26T00:00:00.000000000",
          "2023-07-27T00:00:00.000000000",
          "2023-07-31T00:00:00.000000000",
          "2023-08-01T00:00:00.000000000",
          "2023-08-02T00:00:00.000000000",
          "2023-08-03T00:00:00.000000000",
          "2023-08-04T00:00:00.000000000",
          "2023-08-07T00:00:00.000000000",
          "2023-08-08T00:00:00.000000000",
          "2023-08-09T00:00:00.000000000",
          "2023-08-10T00:00:00.000000000",
          "2023-08-11T00:00:00.000000000",
          "2023-08-14T00:00:00.000000000",
          "2023-08-16T00:00:00.000000000",
          "2023-08-17T00:00:00.000000000",
          "2023-08-18T00:00:00.000000000",
          "2023-08-21T00:00:00.000000000",
          "2023-08-22T00:00:00.000000000",
          "2023-08-23T00:00:00.000000000",
          "2023-08-24T00:00:00.000000000",
          "2023-08-25T00:00:00.000000000",
          "2023-08-28T00:00:00.000000000",
          "2023-08-29T00:00:00.000000000",
          "2023-08-31T00:00:00.000000000"
         ],
         "y": {
          "bdata": "MzMzA453bkHNzMwEmIhvQWZmZiYeMGtBZmZmBsjHXkHNzMxs/zxYQZqZmUHXFmhBzczMoNnZcEEzMzO7LJ9nQc3MzLyUFlhBmpmZmeOCRkHNzMwM3XBUQZqZmXnwx2dBMzMzO5E3cUHNzMz8I1hWQQAAAMDe50dBZmZmpuauWkEzMzMzK1BeQWZmZmaq/1xBNDMz889TT0FmZmbGeDlPQWdmZoZuyktBMzMzS2AVaUEAAADon6hsQTMzMw+4L3BBmpmZpbuwc0HNzMxA7fiAQWZmZi6UmXZBmpmZ0YpldkEzMzNLcQN4QWZmZl5HO4VBZmZmKirGeEFmZmaykxJyQTMzM0PDn3FBZmZmYqsaeEGamZk5AGtzQZqZmXnehnhBmpmZ5WxlfkGamZnDNkyOQZqZmaEkEodBMzMzoxE/hEEAAABapDeGQc3MzBI5ooBBzczM5McNhkFmZmZW/wCAQc3MzDJ2JIRBZ2Zm5MfNhEEzMzNpsQCMQWZmZv4OynpBAAAAFNesc0EzMzPvF05yQTMzM1e7endBAAAAYFV8eEFmZmaqV3d3QTMzMx8x33tBAAAAlLOqhEEAAAC22haHQZqZmY2o8oVBmpmZE5fThkFmZmZOyuiGQTMzM8Mso4dBZmZmiopghUFmZmYSItKDQTMzMw1IeIlBmpmZ6ZmAgUFmZmaKDLd6QTMzM21wzoBBMzMzG3bzhkEAAADwgSuJQQAAAAI5o4RBmpmZByAYjEEzMzODiBSGQc3MzPDnwYdBAAAAmjUpiUFmZmbChsJ5QZqZmcliamRBMzMzO/0cckGamZmVxnt0Qc3MzAAcJ4JBZmZmPo6qhUEAAABW2lyHQc3MzLj7g4RBAAAAVEAFiUEzMzPHYOqPQZqZmWejIINBAAAAGIiwfUGamZmRSzyDQWZmZiCCA4VBMzMzTxPUekEAAAAeGp2BQTMzMzeKr39BmpmZ/RuHe0EzMzMJsY6DQc3MzMICkoJBmpmZkdTgekHNzMwAo0J6QQAAAB4gmIBBzczMmOw4gUEzMzN5YLGEQTMzM5u4KIdBAAAAaAIlg0EzMzMjpWFwQQAAAFwAGHVBZmZmvmuXeUHNzMwgu915QZqZmX16H3ZBZmZmJpgYfEEzMzMvZdZ1QTMzM++GhHJBmpmZ8cMbcUHNzMwYupVwQTMzMxdJRnJBzczMLMxMX0FmZmbeZpJuQQAAADC3FWxBZmZmNtFEcUEAAABA7vRsQc3MzPwt+WRBmpmZSa+6ZkFmZmYWfCuCQQAAAADNKX5B",
          "dtype": "f8"
         }
        },
        {
         "line": {
          "color": "teal",
          "dash": "dash"
         },
         "mode": "lines",
         "name": "OLS Regression",
         "type": "scatter",
         "x": [
          "2023-02-08T00:00:00.000000000",
          "2023-02-09T00:00:00.000000000",
          "2023-02-10T00:00:00.000000000",
          "2023-02-13T00:00:00.000000000",
          "2023-02-14T00:00:00.000000000",
          "2023-02-15T00:00:00.000000000",
          "2023-02-20T00:00:00.000000000",
          "2023-02-21T00:00:00.000000000",
          "2023-02-24T00:00:00.000000000",
          "2023-02-28T00:00:00.000000000",
          "2023-03-03T00:00:00.000000000",
          "2023-03-06T00:00:00.000000000",
          "2023-03-08T00:00:00.000000000",
          "2023-03-17T00:00:00.000000000",
          "2023-03-20T00:00:00.000000000",
          "2023-03-21T00:00:00.000000000",
          "2023-03-22T00:00:00.000000000",
          "2023-03-23T00:00:00.000000000",
          "2023-03-24T00:00:00.000000000",
          "2023-03-27T00:00:00.000000000",
          "2023-03-28T00:00:00.000000000",
          "2023-03-29T00:00:00.000000000",
          "2023-03-31T00:00:00.000000000",
          "2023-04-03T00:00:00.000000000",
          "2023-04-05T00:00:00.000000000",
          "2023-04-06T00:00:00.000000000",
          "2023-04-10T00:00:00.000000000",
          "2023-04-11T00:00:00.000000000",
          "2023-04-12T00:00:00.000000000",
          "2023-04-13T00:00:00.000000000",
          "2023-04-19T00:00:00.000000000",
          "2023-04-20T00:00:00.000000000",
          "2023-04-21T00:00:00.000000000",
          "2023-04-24T00:00:00.000000000",
          "2023-04-25T00:00:00.000000000",
          "2023-04-26T00:00:00.000000000",
          "2023-04-27T00:00:00.000000000",
          "2023-04-28T00:00:00.000000000",
          "2023-05-02T00:00:00.000000000",
          "2023-05-03T00:00:00.000000000",
          "2023-05-04T00:00:00.000000000",
          "2023-05-05T00:00:00.000000000",
          "2023-05-08T00:00:00.000000000",
          "2023-05-09T00:00:00.000000000",
          "2023-05-10T00:00:00.000000000",
          "2023-05-11T00:00:00.000000000",
          "2023-05-12T00:00:00.000000000",
          "2023-05-17T00:00:00.000000000",
          "2023-05-18T00:00:00.000000000",
          "2023-05-19T00:00:00.000000000",
          "2023-05-22T00:00:00.000000000",
          "2023-05-23T00:00:00.000000000",
          "2023-05-24T00:00:00.000000000",
          "2023-05-25T00:00:00.000000000",
          "2023-05-26T00:00:00.000000000",
          "2023-05-29T00:00:00.000000000",
          "2023-05-30T00:00:00.000000000",
          "2023-05-31T00:00:00.000000000",
          "2023-06-01T00:00:00.000000000",
          "2023-06-02T00:00:00.000000000",
          "2023-06-05T00:00:00.000000000",
          "2023-06-06T00:00:00.000000000",
          "2023-06-07T00:00:00.000000000",
          "2023-06-08T00:00:00.000000000",
          "2023-06-09T00:00:00.000000000",
          "2023-06-12T00:00:00.000000000",
          "2023-06-13T00:00:00.000000000",
          "2023-06-14T00:00:00.000000000",
          "2023-06-15T00:00:00.000000000",
          "2023-06-16T00:00:00.000000000",
          "2023-06-19T00:00:00.000000000",
          "2023-06-20T00:00:00.000000000",
          "2023-06-21T00:00:00.000000000",
          "2023-06-22T00:00:00.000000000",
          "2023-06-23T00:00:00.000000000",
          "2023-06-26T00:00:00.000000000",
          "2023-06-27T00:00:00.000000000",
          "2023-06-28T00:00:00.000000000",
          "2023-06-30T00:00:00.000000000",
          "2023-07-03T00:00:00.000000000",
          "2023-07-04T00:00:00.000000000",
          "2023-07-05T00:00:00.000000000",
          "2023-07-06T00:00:00.000000000",
          "2023-07-07T00:00:00.000000000",
          "2023-07-10T00:00:00.000000000",
          "2023-07-11T00:00:00.000000000",
          "2023-07-12T00:00:00.000000000",
          "2023-07-13T00:00:00.000000000",
          "2023-07-14T00:00:00.000000000",
          "2023-07-17T00:00:00.000000000",
          "2023-07-18T00:00:00.000000000",
          "2023-07-19T00:00:00.000000000",
          "2023-07-20T00:00:00.000000000",
          "2023-07-21T00:00:00.000000000",
          "2023-07-24T00:00:00.000000000",
          "2023-07-25T00:00:00.000000000",
          "2023-07-26T00:00:00.000000000",
          "2023-07-27T00:00:00.000000000",
          "2023-07-31T00:00:00.000000000",
          "2023-08-01T00:00:00.000000000",
          "2023-08-02T00:00:00.000000000",
          "2023-08-03T00:00:00.000000000",
          "2023-08-04T00:00:00.000000000",
          "2023-08-07T00:00:00.000000000",
          "2023-08-08T00:00:00.000000000",
          "2023-08-09T00:00:00.000000000",
          "2023-08-10T00:00:00.000000000",
          "2023-08-11T00:00:00.000000000",
          "2023-08-14T00:00:00.000000000",
          "2023-08-16T00:00:00.000000000",
          "2023-08-17T00:00:00.000000000",
          "2023-08-18T00:00:00.000000000",
          "2023-08-21T00:00:00.000000000",
          "2023-08-22T00:00:00.000000000",
          "2023-08-23T00:00:00.000000000",
          "2023-08-24T00:00:00.000000000",
          "2023-08-25T00:00:00.000000000",
          "2023-08-28T00:00:00.000000000",
          "2023-08-29T00:00:00.000000000",
          "2023-08-31T00:00:00.000000000"
         ],
         "y": {
          "bdata": "+nwR0+MockGF0cIk3z5yQRAmdHbaVHJBsCOIa8yWckE7eDm9x6xyQcbM6g7DwnJBfHNhp6swc0EHyBL5pkZzQafFJu6YiHNB0hfsNIbgc0FzFQAqeCJ0QRMTFB9qZHRBKbx2wmCQdEEKtbKhNlZ1QauyxpYomHVBNgd46COudUHAWyk6H8R1QUuw2osa2nVB1gSM3RXwdUF2AqDSBzJ2QQFXUSQDSHZBjKsCdv5ddkGiVGUZ9Yl2QUJSeQ7ny3ZBWPvbsd33dkHiT40D2Q13QQ6iUkrGZXdBmPYDnMF7d0EkS7XtvJF3Qa6fZj+4p3dB75qOKZwreEF67z97l0F4QQVE8cySV3hBpUEFwoSZeEEwlrYTgK94QbvqZ2V7xXhBRj8Zt3bbeEHQk8oIcvF4Qfzlj09fSXlBhjpBoVpfeUESj/LyVXV5QZzjo0RRi3lBPeG3OUPNeUHINWmLPuN5QVKKGt05+XlB3d7LLjUPekFoM32AMCV6QR7a8xgZk3pBqS6lahSpekE0g1a8D796QdSAarEBAXtBX9UbA/0We0HqKc1U+Cx7QXR+fqbzQntBANMv+O5Ye0Gg0EPt4Jp7QSol9T7csHtBtnmmkNfGe0FAzlfi0tx7QcsiCTTO8ntBbCAdKcA0fEH2dM56u0p8QYHJf8y2YHxBDB4xHrJ2fEGXcuJvrYx8QTdw9mSfznxBwsSntprkfEFNGVkIlvp8QdhtClqREH1BYsK7q4wmfUEDwM+gfmh9QY4UgfJ5fn1BGGkyRHWUfUGkveOVcKp9QS4SledrwH1Bzg+p3F0CfkFaZFouWRh+QeS4C4BULn5B+mFuI0tafkGaX4IYPZx+QSW0M2o4sn5BsAjluzPIfkE7XZYNL95+QcaxR18q9H5BZq9bVBw2f0HxAw2mF0x/QXxYvvcSYn9BBq1vSQ54f0GSASGbCY5/QTL/NJD7z39BvFPm4fblf0FIqJcz8vt/QWl+pML2CIBBrih9a/QTgEF/Jwdm7TSAQcTR3w7rP4BBCny4t+hKgEFPJpFg5lWAQWTP8wPdgYBBqnnMrNqMgEHwI6VV2JeAQTXOff7VooBBenhWp9OtgEFKd+ChzM6AQZAhuUrK2YBB1cuR88fkgEEbdmqcxe+AQWAgQ0XD+oBBMB/NP7wbgUG7c36RtzGBQQAeVzq1PIFBRsgv47JHgUEWx7ndq2iBQVxxkoapc4FBoRtrL6d+gUHmxUPYpImBQSxwHIGilIFB/G6me5u1gUFCGX8kmcCBQcxtMHaU1oFB",
          "dtype": "f8"
         }
        },
        {
         "line": {
          "color": "red",
          "dash": "dot"
         },
         "mode": "lines",
         "name": "Polynomial Regression (5th Degree)",
         "type": "scatter",
         "x": [
          "2023-02-08T00:00:00.000000000",
          "2023-02-09T00:00:00.000000000",
          "2023-02-10T00:00:00.000000000",
          "2023-02-13T00:00:00.000000000",
          "2023-02-14T00:00:00.000000000",
          "2023-02-15T00:00:00.000000000",
          "2023-02-20T00:00:00.000000000",
          "2023-02-21T00:00:00.000000000",
          "2023-02-24T00:00:00.000000000",
          "2023-02-28T00:00:00.000000000",
          "2023-03-03T00:00:00.000000000",
          "2023-03-06T00:00:00.000000000",
          "2023-03-08T00:00:00.000000000",
          "2023-03-17T00:00:00.000000000",
          "2023-03-20T00:00:00.000000000",
          "2023-03-21T00:00:00.000000000",
          "2023-03-22T00:00:00.000000000",
          "2023-03-23T00:00:00.000000000",
          "2023-03-24T00:00:00.000000000",
          "2023-03-27T00:00:00.000000000",
          "2023-03-28T00:00:00.000000000",
          "2023-03-29T00:00:00.000000000",
          "2023-03-31T00:00:00.000000000",
          "2023-04-03T00:00:00.000000000",
          "2023-04-05T00:00:00.000000000",
          "2023-04-06T00:00:00.000000000",
          "2023-04-10T00:00:00.000000000",
          "2023-04-11T00:00:00.000000000",
          "2023-04-12T00:00:00.000000000",
          "2023-04-13T00:00:00.000000000",
          "2023-04-19T00:00:00.000000000",
          "2023-04-20T00:00:00.000000000",
          "2023-04-21T00:00:00.000000000",
          "2023-04-24T00:00:00.000000000",
          "2023-04-25T00:00:00.000000000",
          "2023-04-26T00:00:00.000000000",
          "2023-04-27T00:00:00.000000000",
          "2023-04-28T00:00:00.000000000",
          "2023-05-02T00:00:00.000000000",
          "2023-05-03T00:00:00.000000000",
          "2023-05-04T00:00:00.000000000",
          "2023-05-05T00:00:00.000000000",
          "2023-05-08T00:00:00.000000000",
          "2023-05-09T00:00:00.000000000",
          "2023-05-10T00:00:00.000000000",
          "2023-05-11T00:00:00.000000000",
          "2023-05-12T00:00:00.000000000",
          "2023-05-17T00:00:00.000000000",
          "2023-05-18T00:00:00.000000000",
          "2023-05-19T00:00:00.000000000",
          "2023-05-22T00:00:00.000000000",
          "2023-05-23T00:00:00.000000000",
          "2023-05-24T00:00:00.000000000",
          "2023-05-25T00:00:00.000000000",
          "2023-05-26T00:00:00.000000000",
          "2023-05-29T00:00:00.000000000",
          "2023-05-30T00:00:00.000000000",
          "2023-05-31T00:00:00.000000000",
          "2023-06-01T00:00:00.000000000",
          "2023-06-02T00:00:00.000000000",
          "2023-06-05T00:00:00.000000000",
          "2023-06-06T00:00:00.000000000",
          "2023-06-07T00:00:00.000000000",
          "2023-06-08T00:00:00.000000000",
          "2023-06-09T00:00:00.000000000",
          "2023-06-12T00:00:00.000000000",
          "2023-06-13T00:00:00.000000000",
          "2023-06-14T00:00:00.000000000",
          "2023-06-15T00:00:00.000000000",
          "2023-06-16T00:00:00.000000000",
          "2023-06-19T00:00:00.000000000",
          "2023-06-20T00:00:00.000000000",
          "2023-06-21T00:00:00.000000000",
          "2023-06-22T00:00:00.000000000",
          "2023-06-23T00:00:00.000000000",
          "2023-06-26T00:00:00.000000000",
          "2023-06-27T00:00:00.000000000",
          "2023-06-28T00:00:00.000000000",
          "2023-06-30T00:00:00.000000000",
          "2023-07-03T00:00:00.000000000",
          "2023-07-04T00:00:00.000000000",
          "2023-07-05T00:00:00.000000000",
          "2023-07-06T00:00:00.000000000",
          "2023-07-07T00:00:00.000000000",
          "2023-07-10T00:00:00.000000000",
          "2023-07-11T00:00:00.000000000",
          "2023-07-12T00:00:00.000000000",
          "2023-07-13T00:00:00.000000000",
          "2023-07-14T00:00:00.000000000",
          "2023-07-17T00:00:00.000000000",
          "2023-07-18T00:00:00.000000000",
          "2023-07-19T00:00:00.000000000",
          "2023-07-20T00:00:00.000000000",
          "2023-07-21T00:00:00.000000000",
          "2023-07-24T00:00:00.000000000",
          "2023-07-25T00:00:00.000000000",
          "2023-07-26T00:00:00.000000000",
          "2023-07-27T00:00:00.000000000",
          "2023-07-31T00:00:00.000000000",
          "2023-08-01T00:00:00.000000000",
          "2023-08-02T00:00:00.000000000",
          "2023-08-03T00:00:00.000000000",
          "2023-08-04T00:00:00.000000000",
          "2023-08-07T00:00:00.000000000",
          "2023-08-08T00:00:00.000000000",
          "2023-08-09T00:00:00.000000000",
          "2023-08-10T00:00:00.000000000",
          "2023-08-11T00:00:00.000000000",
          "2023-08-14T00:00:00.000000000",
          "2023-08-16T00:00:00.000000000",
          "2023-08-17T00:00:00.000000000",
          "2023-08-18T00:00:00.000000000",
          "2023-08-21T00:00:00.000000000",
          "2023-08-22T00:00:00.000000000",
          "2023-08-23T00:00:00.000000000",
          "2023-08-24T00:00:00.000000000",
          "2023-08-25T00:00:00.000000000",
          "2023-08-28T00:00:00.000000000",
          "2023-08-29T00:00:00.000000000",
          "2023-08-31T00:00:00.000000000"
         ],
         "y": {
          "bdata": "DGV9tANHb0FhqIiV8GttQftqOOSirWtBQEXuHmcYZ0ERLHlqRsZlQSqK6keBjWRBdjo0kIeuX0Eg3JEsM1JeQYo5oi5uM1tBgK9iE/QcWUG68RNGR/JYQa7boqEM2llBppkVzij/WkG73f7KKlBiQSpiPVLslGRBb8HynaRlZUHlDENKQD1mQexahKlZG2dBR429y4z/Z0E3MphP88xqQdryA5zIxWtBlzMkxd3CbEG2Ih2aYshuQa60hXD+83BBLlpJGWkEckH7gNqH6o1yQeLMSIoiuXRB/gfbsodEdUHXe2WC4891Qcpmjm4UW3ZBaoOfxr+TeUFmnN+iWRp6QWjcSbLXn3pB5+12JaMofEHEaHG1rah8QYL7T/AdJ31BzgflrtyjfUGHefp+0x5+QeQz8fw2939B/NS57gY0gEFdhL9bUmuAQcaqEPV0oYBB3AXup5Q8gUGFZqx2wm2BQeIi2FignYFBVRcudyfMgUHGuYZMUfmBQRmWLCTdxYJB8vb+AWDqgkHv/IK7YA2DQVl68iovbYNBtQYw7QGKg0FhCzpTQaWDQYeq3szqvoNB83OnE/zWg0FVk6U7jBWEQfnCEqQrJ4RBG+hetis3hEGb4efZi0WEQenllrtLUoRBozM+ncpuhEEX7ZOSC3WEQU1116SueYRBR86lFbV8hEHHO/dnIH6EQVc6eY3SeIRBc1G6ieVzhEEzOsC1aG2EQVOAFhBfZYRBY9tz1MtbhEFP4dB7/DWEQUu23O9nJoRBK1cYeV0VhEHnP6214QKEQRcCwHz57oNBWxd/wumqg0FbNqR5hJGDQVPgwzDOdoNBkx+ZVYc9g0Gr239fXd6CQdObDuNIvIJBaziOiRKZgkFrQXLYwXSCQaMwyYVeT4JBM5iTrRTZgUG7unCot6+BQWtrLFRxhYFB+13mfUpagUETGikfTC6BQVN8QR2gpYBBI8x4v6B2gEGriT8++UaAQXPyEJGzFoBBZgVGr7PLf0E2sLPbd6B+QZaRYaD0On5B1gOuFrPUfUG2Y6VHyW19QUbt8MxRzXtBpocB3HJke0Em+uWbdft6QSZQH/VxknpBhrrjD4ApekFm8Q0eCvB4QaaKYqFViHhBZnANQS8heEGmKWOKsLp3QWY2DULzVHdBRl9+0kgpdkHmvvW8Kmd1QaaLVLAeCHVBJk5zG46qdEHm8VpT05tzQSbNjJ9DRXNBptFfurnwckHG5OvKUZ5yQQaN3R4oTnJBxi5m4T1scUFmI2clKyZxQQYrO2uMonBB",
          "dtype": "f8"
         }
        },
        {
         "line": {
          "color": "orange",
          "dash": "dash"
         },
         "mode": "lines",
         "name": "Exponential Smoothing",
         "type": "scatter",
         "x": [
          "2023-02-08T00:00:00.000000000",
          "2023-02-09T00:00:00.000000000",
          "2023-02-10T00:00:00.000000000",
          "2023-02-13T00:00:00.000000000",
          "2023-02-14T00:00:00.000000000",
          "2023-02-15T00:00:00.000000000",
          "2023-02-20T00:00:00.000000000",
          "2023-02-21T00:00:00.000000000",
          "2023-02-24T00:00:00.000000000",
          "2023-02-28T00:00:00.000000000",
          "2023-03-03T00:00:00.000000000",
          "2023-03-06T00:00:00.000000000",
          "2023-03-08T00:00:00.000000000",
          "2023-03-17T00:00:00.000000000",
          "2023-03-20T00:00:00.000000000",
          "2023-03-21T00:00:00.000000000",
          "2023-03-22T00:00:00.000000000",
          "2023-03-23T00:00:00.000000000",
          "2023-03-24T00:00:00.000000000",
          "2023-03-27T00:00:00.000000000",
          "2023-03-28T00:00:00.000000000",
          "2023-03-29T00:00:00.000000000",
          "2023-03-31T00:00:00.000000000",
          "2023-04-03T00:00:00.000000000",
          "2023-04-05T00:00:00.000000000",
          "2023-04-06T00:00:00.000000000",
          "2023-04-10T00:00:00.000000000",
          "2023-04-11T00:00:00.000000000",
          "2023-04-12T00:00:00.000000000",
          "2023-04-13T00:00:00.000000000",
          "2023-04-19T00:00:00.000000000",
          "2023-04-20T00:00:00.000000000",
          "2023-04-21T00:00:00.000000000",
          "2023-04-24T00:00:00.000000000",
          "2023-04-25T00:00:00.000000000",
          "2023-04-26T00:00:00.000000000",
          "2023-04-27T00:00:00.000000000",
          "2023-04-28T00:00:00.000000000",
          "2023-05-02T00:00:00.000000000",
          "2023-05-03T00:00:00.000000000",
          "2023-05-04T00:00:00.000000000",
          "2023-05-05T00:00:00.000000000",
          "2023-05-08T00:00:00.000000000",
          "2023-05-09T00:00:00.000000000",
          "2023-05-10T00:00:00.000000000",
          "2023-05-11T00:00:00.000000000",
          "2023-05-12T00:00:00.000000000",
          "2023-05-17T00:00:00.000000000",
          "2023-05-18T00:00:00.000000000",
          "2023-05-19T00:00:00.000000000",
          "2023-05-22T00:00:00.000000000",
          "2023-05-23T00:00:00.000000000",
          "2023-05-24T00:00:00.000000000",
          "2023-05-25T00:00:00.000000000",
          "2023-05-26T00:00:00.000000000",
          "2023-05-29T00:00:00.000000000",
          "2023-05-30T00:00:00.000000000",
          "2023-05-31T00:00:00.000000000",
          "2023-06-01T00:00:00.000000000",
          "2023-06-02T00:00:00.000000000",
          "2023-06-05T00:00:00.000000000",
          "2023-06-06T00:00:00.000000000",
          "2023-06-07T00:00:00.000000000",
          "2023-06-08T00:00:00.000000000",
          "2023-06-09T00:00:00.000000000",
          "2023-06-12T00:00:00.000000000",
          "2023-06-13T00:00:00.000000000",
          "2023-06-14T00:00:00.000000000",
          "2023-06-15T00:00:00.000000000",
          "2023-06-16T00:00:00.000000000",
          "2023-06-19T00:00:00.000000000",
          "2023-06-20T00:00:00.000000000",
          "2023-06-21T00:00:00.000000000",
          "2023-06-22T00:00:00.000000000",
          "2023-06-23T00:00:00.000000000",
          "2023-06-26T00:00:00.000000000",
          "2023-06-27T00:00:00.000000000",
          "2023-06-28T00:00:00.000000000",
          "2023-06-30T00:00:00.000000000",
          "2023-07-03T00:00:00.000000000",
          "2023-07-04T00:00:00.000000000",
          "2023-07-05T00:00:00.000000000",
          "2023-07-06T00:00:00.000000000",
          "2023-07-07T00:00:00.000000000",
          "2023-07-10T00:00:00.000000000",
          "2023-07-11T00:00:00.000000000",
          "2023-07-12T00:00:00.000000000",
          "2023-07-13T00:00:00.000000000",
          "2023-07-14T00:00:00.000000000",
          "2023-07-17T00:00:00.000000000",
          "2023-07-18T00:00:00.000000000",
          "2023-07-19T00:00:00.000000000",
          "2023-07-20T00:00:00.000000000",
          "2023-07-21T00:00:00.000000000",
          "2023-07-24T00:00:00.000000000",
          "2023-07-25T00:00:00.000000000",
          "2023-07-26T00:00:00.000000000",
          "2023-07-27T00:00:00.000000000",
          "2023-07-31T00:00:00.000000000",
          "2023-08-01T00:00:00.000000000",
          "2023-08-02T00:00:00.000000000",
          "2023-08-03T00:00:00.000000000",
          "2023-08-04T00:00:00.000000000",
          "2023-08-07T00:00:00.000000000",
          "2023-08-08T00:00:00.000000000",
          "2023-08-09T00:00:00.000000000",
          "2023-08-10T00:00:00.000000000",
          "2023-08-11T00:00:00.000000000",
          "2023-08-14T00:00:00.000000000",
          "2023-08-16T00:00:00.000000000",
          "2023-08-17T00:00:00.000000000",
          "2023-08-18T00:00:00.000000000",
          "2023-08-21T00:00:00.000000000",
          "2023-08-22T00:00:00.000000000",
          "2023-08-23T00:00:00.000000000",
          "2023-08-24T00:00:00.000000000",
          "2023-08-25T00:00:00.000000000",
          "2023-08-28T00:00:00.000000000",
          "2023-08-29T00:00:00.000000000",
          "2023-08-31T00:00:00.000000000"
         ],
         "y": {
          "bdata": "tdWDvX24b0FYrz5VimhtQQd+Gzj6721Bjf98S599akHo2Pl+VytgQbY9l1Yg6FdBQr2DySHPZEHyipqoa1puQaZBNGLE0WdBEZXZ10hNWkEM9lQzmW5JQeywqckW6FFBhAInkNgkZEFjwP56yhZvQUW+HRUjF1tBwhcshQtMS0Fz8EZ8nz1XQWnl9rIDE1xBV7lwSjrxW0HDyMT4Cw1RQTh7Lr/3xE5Bki3q0nSVS0GOedhasQRlQdhE2UVc92pBSCr3d0knb0HgxUilFN9yQWTaSyqDQX9BZDeucZkBeEHSqX15oqd2QbiKHE1ayndBnLOHgSing0G5VYgaBSx7QY/+aG3VhHNBsMJ3OAjqcUFv9c3u7At3QZG8OIM1CnRBgS+jsJLQd0FVo6Ko7mh9QXh/BTWAu4tBph4Y+oseiEFPdlWOEBqFQSDC29nIQoZBw7dcOT6zgUFMwzeoqIKFQWIyI3ZaCoFBD4sv2IzKg0HYtGflx9eEQZIX1L/wE4tBu4qJrkc4f0Gz1Uj2D5h1Qb84A1dZ5nJBe8VOw3nHdkFipIgtwFR4Qf9eOhiRwHdB8Zxc4n5be0F8+3Bu4p+DQY+tyTElxYZBXjpFSg5dhkFyf2MVgQmHQZ6Kl9leOYdBV47ddWzfh0Eq5hiz/w+GQeEfpWLubYRBWAXFeDjpiEGxmw+eUOeCQVZFL8pOv3xBvpHlDPqJgEGTOPyAAhSGQY3ax3FK94hBgghLh56dhUEimhs2N1WLQdZQ7byDPYdBNI980oz5h0F1aYPVZUqJQTmeNWNT1n1B3KiI8gYmakEfi0wpj0VxQRsno+WFB3RBLocpJ03TgEE0OPO5YROFQaVZWUtUR4dBKApwcd8+hUEszWDd/rOIQcBPtim+II9BOsqHXI9LhUG5rQEF1QuAQdHcKPD544JBbuDuBMrmhEEMypWOpH59QQ3gVpruS4FBHdh2dQxBgEGaaXFJPJ98QQnpQNwP2IJBPE5hHcbWgkHOzU+uL+l8QYUPvNyg83pB17rBZ7c4gEHwpcSkUz+BQaEJ2yYSWoRB+2z7MWv9hkH26DjSswmEQdK9KnxYD3RBUHv6hnITdUFkAVhJyAd5QTt8GaZA+nlBeIBKVvL5dkG5LsIdRH17Qf10kboC/nZBcJhx2q5tc0H4l42TsKVxQZtaxKEO6XBBRQRMpmg1ckEaTRKC4PViQeUt7+CBtWxB3OZ742p5bEFZrVMPTetwQXxclwWxG25BwCs8pGK5ZkHPKqic+QBnQQfGYqKm8H9B",
          "dtype": "f8"
         }
        },
        {
         "marker": {
          "color": [
           "black",
           "purple"
          ],
          "size": 10
         },
         "mode": "markers+text",
         "name": "Aug 31 Predictions",
         "text": [
          "Poly: ₹17,443,014.70",
          "Exp: ₹32,441,572.37"
         ],
         "textposition": "bottom right",
         "type": "scatter",
         "x": [
          "2023-08-31T00:00:00",
          "2023-08-31T00:00:00"
         ],
         "y": [
          17443014.701945413,
          32441572.37272392
         ]
        }
       ],
       "layout": {
        "height": 500,
        "legend": {
         "orientation": "h",
         "x": 0.5,
         "xanchor": "center",
         "y": 1.08
        },
        "margin": {
         "b": 50,
         "l": 15,
         "r": 15,
         "t": 80
        },
        "plot_bgcolor": "#e5ecf6",
        "showlegend": true,
        "template": {
         "data": {
          "bar": [
           {
            "error_x": {
             "color": "#2a3f5f"
            },
            "error_y": {
             "color": "#2a3f5f"
            },
            "marker": {
             "line": {
              "color": "#E5ECF6",
              "width": 0.5
             },
             "pattern": {
              "fillmode": "overlay",
              "size": 10,
              "solidity": 0.2
             }
            },
            "type": "bar"
           }
          ],
          "barpolar": [
           {
            "marker": {
             "line": {
              "color": "#E5ECF6",
              "width": 0.5
             },
             "pattern": {
              "fillmode": "overlay",
              "size": 10,
              "solidity": 0.2
             }
            },
            "type": "barpolar"
           }
          ],
          "carpet": [
           {
            "aaxis": {
             "endlinecolor": "#2a3f5f",
             "gridcolor": "white",
             "linecolor": "white",
             "minorgridcolor": "white",
             "startlinecolor": "#2a3f5f"
            },
            "baxis": {
             "endlinecolor": "#2a3f5f",
             "gridcolor": "white",
             "linecolor": "white",
             "minorgridcolor": "white",
             "startlinecolor": "#2a3f5f"
            },
            "type": "carpet"
           }
          ],
          "choropleth": [
           {
            "colorbar": {
             "outlinewidth": 0,
             "ticks": ""
            },
            "type": "choropleth"
           }
          ],
          "contour": [
           {
            "colorbar": {
             "outlinewidth": 0,
             "ticks": ""
            },
            "colorscale": [
             [
              0,
              "#0d0887"
             ],
             [
              0.1111111111111111,
              "#46039f"
             ],
             [
              0.2222222222222222,
              "#7201a8"
             ],
             [
              0.3333333333333333,
              "#9c179e"
             ],
             [
              0.4444444444444444,
              "#bd3786"
             ],
             [
              0.5555555555555556,
              "#d8576b"
             ],
             [
              0.6666666666666666,
              "#ed7953"
             ],
             [
              0.7777777777777778,
              "#fb9f3a"
             ],
             [
              0.8888888888888888,
              "#fdca26"
             ],
             [
              1,
              "#f0f921"
             ]
            ],
            "type": "contour"
           }
          ],
          "contourcarpet": [
           {
            "colorbar": {
             "outlinewidth": 0,
             "ticks": ""
            },
            "type": "contourcarpet"
           }
          ],
          "heatmap": [
           {
            "colorbar": {
             "outlinewidth": 0,
             "ticks": ""
            },
            "colorscale": [
             [
              0,
              "#0d0887"
             ],
             [
              0.1111111111111111,
              "#46039f"
             ],
             [
              0.2222222222222222,
              "#7201a8"
             ],
             [
              0.3333333333333333,
              "#9c179e"
             ],
             [
              0.4444444444444444,
              "#bd3786"
             ],
             [
              0.5555555555555556,
              "#d8576b"
             ],
             [
              0.6666666666666666,
              "#ed7953"
             ],
             [
              0.7777777777777778,
              "#fb9f3a"
             ],
             [
              0.8888888888888888,
              "#fdca26"
             ],
             [
              1,
              "#f0f921"
             ]
            ],
            "type": "heatmap"
           }
          ],
          "histogram": [
           {
            "marker": {
             "pattern": {
              "fillmode": "overlay",
              "size": 10,
              "solidity": 0.2
             }
            },
            "type": "histogram"
           }
          ],
          "histogram2d": [
           {
            "colorbar": {
             "outlinewidth": 0,
             "ticks": ""
            },
            "colorscale": [
             [
              0,
              "#0d0887"
             ],
             [
              0.1111111111111111,
              "#46039f"
             ],
             [
              0.2222222222222222,
              "#7201a8"
             ],
             [
              0.3333333333333333,
              "#9c179e"
             ],
             [
              0.4444444444444444,
              "#bd3786"
             ],
             [
              0.5555555555555556,
              "#d8576b"
             ],
             [
              0.6666666666666666,
              "#ed7953"
             ],
             [
              0.7777777777777778,
              "#fb9f3a"
             ],
             [
              0.8888888888888888,
              "#fdca26"
             ],
             [
              1,
              "#f0f921"
             ]
            ],
            "type": "histogram2d"
           }
          ],
          "histogram2dcontour": [
           {
            "colorbar": {
             "outlinewidth": 0,
             "ticks": ""
            },
            "colorscale": [
             [
              0,
              "#0d0887"
             ],
             [
              0.1111111111111111,
              "#46039f"
             ],
             [
              0.2222222222222222,
              "#7201a8"
             ],
             [
              0.3333333333333333,
              "#9c179e"
             ],
             [
              0.4444444444444444,
              "#bd3786"
             ],
             [
              0.5555555555555556,
              "#d8576b"
             ],
             [
              0.6666666666666666,
              "#ed7953"
             ],
             [
              0.7777777777777778,
              "#fb9f3a"
             ],
             [
              0.8888888888888888,
              "#fdca26"
             ],
             [
              1,
              "#f0f921"
             ]
            ],
            "type": "histogram2dcontour"
           }
          ],
          "mesh3d": [
           {
            "colorbar": {
             "outlinewidth": 0,
             "ticks": ""
            },
            "type": "mesh3d"
           }
          ],
          "parcoords": [
           {
            "line": {
             "colorbar": {
              "outlinewidth": 0,
              "ticks": ""
             }
            },
            "type": "parcoords"
           }
          ],
          "pie": [
           {
            "automargin": true,
            "type": "pie"
           }
          ],
          "scatter": [
           {
            "fillpattern": {
             "fillmode": "overlay",
             "size": 10,
             "solidity": 0.2
            },
            "type": "scatter"
           }
          ],
          "scatter3d": [
           {
            "line": {
             "colorbar": {
              "outlinewidth": 0,
              "ticks": ""
             }
            },
            "marker": {
             "colorbar": {
              "outlinewidth": 0,
              "ticks": ""
             }
            },
            "type": "scatter3d"
           }
          ],
          "scattercarpet": [
           {
            "marker": {
             "colorbar": {
              "outlinewidth": 0,
              "ticks": ""
             }
            },
            "type": "scattercarpet"
           }
          ],
          "scattergeo": [
           {
            "marker": {
             "colorbar": {
              "outlinewidth": 0,
              "ticks": ""
             }
            },
            "type": "scattergeo"
           }
          ],
          "scattergl": [
           {
            "marker": {
             "colorbar": {
              "outlinewidth": 0,
              "ticks": ""
             }
            },
            "type": "scattergl"
           }
          ],
          "scattermap": [
           {
            "marker": {
             "colorbar": {
              "outlinewidth": 0,
              "ticks": ""
             }
            },
            "type": "scattermap"
           }
          ],
          "scattermapbox": [
           {
            "marker": {
             "colorbar": {
              "outlinewidth": 0,
              "ticks": ""
             }
            },
            "type": "scattermapbox"
           }
          ],
          "scatterpolar": [
           {
            "marker": {
             "colorbar": {
              "outlinewidth": 0,
              "ticks": ""
             }
            },
            "type": "scatterpolar"
           }
          ],
          "scatterpolargl": [
           {
            "marker": {
             "colorbar": {
              "outlinewidth": 0,
              "ticks": ""
             }
            },
            "type": "scatterpolargl"
           }
          ],
          "scatterternary": [
           {
            "marker": {
             "colorbar": {
              "outlinewidth": 0,
              "ticks": ""
             }
            },
            "type": "scatterternary"
           }
          ],
          "surface": [
           {
            "colorbar": {
             "outlinewidth": 0,
             "ticks": ""
            },
            "colorscale": [
             [
              0,
              "#0d0887"
             ],
             [
              0.1111111111111111,
              "#46039f"
             ],
             [
              0.2222222222222222,
              "#7201a8"
             ],
             [
              0.3333333333333333,
              "#9c179e"
             ],
             [
              0.4444444444444444,
              "#bd3786"
             ],
             [
              0.5555555555555556,
              "#d8576b"
             ],
             [
              0.6666666666666666,
              "#ed7953"
             ],
             [
              0.7777777777777778,
              "#fb9f3a"
             ],
             [
              0.8888888888888888,
              "#fdca26"
             ],
             [
              1,
              "#f0f921"
             ]
            ],
            "type": "surface"
           }
          ],
          "table": [
           {
            "cells": {
             "fill": {
              "color": "#EBF0F8"
             },
             "line": {
              "color": "white"
             }
            },
            "header": {
             "fill": {
              "color": "#C8D4E3"
             },
             "line": {
              "color": "white"
             }
            },
            "type": "table"
           }
          ]
         },
         "layout": {
          "annotationdefaults": {
           "arrowcolor": "#2a3f5f",
           "arrowhead": 0,
           "arrowwidth": 1
          },
          "autotypenumbers": "strict",
          "coloraxis": {
           "colorbar": {
            "outlinewidth": 0,
            "ticks": ""
           }
          },
          "colorscale": {
           "diverging": [
            [
             0,
             "#8e0152"
            ],
            [
             0.1,
             "#c51b7d"
            ],
            [
             0.2,
             "#de77ae"
            ],
            [
             0.3,
             "#f1b6da"
            ],
            [
             0.4,
             "#fde0ef"
            ],
            [
             0.5,
             "#f7f7f7"
            ],
            [
             0.6,
             "#e6f5d0"
            ],
            [
             0.7,
             "#b8e186"
            ],
            [
             0.8,
             "#7fbc41"
            ],
            [
             0.9,
             "#4d9221"
            ],
            [
             1,
             "#276419"
            ]
           ],
           "sequential": [
            [
             0,
             "#0d0887"
            ],
            [
             0.1111111111111111,
             "#46039f"
            ],
            [
             0.2222222222222222,
             "#7201a8"
            ],
            [
             0.3333333333333333,
             "#9c179e"
            ],
            [
             0.4444444444444444,
             "#bd3786"
            ],
            [
             0.5555555555555556,
             "#d8576b"
            ],
            [
             0.6666666666666666,
             "#ed7953"
            ],
            [
             0.7777777777777778,
             "#fb9f3a"
            ],
            [
             0.8888888888888888,
             "#fdca26"
            ],
            [
             1,
             "#f0f921"
            ]
           ],
           "sequentialminus": [
            [
             0,
             "#0d0887"
            ],
            [
             0.1111111111111111,
             "#46039f"
            ],
            [
             0.2222222222222222,
             "#7201a8"
            ],
            [
             0.3333333333333333,
             "#9c179e"
            ],
            [
             0.4444444444444444,
             "#bd3786"
            ],
            [
             0.5555555555555556,
             "#d8576b"
            ],
            [
             0.6666666666666666,
             "#ed7953"
            ],
            [
             0.7777777777777778,
             "#fb9f3a"
            ],
            [
             0.8888888888888888,
             "#fdca26"
            ],
            [
             1,
             "#f0f921"
            ]
           ]
          },
          "colorway": [
           "#636efa",
           "#EF553B",
           "#00cc96",
           "#ab63fa",
           "#FFA15A",
           "#19d3f3",
           "#FF6692",
           "#B6E880",
           "#FF97FF",
           "#FECB52"
          ],
          "font": {
           "color": "#2a3f5f"
          },
          "geo": {
           "bgcolor": "white",
           "lakecolor": "white",
           "landcolor": "#E5ECF6",
           "showlakes": true,
           "showland": true,
           "subunitcolor": "white"
          },
          "hoverlabel": {
           "align": "left"
          },
          "hovermode": "closest",
          "mapbox": {
           "style": "light"
          },
          "paper_bgcolor": "white",
          "plot_bgcolor": "#E5ECF6",
          "polar": {
           "angularaxis": {
            "gridcolor": "white",
            "linecolor": "white",
            "ticks": ""
           },
           "bgcolor": "#E5ECF6",
           "radialaxis": {
            "gridcolor": "white",
            "linecolor": "white",
            "ticks": ""
           }
          },
          "scene": {
           "xaxis": {
            "backgroundcolor": "#E5ECF6",
            "gridcolor": "white",
            "gridwidth": 2,
            "linecolor": "white",
            "showbackground": true,
            "ticks": "",
            "zerolinecolor": "white"
           },
           "yaxis": {
            "backgroundcolor": "#E5ECF6",
            "gridcolor": "white",
            "gridwidth": 2,
            "linecolor": "white",
            "showbackground": true,
            "ticks": "",
            "zerolinecolor": "white"
           },
           "zaxis": {
            "backgroundcolor": "#E5ECF6",
            "gridcolor": "white",
            "gridwidth": 2,
            "linecolor": "white",
            "showbackground": true,
            "ticks": "",
            "zerolinecolor": "white"
           }
          },
          "shapedefaults": {
           "line": {
            "color": "#2a3f5f"
           }
          },
          "ternary": {
           "aaxis": {
            "gridcolor": "white",
            "linecolor": "white",
            "ticks": ""
           },
           "baxis": {
            "gridcolor": "white",
            "linecolor": "white",
            "ticks": ""
           },
           "bgcolor": "#E5ECF6",
           "caxis": {
            "gridcolor": "white",
            "linecolor": "white",
            "ticks": ""
           }
          },
          "title": {
           "x": 0.05
          },
          "xaxis": {
           "automargin": true,
           "gridcolor": "white",
           "linecolor": "white",
           "ticks": "",
           "title": {
            "standoff": 15
           },
           "zerolinecolor": "white",
           "zerolinewidth": 2
          },
          "yaxis": {
           "automargin": true,
           "gridcolor": "white",
           "linecolor": "white",
           "ticks": "",
           "title": {
            "standoff": 15
           },
           "zerolinecolor": "white",
           "zerolinewidth": 2
          }
         }
        },
        "title": {
         "text": "Portfolio Value Over Time (Actual vs Predicted)"
        },
        "width": 1100,
        "xaxis": {
         "domain": [
          0,
          1
         ],
         "title": {
          "text": "Date"
         }
        },
        "yaxis": {
         "title": {
          "text": "Portfolio Value (₹)"
         }
        }
       }
      }
     },
     "metadata": {},
     "output_type": "display_data"
    }
   ],
   "source": [
    "import pandas as pd\n",
    "import numpy as np\n",
    "import plotly.graph_objects as go\n",
    "import statsmodels.api as sm\n",
    "from scipy import stats\n",
    "from sklearn.preprocessing import PolynomialFeatures\n",
    "from sklearn.linear_model import LinearRegression\n",
    "from sklearn.metrics import r2_score\n",
    "from statsmodels.tsa.holtwinters import ExponentialSmoothing\n",
    "\n",
    "# Load Portfolio Data\n",
    "df = filtered_df.copy()\n",
    "df['DateTime_$date'] = pd.to_datetime(df['DateTime_$date'], errors='coerce')\n",
    "\n",
    "# Calculate Portfolio Value\n",
    "df['Portfolio_Value'] = df['DEFAULT_LTP'].astype(float) * df['DEFAULT_LotSize'].astype(float)\n",
    "\n",
    "# Aggregate Portfolio Value by Date\n",
    "portfolio_metrics = df.groupby('DateTime_$date', as_index=False)['Portfolio_Value'].sum()\n",
    "\n",
    "# Convert Dates to Numeric Values\n",
    "portfolio_metrics['Days'] = (portfolio_metrics['DateTime_$date'] - portfolio_metrics['DateTime_$date'].min()).dt.days\n",
    "X = portfolio_metrics[['Days']].values\n",
    "y = portfolio_metrics['Portfolio_Value'].values\n",
    "\n",
    "# ===== Hypothesis Testing (One-Sample t-test) ===== #\n",
    "benchmark_value = portfolio_metrics['Portfolio_Value'].mean()\n",
    "t_stat, p_value = stats.ttest_1samp(portfolio_metrics['Portfolio_Value'], benchmark_value)\n",
    "\n",
    "# Print Hypothesis Testing Results\n",
    "print(\"\\nHypothesis Testing Results:\")\n",
    "print(f\"t-statistic: {t_stat:.4f}, p-value: {p_value:.4f}\")\n",
    "if p_value < 0.05:\n",
    "    print(\"Conclusion: Significant change in portfolio value over time (Reject H₀).\")\n",
    "else:\n",
    "    print(\"Conclusion: No significant change in portfolio value over time (Fail to reject H₀).\")\n",
    "\n",
    "# ===== OLS Regression (Linear Trend) ===== #\n",
    "X_ols = sm.add_constant(portfolio_metrics['Days'])\n",
    "model_ols = sm.OLS(y, X_ols).fit()\n",
    "portfolio_metrics['Predicted_OLS'] = model_ols.predict(X_ols)\n",
    "\n",
    "# Print OLS Regression Summary\n",
    "print(\"\\nOLS Regression Results:\")\n",
    "print(model_ols.summary())\n",
    "\n",
    "# ===== Polynomial Regression (Degree = 5) ===== #\n",
    "poly = PolynomialFeatures(degree=5)\n",
    "X_poly = poly.fit_transform(X)\n",
    "poly_model = LinearRegression()\n",
    "poly_model.fit(X_poly, y)\n",
    "y_pred_poly = poly_model.predict(X_poly)\n",
    "\n",
    "# ===== Exponential Smoothing (Time Series Forecasting) ===== #\n",
    "exp_model = ExponentialSmoothing(y, trend=\"add\", seasonal=None, damped_trend=False, use_boxcox=True).fit(remove_bias=True)\n",
    "y_pred_exp = exp_model.fittedvalues\n",
    "\n",
    "# Predict Portfolio Value for Aug 31, 2023\n",
    "target_date = pd.Timestamp(\"2023-08-31\")\n",
    "days_since_start = (target_date - portfolio_metrics['DateTime_$date'].min()).days\n",
    "X_target = poly.transform([[days_since_start]])\n",
    "predicted_poly_value = poly_model.predict(X_target)[0]\n",
    "predicted_exp_value = exp_model.forecast(1)[0]\n",
    "\n",
    "# Calculate R-squared Scores for Model Comparison\n",
    "r2_poly = r2_score(y, y_pred_poly)\n",
    "r2_exp = r2_score(y, y_pred_exp)\n",
    "\n",
    "# ===== Plotly Visualization ===== #\n",
    "fig = go.Figure()\n",
    "\n",
    "# **Actual Portfolio Value**\n",
    "fig.add_trace(go.Scatter(\n",
    "    x=portfolio_metrics['DateTime_$date'],\n",
    "    y=portfolio_metrics['Portfolio_Value'],\n",
    "    mode='lines+markers',\n",
    "    name='Actual Portfolio Value',\n",
    "    line=dict(color='#636efa')\n",
    "))\n",
    "\n",
    "# **OLS Regression Line**\n",
    "fig.add_trace(go.Scatter(\n",
    "    x=portfolio_metrics['DateTime_$date'],\n",
    "    y=portfolio_metrics['Predicted_OLS'],\n",
    "    mode='lines',\n",
    "    name='OLS Regression',\n",
    "    line=dict(color='teal', dash='dash')\n",
    "))\n",
    "\n",
    "# **Polynomial Regression Trend**\n",
    "fig.add_trace(go.Scatter(\n",
    "    x=portfolio_metrics['DateTime_$date'],\n",
    "    y=y_pred_poly,\n",
    "    mode='lines',\n",
    "    name='Polynomial Regression (5th Degree)',\n",
    "    line=dict(color='red', dash='dot')\n",
    "))\n",
    "\n",
    "# **Exponential Smoothing Trend**\n",
    "fig.add_trace(go.Scatter(\n",
    "    x=portfolio_metrics['DateTime_$date'],\n",
    "    y=y_pred_exp,\n",
    "    mode='lines',\n",
    "    name='Exponential Smoothing',\n",
    "    line=dict(color='orange', dash='dash')\n",
    "))\n",
    "\n",
    "# **Prediction for Aug 31, 2023**\n",
    "fig.add_trace(go.Scatter(\n",
    "    x=[target_date, target_date],\n",
    "    y=[predicted_poly_value, predicted_exp_value],\n",
    "    mode='markers+text',\n",
    "    name='Aug 31 Predictions',\n",
    "    marker=dict(size=10, color=['black', 'purple']),\n",
    "    text=[f\"Poly: ₹{predicted_poly_value:,.2f}\", f\"Exp: ₹{predicted_exp_value:,.2f}\"],\n",
    "    textposition=\"bottom right\"\n",
    "))\n",
    "\n",
    "# Update Layout\n",
    "fig.update_layout(\n",
    "    title='Portfolio Value Over Time (Actual vs Predicted)',\n",
    "    xaxis_title='Date',\n",
    "    yaxis_title='Portfolio Value (₹)',\n",
    "    showlegend=True,\n",
    "    plot_bgcolor='#e5ecf6',\n",
    "    height=500,\n",
    "    width=1100,  # Keep overall chart width\n",
    "    margin=dict(l=15, r=15, t=80, b=50),  # Increase top margin for legend space\n",
    "    xaxis=dict(domain=[0, 1]),  # Expands the plot area within the figure\n",
    "    legend=dict(\n",
    "        orientation='h',  # Horizontal legend\n",
    "        x=0.5, y=1.08,  # Center the legend below the title\n",
    "        xanchor='center',\n",
    "    )\n",
    ")\n",
    "\n",
    "# Display Predictions\n",
    "print(f\"Polynomial Regression Predicted Value for Aug 31, 2023: ₹{predicted_poly_value:,.2f} (R²: {r2_poly:.4f})\")\n",
    "print(f\"Exponential Smoothing Predicted Value for Aug 31, 2023: ₹{predicted_exp_value:,.2f} (R²: {r2_exp:.4f})\")\n",
    "\n",
    "# Show Plot\n",
    "fig.show()\n"
   ]
  },
  {
   "cell_type": "markdown",
   "id": "168beaf2",
   "metadata": {},
   "source": [
    "### Portfolio Value Statistical Analysis - Summary of Findings  \n",
    "\n",
    "### 1. Hypothesis Testing (One-Sample t-test)  \n",
    "- The t-statistic is 0.0000, and the p-value is 1.0000, which is much higher than 0.05.  \n",
    "- This indicates no statistically significant change in portfolio value over time.  \n",
    "- Conclusion: We fail to reject the null hypothesis (H₀), meaning the portfolio value has remained relatively stable.  \n",
    "\n",
    "### 2. OLS Regression (Linear Trend Analysis)  \n",
    "- The R² value is 0.112, meaning only 11.2% of the variation in portfolio value is explained by time.  \n",
    "- The coefficient for Days (90,040) suggests a positive trend, but the low R² indicates a weak predictive ability.  \n",
    "- Conclusion: There is a statistically significant upward trend (p < 0.05), but the model has limited explanatory power.  \n",
    "\n",
    "### 3. Polynomial Regression (5th Degree)  \n",
    "- The R² value is 0.5611, meaning 56.11% of the variation in portfolio value is captured by the model.  \n",
    "- The polynomial regression predicted the portfolio value for August 31, 2023, as ₹17,443,014.70.  \n",
    "- Conclusion: This model provides a better fit compared to OLS but may still be prone to overfitting.  \n",
    "\n",
    "### 4. Exponential Smoothing (Time Series Forecasting)  \n",
    "- The R² value is 0.5976, indicating that 59.76% of the variation is explained by this model.  \n",
    "- The predicted portfolio value for August 31, 2023, is ₹32,441,572.37.  \n",
    "- Conclusion: Exponential smoothing provides the best fit among the models tested, making it the most reliable for short-term forecasting.  \n",
    "\n",
    "### 5. Overall Insights  \n",
    "- The hypothesis test suggests no significant change in portfolio value over time.  \n",
    "- The linear trend shows a weak upward movement but lacks strong explanatory power.  \n",
    "- Polynomial regression and exponential smoothing models perform better, with exponential smoothing showing the highest predictive accuracy. \n"
   ]
  }
 ],
 "metadata": {
  "kernelspec": {
   "display_name": "base",
   "language": "python",
   "name": "python3"
  },
  "language_info": {
   "codemirror_mode": {
    "name": "ipython",
    "version": 3
   },
   "file_extension": ".py",
   "mimetype": "text/x-python",
   "name": "python",
   "nbconvert_exporter": "python",
   "pygments_lexer": "ipython3",
   "version": "3.11.7"
  }
 },
 "nbformat": 4,
 "nbformat_minor": 5
}
